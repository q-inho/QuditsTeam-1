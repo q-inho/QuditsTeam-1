{
 "cells": [
  {
   "cell_type": "code",
   "execution_count": 10,
   "metadata": {
    "collapsed": true,
    "pycharm": {
     "is_executing": false,
     "name": "#%%\n"
    }
   },
   "outputs": [
    {
     "name": "stdout",
     "text": [
      "        ┌──────┐┌─────┐┌─────┐┌─────────┐┌──────────┐┌──────────┐\n  qd_0: ┤0     ├┤0    ├┤0    ├┤0        ├┤0         ├┤0         ├\n        │      ││     ││     ││         ││          ││          │\n  qd_1: ┤1 QFT ├┤1 ZD ├┤1 ZD ├┤1 QFT_DG ├┤1 BARRIER ├┤1         ├\n        │      ││     ││     ││         ││          ││          │\n  qd_2: ┤2     ├┤2    ├┤2    ├┤2        ├┤2         ├┤2         ├\n        └──────┘└─────┘└─────┘└─────────┘└──────────┘│  MEASURE │\nmeas_0: ═════════════════════════════════════════════╡0         ╞\n                                                     │          │\nmeas_1: ═════════════════════════════════════════════╡1         ╞\n                                                     │          │\nmeas_2: ═════════════════════════════════════════════╡2         ╞\n                                                     └──────────┘\n"
     ],
     "output_type": "stream"
    },
    {
     "data": {
      "text/plain": "<Figure size 504x360 with 1 Axes>",
      "image/png": "[encoded data removed]"
     },
     "metadata": {},
     "output_type": "execute_result",
     "execution_count": 10
    }
   ],
   "source": [
    "from qiskit_qudits import QuditCircuit\n",
    "qdc = QuditCircuit([8], 0)\n",
    "qdc.xd(0, 2)\n",
    "qdc.measure_all()\n",
    "print(qdc)\n",
    "\n",
    "\n",
    "from qiskit import Aer, execute\n",
    "from qiskit.visualization import plot_histogram\n",
    "from qiskit_qudits.visualization import counts_to_quditcounts\n",
    "\n",
    "simulator = Aer.get_backend('qasm_simulator') #simulation part\n",
    "job = execute(qdc, simulator, shots=99)\n",
    "counts = job.result().get_counts()\n",
    "qd_counts = counts_to_quditcounts(qdc, counts)\n",
    "plot_histogram(qd_counts)"
   ]
  },
  {
   "cell_type": "code",
   "execution_count": 8,
   "outputs": [
    {
     "name": "stdout",
     "text": [
      "        ┌──────────┐┌──────────┐┌──────────┐   \n  qd_0: ┤0         ├┤0         ├┤0         ├───\n        │          ││          ││          │   \n  qd_1: ┤1         ├┤1 BARRIER ├┤1         ├───\n        │  LS(0,6) ││          ││          │   \n  qd_2: ┤2         ├┤2         ├┤2         ├───\n        │          │└────░─────┘│          │┌─┐\n   q_0: ┤3         ├─────░──────┤  MEASURE ├┤M├\n        └──────────┘     ░      │          │└╥┘\nmeas_0: ════════════════════════╡0         ╞═╬═\n                                │          │ ║ \nmeas_1: ════════════════════════╡1         ╞═╬═\n                                │          │ ║ \nmeas_2: ════════════════════════╡2         ╞═╬═\n                                └──────────┘ ║ \nmeas_3: ═════════════════════════════════════╩═\n                                               \n"
     ],
     "output_type": "stream"
    },
    {
     "data": {
      "text/plain": "<Figure size 504x360 with 1 Axes>",
      "image/png": "[encoded data removed]"
     },
     "metadata": {},
     "output_type": "execute_result",
     "execution_count": 8
    }
   ],
   "source": [
    "from qiskit_qudits import QuditCircuit\n",
    "qdc = QuditCircuit([7], 1, 0)\n",
    "qdc.ls(0, 0, 0, 6)\n",
    "qdc.measure_all()\n",
    "print(qdc)\n",
    "\n",
    "import numpy as np\n",
    "np.set_printoptions(linewidth=200, precision=2, suppress=True)\n",
    "from qiskit import Aer, execute\n",
    "from qiskit.visualization import plot_histogram\n",
    "from qiskit_qudits.visualization import counts_to_quditcounts\n",
    "\n",
    "simulator = Aer.get_backend('qasm_simulator') #simulation part\n",
    "job = execute(qdc, simulator, shots=99)\n",
    "counts = job.result().get_counts()\n",
    "qd_counts = counts_to_quditcounts(qdc, counts)\n",
    "plot_histogram(qd_counts)"
   ],
   "metadata": {
    "collapsed": false,
    "pycharm": {
     "name": "#%%\n",
     "is_executing": false
    }
   }
  },
  {
   "cell_type": "code",
   "execution_count": 2,
   "outputs": [
    {
     "name": "stdout",
     "text": [
      "      ┌────────────┐\nqd_0: ┤0           ├\n      │            │\nqd_1: ┤1           ├\n      │  SP(2,π/4) │\nqd_2: ┤2           ├\n      │            │\n q_0: ┤3           ├\n      └────────────┘\nAuxiliary qubit should start and end in state |0> (only look at top left of matrix)\n[[1.  +0.j   0.  +0.j   0.  +0.j   0.  +0.j   0.  +0.j   0.  +0.j   0.  +0.j   0.  +0.j  ]\n [0.  +0.j   1.  +0.j   0.  +0.j   0.  +0.j   0.  +0.j   0.  +0.j   0.  +0.j   0.  +0.j  ]\n [0.  +0.j   0.  +0.j   0.71+0.71j 0.  +0.j   0.  +0.j   0.  +0.j   0.  +0.j   0.  +0.j  ]\n [0.  +0.j   0.  +0.j   0.  +0.j   1.  +0.j   0.  +0.j   0.  +0.j   0.  +0.j   0.  +0.j  ]\n [0.  +0.j   0.  +0.j   0.  +0.j   0.  +0.j   1.  +0.j   0.  +0.j   0.  +0.j   0.  +0.j  ]\n [0.  +0.j   0.  +0.j   0.  +0.j   0.  +0.j   0.  +0.j   1.  +0.j   0.  +0.j   0.  +0.j  ]\n [0.  +0.j   0.  +0.j   0.  +0.j   0.  +0.j   0.  +0.j   0.  +0.j   1.  +0.j   0.  +0.j  ]\n [0.  +0.j   0.  +0.j   0.  +0.j   0.  +0.j   0.  +0.j   0.  +0.j   0.  +0.j   1.  +0.j  ]]\n"
     ],
     "output_type": "stream"
    }
   ],
   "source": [
    "import numpy as np\n",
    "from qiskit_qudits import QuditCircuit\n",
    "qdc = QuditCircuit([7], 1, 0)\n",
    "qdc.sp(0, 0, 2, np.pi/4)\n",
    "print(qdc)\n",
    "\n",
    "from qiskit import Aer, execute\n",
    "backend = Aer.get_backend('unitary_simulator')\n",
    "np.set_printoptions(linewidth=200, precision=2, suppress=True)\n",
    "\n",
    "job = execute(qdc, backend)\n",
    "result = job.result()\n",
    "U = result.get_unitary(qdc)\n",
    "\n",
    "N = int(U.shape[0]/2)\n",
    "print(\"Auxiliary qubit should start and end in state |0> (only look at top left of matrix)\")\n",
    "print(U[:N,:N])\n"
   ],
   "metadata": {
    "collapsed": false,
    "pycharm": {
     "name": "#%%\n",
     "is_executing": false
    }
   }
  }
 ],
 "metadata": {
  "kernelspec": {
   "name": "pycharm-125a3851",
   "language": "python",
   "display_name": "PyCharm (quantum-computing)"
  },
  "language_info": {
   "codemirror_mode": {
    "name": "ipython",
    "version": 2
   },
   "file_extension": ".py",
   "mimetype": "text/x-python",
   "name": "python",
   "nbconvert_exporter": "python",
   "pygments_lexer": "ipython2",
   "version": "2.7.6"
  },
  "pycharm": {
   "stem_cell": {
    "cell_type": "raw",
    "source": [],
    "metadata": {
     "collapsed": false
    }
   }
  }
 },
 "nbformat": 4,
 "nbformat_minor": 0
}