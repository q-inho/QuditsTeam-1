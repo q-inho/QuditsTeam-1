{
 "cells": [
  {
   "cell_type": "markdown",
   "metadata": {},
   "source": [
    "# Qiskit for qudits introduction"
   ]
  },
  {
   "cell_type": "markdown",
   "metadata": {},
   "source": [
    "To setup, install the package using \"pip -e .\"\". The html documentation is already included in \"qiskit_qudits/docs/_build/html\", so you do not need to install the requirements for the sphinx documentation tool.\n",
    "\n",
    "The main addition to qiskit is the class QuditCircuit. Alongside we created Qudit objects and the associated QuditRegister. We also created the new classes Quditinstruction and Quditgate, which can accept Qudit arguments."
   ]
  },
  {
   "cell_type": "markdown",
   "metadata": {},
   "source": [
    "## QuditRegister\n",
    "Since qudits can have dimensions different from 2 (qubits). The most important qudit representation is a list of qudit dimensions. It is analogue to the number of qubits / classical bits.\n",
    "A QuditRegister is created using these qudit dimensions."
   ]
  },
  {
   "cell_type": "code",
   "execution_count": 1,
   "metadata": {},
   "outputs": [
    {
     "data": {
      "text/plain": [
       "QuditRegister(3, 'qd')"
      ]
     },
     "execution_count": 1,
     "metadata": {},
     "output_type": "execute_result"
    }
   ],
   "source": [
    "from qiskit_qudits import QuditRegister\n",
    "\n",
    "qd = QuditRegister([2, 9, 3], name='qd')\n",
    "qd"
   ]
  },
  {
   "cell_type": "markdown",
   "metadata": {},
   "source": [
    "QuditRegisters are instances of QuantumRegisters. This is archieved by passing the number of needed Qubits to the superclass. QuditRegisters also hold a seperate list of Qudit objects, which themself hold references to their underlying Qubits. Qudits can be accessed via imaginary indices."
   ]
  },
  {
   "cell_type": "code",
   "execution_count": 2,
   "metadata": {},
   "outputs": [
    {
     "name": "stdout",
     "output_type": "stream",
     "text": [
      "True\n",
      "<class 'qiskit.circuit.quantumregister.Qubit'> <class 'qiskit_qudits.circuit.quditregister.Qudit'> <class 'qiskit.circuit.quantumregister.Qubit'>\n"
     ]
    },
    {
     "data": {
      "text/plain": [
       "[Qudit(QuditRegister(3, 'qd'), 1), Qudit(QuditRegister(3, 'qd'), 2)]"
      ]
     },
     "execution_count": 2,
     "metadata": {},
     "output_type": "execute_result"
    }
   ],
   "source": [
    "from qiskit import QuantumRegister\n",
    "\n",
    "print(isinstance(qd, QuantumRegister))\n",
    "\n",
    "print(type(qd[1]), type(qd[0j]), type(qd[0j][0]))\n",
    "qd[1j:]"
   ]
  },
  {
   "cell_type": "markdown",
   "metadata": {},
   "source": [
    "As a general rule, qudit methods or attributes either start with 'qd_' or can be accessed via imaginary indices. Qudits also hold attributes such as their dimension, or the number of underlying qubits."
   ]
  },
  {
   "cell_type": "code",
   "execution_count": 3,
   "metadata": {},
   "outputs": [
    {
     "name": "stdout",
     "output_type": "stream",
     "text": [
      "2 1\n",
      "9 4\n",
      "3 2\n"
     ]
    }
   ],
   "source": [
    "for qudit in qd.qd_iter():\n",
    "    print(qudit.dimension, qudit.size)"
   ]
  },
  {
   "cell_type": "markdown",
   "metadata": {},
   "source": [
    "## QuditCircuit"
   ]
  },
  {
   "cell_type": "markdown",
   "metadata": {},
   "source": [
    "A QuditCircuit is analog to a QuantumCircuit, like QuditRegister is to QuantumRegister. It can add qudits via a QuditRegister, a list of qudit dimensions or a list of Qudit instances. Each QuditRegister is also added as a QuantumRegister. \\\n",
    "The for non registers/bits the possibilities are: \\\n",
    "int -> QuantumRegister \\\n",
    "int, int -> QuantumRegister, ClassicalRegister \\\n",
    "list(int) -> QuditRegister \\\n",
    "list(int), int -> QuditRegister, ClassicalRegister \\\n",
    "list(int), int, int -> QuditRegister, QuantumRegister, ClassicalRegister \\\n",
    "We also allow 0 and [] as arguments for the sake of convenience, resulting in no Register created."
   ]
  },
  {
   "cell_type": "code",
   "execution_count": 4,
   "metadata": {},
   "outputs": [
    {
     "name": "stdout",
     "output_type": "stream",
     "text": [
      "[QuditRegister(3, 'qd')] [QuditRegister(3, 'qd')]\n",
      "[Qudit(QuditRegister(3, 'qd'), 0), Qudit(QuditRegister(3, 'qd'), 1), Qudit(QuditRegister(3, 'qd'), 2)]\n",
      "[Qubit(QuditRegister(7, 'qd'), 0), Qubit(QuditRegister(7, 'qd'), 1), Qubit(QuditRegister(7, 'qd'), 2), Qubit(QuditRegister(7, 'qd'), 3), Qubit(QuditRegister(7, 'qd'), 4), Qubit(QuditRegister(7, 'qd'), 5), Qubit(QuditRegister(7, 'qd'), 6)]\n",
      "[]\n"
     ]
    }
   ],
   "source": [
    "from qiskit_qudits import QuditCircuit\n",
    "\n",
    "qdc0 = QuditCircuit(qd)\n",
    "print(qdc0.qdregs, qdc0.qregs)\n",
    "print(qdc0.qudits)\n",
    "print(qdc0.qubits)\n",
    "print(qdc0.clbits)"
   ]
  },
  {
   "cell_type": "markdown",
   "metadata": {},
   "source": [
    "Qudits are ordered above qubits (which in turn are above classical bits) and should be thought of as isolated entities. Currently there is not support for qudit circuit drawings. For accessing qubit gates and instructions, the qubit indices are shifted."
   ]
  },
  {
   "cell_type": "code",
   "execution_count": 5,
   "metadata": {},
   "outputs": [
    {
     "name": "stdout",
     "output_type": "stream",
     "text": [
      "      ┌─────┐\n",
      "qd_0: ┤0    ├\n",
      "      │     │\n",
      "qd_1: ┤1 ZD ├\n",
      "      │     │\n",
      "qd_2: ┤2    ├\n",
      "      └─────┘\n",
      "qd_3: ───────\n",
      "             \n",
      "qd_4: ───────\n",
      "       ┌───┐ \n",
      " q_0: ─┤ X ├─\n",
      "       └─┬─┘ \n",
      " q_1: ───■───\n",
      "             \n",
      " c: 3/═══════\n",
      "             \n"
     ]
    },
    {
     "name": "stderr",
     "output_type": "stream",
     "text": [
      "c:\\users\\tim\\documents\\- dokumente\\code\\qudits hackathon 2021\\qiskit_qudits\\circuit\\quditcircuit.py:913: UserWarning: Qudit circuit drawer not implemented yet\n",
      "  warnings.warn(\"Qudit circuit drawer not implemented yet\")\n"
     ]
    }
   ],
   "source": [
    "qdc = QuditCircuit([5,4], 2, 3)\n",
    "qdc.zd(0)\n",
    "qdc.cx(1, 0)\n",
    "print(qdc)"
   ]
  },
  {
   "cell_type": "markdown",
   "metadata": {},
   "source": [
    "To accomadate qudits, the functions measure(), reset() and delay() now use the same arguement scheme as all other qudit instructions: Qudit arguments first, then qubits, then classical bits. "
   ]
  },
  {
   "cell_type": "code",
   "execution_count": 6,
   "metadata": {},
   "outputs": [
    {
     "name": "stdout",
     "output_type": "stream",
     "text": [
      "      ┌─────┐               \n",
      "qd_0: ┤0    ├───────────────\n",
      "      │     │               \n",
      "qd_1: ┤1 ZD ├───────────────\n",
      "      │     │               \n",
      "qd_2: ┤2    ├───────────────\n",
      "      └─────┘┌──────────┐   \n",
      "qd_3: ───────┤0         ├───\n",
      "             │          │   \n",
      "qd_4: ───────┤1         ├───\n",
      "       ┌───┐ │          │   \n",
      " q_0: ─┤ X ├─┤          ├───\n",
      "       └─┬─┘ │  MEASURE │┌─┐\n",
      " q_1: ───■───┤          ├┤M├\n",
      "             │          │└╥┘\n",
      " c_0: ═══════╡0         ╞═╬═\n",
      "             │          │ ║ \n",
      " c_1: ═══════╡1         ╞═╬═\n",
      "             └──────────┘ ║ \n",
      " c_2: ════════════════════╩═\n",
      "                            \n"
     ]
    },
    {
     "name": "stderr",
     "output_type": "stream",
     "text": [
      "C:\\Users\\Tim\\miniconda3\\envs\\qiskit\\lib\\site-packages\\qiskit\\visualization\\text.py:584: RuntimeWarning: The parameter \"cregbundle\" was disable, since an instruction needs to refer to individual classical wires\n",
      "  return \"\\n\".join(self.lines()).encode(self.encoding).decode(self.encoding)\n"
     ]
    }
   ],
   "source": [
    "qdc.measure(qdargs=1, qargs=1, cargs=qdc.clbits)\n",
    "print(qdc)"
   ]
  },
  {
   "cell_type": "markdown",
   "metadata": {},
   "source": [
    "Accessing single qubits of qudits results in an error. There is a boolean parameter \"modular_qudits\" we can give QuditCircuit upon creation to allow the access, but since qudits and their underlying \n",
    "qubits should be thought of as a single entity the parameter is false by default."
   ]
  },
  {
   "cell_type": "code",
   "execution_count": 7,
   "metadata": {},
   "outputs": [
    {
     "name": "stdout",
     "output_type": "stream",
     "text": [
      "'Given qubits contain incomplete part of a qudit.'\n"
     ]
    }
   ],
   "source": [
    "from qiskit.circuit.exceptions import CircuitError\n",
    "\n",
    "try:\n",
    "    qdc.x(qdc.qubits[0])\n",
    "except CircuitError as e:\n",
    "    print(e)"
   ]
  },
  {
   "cell_type": "markdown",
   "metadata": {},
   "source": [
    "### QuditCircuitData\n",
    "The backend data of QuditCircuits is also accessable via imaginary indices. In turn we see the the qudit context of all insructions. In the non-qudit form, rules (data elements) have their qudit arguements\n",
    "added as the underlying qubits in the qubit arguments."
   ]
  },
  {
   "cell_type": "code",
   "execution_count": 8,
   "metadata": {},
   "outputs": [
    {
     "name": "stdout",
     "output_type": "stream",
     "text": [
      "(<qiskit_qudits.circuit.gates.zd.ZDGate object at 0x00000197B707AA30>, [Qudit(QuditRegister(2, 'qd'), 0)], [], [])\n",
      "(<qiskit_qudits.circuit.gates.zd.ZDGate object at 0x00000197B707AA30>, [Qubit(QuditRegister(5, 'qd'), 0), Qubit(QuditRegister(5, 'qd'), 1), Qubit(QuditRegister(5, 'qd'), 2)], [])\n"
     ]
    }
   ],
   "source": [
    "print(qdc[0j])\n",
    "print(qdc[0])"
   ]
  },
  {
   "cell_type": "code",
   "execution_count": 9,
   "metadata": {},
   "outputs": [
    {
     "name": "stdout",
     "output_type": "stream",
     "text": [
      "<qiskit_qudits.circuit.gates.zd.ZDGate object at 0x00000197B707AA30> [Qubit(QuditRegister(5, 'qd'), 0), Qubit(QuditRegister(5, 'qd'), 1), Qubit(QuditRegister(5, 'qd'), 2)] []\n",
      "      ┌─────┐  ┌─────┐   \n",
      "qd_0: ┤0    ├──┤0    ├───\n",
      "      │     │  │     │   \n",
      "qd_1: ┤1 ZD ├──┤1 ZD ├───\n",
      "      │     │  │     │   \n",
      "qd_2: ┤2    ├──┤2    ├───\n",
      "      └─────┘┌─┴─────┴──┐\n",
      "qd_3: ───────┤0         ├\n",
      "             │          │\n",
      "qd_4: ───────┤1         ├\n",
      "       ┌───┐ │          │\n",
      " q_0: ─┤ X ├─┤          ├\n",
      "       └─┬─┘ │  MEASURE │\n",
      " q_1: ───■───┤          ├\n",
      "             │          │\n",
      " c_0: ═══════╡0         ╞\n",
      "             │          │\n",
      " c_1: ═══════╡1         ╞\n",
      "             └──────────┘\n",
      " c_2: ═══════════════════\n",
      "                         \n"
     ]
    }
   ],
   "source": [
    "qdc.data[-1] = qdc.data[0]\n",
    "print(qdc)"
   ]
  },
  {
   "cell_type": "markdown",
   "metadata": {},
   "source": [
    "Internally there also exist two methods for appendending gates / instructions. The regular append() and qd_append() which takes qudit arguements and qubit arguements seperatly."
   ]
  },
  {
   "cell_type": "markdown",
   "metadata": {},
   "source": [
    "### Circuit methods"
   ]
  },
  {
   "cell_type": "markdown",
   "metadata": {},
   "source": [
    "Nearly all QuantumCircuit methods exist for QuditCircuits as well (one notable exception being decompose and dag-methods)."
   ]
  },
  {
   "cell_type": "code",
   "execution_count": 10,
   "metadata": {},
   "outputs": [
    {
     "name": "stdout",
     "output_type": "stream",
     "text": [
      "circ1 ----------------------------------------\n",
      "           ┌─────┐┌──────────┐   ┌──────────┐      \n",
      "     qd_0: ┤0    ├┤0         ├───┤0         ├──────\n",
      "           │     ││          │   │          │      \n",
      "     qd_1: ┤1 ZD ├┤1 BARRIER ├───┤1         ├──────\n",
      "           │     ││          │   │          │      \n",
      "     qd_2: ┤2    ├┤2         ├───┤2         ├──────\n",
      "           └─────┘└──────────┘   │          │      \n",
      "     qd_3: ──────────────────────┤          ├──────\n",
      "                                 │          │      \n",
      "     qd_4: ──────────────────────┤          ├──────\n",
      "                                 │          │      \n",
      "     qd_5: ──────────────────────┤  MEASURE ├──────\n",
      "            ┌───┐    ┌───┐     ░ │          │┌─┐   \n",
      "      q_0: ─┤ X ├────┤ Y ├─────░─┤          ├┤M├───\n",
      "            └───┘    └─┬─┘     ░ │          │└╥┘┌─┐\n",
      "      q_1: ────────────■───────░─┤          ├─╫─┤M├\n",
      "                               ░ │          │ ║ └╥┘\n",
      "measure_0: ══════════════════════╡0         ╞═╬══╬═\n",
      "                                 │          │ ║  ║ \n",
      "measure_1: ══════════════════════╡1         ╞═╬══╬═\n",
      "                                 │          │ ║  ║ \n",
      "measure_2: ══════════════════════╡2         ╞═╬══╬═\n",
      "                                 └──────────┘ ║  ║ \n",
      "measure_3: ═══════════════════════════════════╩══╬═\n",
      "                                                 ║ \n",
      "measure_4: ══════════════════════════════════════╩═\n",
      "                                                   \n",
      "circ2 ----------------------------------------\n",
      "       ┌────┐   \n",
      "qd_0: ─┤ ZD ├───\n",
      "      ┌┴────┤   \n",
      "qd_1: ┤0    ├───\n",
      "      │  ZD │   \n",
      "qd_2: ┤1    ├───\n",
      "      └┬───┬┘┌─┐\n",
      " q_0: ─┤ Y ├─┤M├\n",
      "       └───┘ └╥┘\n",
      " c: 1/════════╩═\n",
      "              0 \n",
      "composition ----------------------------------\n",
      "           ┌─────┐┌──────────┐     ┌──────────┐         \n",
      "     qd_0: ┤0    ├┤0         ├─────┤0         ├─────────\n",
      "           │     ││          │     │          │         \n",
      "     qd_1: ┤1 ZD ├┤1 BARRIER ├─────┤1         ├─────────\n",
      "           │     ││          │     │          │         \n",
      "     qd_2: ┤2    ├┤2         ├─────┤2         ├─────────\n",
      "           ├─────┤└──────────┘     │          │         \n",
      "     qd_3: ┤0    ├─────────────────┤          ├─────────\n",
      "           │  ZD │                 │          │         \n",
      "     qd_4: ┤1    ├─────────────────┤          ├─────────\n",
      "           └┬────┤                 │          │         \n",
      "     qd_5: ─┤ ZD ├─────────────────┤  MEASURE ├─────────\n",
      "            ├───┬┘            ┌───┐│          │ ░ ┌─┐   \n",
      "      q_0: ─┤ X ├─────────────┤ Y ├┤          ├─░─┤M├───\n",
      "            ├───┤     ┌─┐     └─┬─┘│          │ ░ └╥┘┌─┐\n",
      "      q_1: ─┤ Y ├─────┤M├───────■──┤          ├─░──╫─┤M├\n",
      "            └───┘     └╥┘          │          │ ░  ║ └╥┘\n",
      "measure_0: ════════════╩═══════════╡0         ╞════╬══╬═\n",
      "                                   │          │    ║  ║ \n",
      "measure_1: ════════════════════════╡1         ╞════╬══╬═\n",
      "                                   │          │    ║  ║ \n",
      "measure_2: ════════════════════════╡2         ╞════╬══╬═\n",
      "                                   └──────────┘    ║  ║ \n",
      "measure_3: ════════════════════════════════════════╩══╬═\n",
      "                                                      ║ \n",
      "measure_4: ═══════════════════════════════════════════╩═\n",
      "                                                        \n",
      "tensor ---------------------------------------\n",
      "       ┌────┐                                      \n",
      "qd_0: ─┤ ZD ├──────────────────────────────────────\n",
      "      ┌┴────┤                                      \n",
      "qd_1: ┤0    ├──────────────────────────────────────\n",
      "      │  ZD │                                      \n",
      "qd_2: ┤1    ├──────────────────────────────────────\n",
      "      ├─────┤┌──────────┐        ┌──────────┐      \n",
      "qd_3: ┤0    ├┤0         ├────────┤0         ├──────\n",
      "      │     ││          │        │          │      \n",
      "qd_4: ┤1 ZD ├┤1 BARRIER ├────────┤1         ├──────\n",
      "      │     ││          │        │          │      \n",
      "qd_5: ┤2    ├┤2         ├────────┤2         ├──────\n",
      "      └─────┘└──────────┘        │          │      \n",
      "qd_6: ───────────────────────────┤          ├──────\n",
      "                                 │          │      \n",
      "qd_7: ───────────────────────────┤          ├──────\n",
      "                                 │          │      \n",
      "qd_8: ───────────────────────────┤          ├──────\n",
      "       ┌───┐     ┌─┐             │          │      \n",
      " q_0: ─┤ Y ├─────┤M├─────────────┤  MEASURE ├──────\n",
      "       ├───┤     └╥┘     ┌───┐ ░ │          │┌─┐   \n",
      " q_1: ─┤ X ├──────╫──────┤ Y ├─░─┤          ├┤M├───\n",
      "       └───┘      ║      └─┬─┘ ░ │          │└╥┘┌─┐\n",
      " q_2: ────────────╫────────■───░─┤          ├─╫─┤M├\n",
      "                  ║            ░ │          │ ║ └╥┘\n",
      " c_0: ════════════╩══════════════╡          ╞═╬══╬═\n",
      "                                 │          │ ║  ║ \n",
      " c_1: ═══════════════════════════╡0         ╞═╬══╬═\n",
      "                                 │          │ ║  ║ \n",
      " c_2: ═══════════════════════════╡1         ╞═╬══╬═\n",
      "                                 │          │ ║  ║ \n",
      " c_3: ═══════════════════════════╡2         ╞═╬══╬═\n",
      "                                 └──────────┘ ║  ║ \n",
      " c_4: ════════════════════════════════════════╩══╬═\n",
      "                                                 ║ \n",
      " c_5: ═══════════════════════════════════════════╩═\n",
      "                                                   \n"
     ]
    }
   ],
   "source": [
    "qdc1 = QuditCircuit([5, 3, 2], 2, 0, name='circ1')\n",
    "qdc1.zd(0)\n",
    "qdc1.x(0)\n",
    "qdc1.cy(1,0)\n",
    "qdc1.measure_active()\n",
    "print(\"circ1 ----------------------------------------\")\n",
    "print(qdc1)\n",
    "\n",
    "qdc2 = QuditCircuit([2, 3], 1, 1, name='circ2')\n",
    "qdc2.zd([0,1])\n",
    "qdc2.y(0)\n",
    "qdc2.measure(qargs=0, cargs=0)\n",
    "print(\"circ2 ----------------------------------------\")\n",
    "print(qdc2)\n",
    "\n",
    "qdc3 = qdc1.compose(qdc2, [2, 1], [1], front=True)\n",
    "print(\"composition ----------------------------------\")\n",
    "print(qdc3)\n",
    "\n",
    "qdc4 = qdc1.tensor(qdc2)\n",
    "print(\"tensor ---------------------------------------\")\n",
    "print(qdc4)"
   ]
  },
  {
   "cell_type": "markdown",
   "metadata": {},
   "source": [
    "### New gates\n",
    "There are several new gates (and their adjoints), which can only be used on qudits. The generalization of the X gate is currently implemented as a concatination of QFT and the generalized Z gate. And takes an parameter describing the level difference."
   ]
  },
  {
   "cell_type": "code",
   "execution_count": 11,
   "metadata": {
    "pycharm": {
     "is_executing": false,
     "name": "#%%\n"
    },
    "tags": []
   },
   "outputs": [
    {
     "name": "stdout",
     "output_type": "stream",
     "text": [
      "        ┌──────┐┌─────┐┌─────┐┌─────────┐┌──────────┐┌──────────┐\n",
      "  qd_0: ┤0     ├┤0    ├┤0    ├┤0        ├┤0         ├┤0         ├\n",
      "        │      ││     ││     ││         ││          ││          │\n",
      "  qd_1: ┤1 QFT ├┤1 ZD ├┤1 ZD ├┤1 QFT_DG ├┤1 BARRIER ├┤1         ├\n",
      "        │      ││     ││     ││         ││          ││          │\n",
      "  qd_2: ┤2     ├┤2    ├┤2    ├┤2        ├┤2         ├┤2         ├\n",
      "        └┬───┬─┘└──░──┘└─┬─┬─┘└─────────┘└──────────┘│          │\n",
      "   q_0: ─┤ H ├─────░─────┤M├─────────────────────────┤  MEASURE ├\n",
      "         └───┘     ░     └╥┘                         │          │\n",
      "meas_0: ══════════════════╬══════════════════════════╡0         ╞\n",
      "                          ║                          │          │\n",
      "meas_1: ══════════════════╬══════════════════════════╡1         ╞\n",
      "                          ║                          │          │\n",
      "meas_2: ══════════════════╬══════════════════════════╡2         ╞\n",
      "                          ║                          └──────────┘\n",
      "meas_3: ══════════════════╩══════════════════════════════════════\n",
      "                                                                 \n"
     ]
    }
   ],
   "source": [
    "qdc = QuditCircuit([8], 1, 0)\n",
    "qdc.xd(0, 2)\n",
    "qdc.h(0)\n",
    "qdc.measure_all()\n",
    "print(qdc)"
   ]
  },
  {
   "cell_type": "markdown",
   "metadata": {},
   "source": [
    "Some convenience methods were added, like conversion tools or a method to reinterpret the counts dictionary of the Aer simulator with decimal numbers for higher levels. The padding character can be choosen."
   ]
  },
  {
   "cell_type": "code",
   "execution_count": 12,
   "metadata": {},
   "outputs": [
    {
     "data": {
      "image/png": "[encoded data removed]",
      "text/plain": [
       "<Figure size 504x360 with 1 Axes>"
      ]
     },
     "execution_count": 12,
     "metadata": {},
     "output_type": "execute_result"
    }
   ],
   "source": [
    "from qiskit import Aer, execute\n",
    "from qiskit.visualization import plot_histogram\n",
    "from qiskit_qudits.visualization import counts_to_quditcounts\n",
    "\n",
    "simulator = Aer.get_backend('qasm_simulator')\n",
    "job = execute(qdc, simulator, shots=100)\n",
    "counts = job.result().get_counts()\n",
    "qd_counts = counts_to_quditcounts(qdc, counts, '+')\n",
    "plot_histogram(qd_counts)"
   ]
  },
  {
   "cell_type": "markdown",
   "metadata": {},
   "source": [
    "Here we have a level switch gates, which uses an auxiliary qubit to exchange to levels."
   ]
  },
  {
   "cell_type": "code",
   "execution_count": 13,
   "metadata": {
    "collapsed": false,
    "jupyter": {
     "outputs_hidden": false
    },
    "pycharm": {
     "is_executing": false,
     "name": "#%%\n"
    }
   },
   "outputs": [
    {
     "name": "stdout",
     "output_type": "stream",
     "text": [
      "        ┌──────────┐┌──────────┐┌──────────┐┌──────────┐   \n",
      "  qd_0: ┤0         ├┤0         ├┤0         ├┤0         ├───\n",
      "        │          ││          ││          ││          │   \n",
      "  qd_1: ┤1         ├┤1         ├┤1 BARRIER ├┤1         ├───\n",
      "        │  LS(0,2) ││  LS(2,6) ││          ││          │   \n",
      "  qd_2: ┤2         ├┤2         ├┤2         ├┤2         ├───\n",
      "        │          ││          │└────░─────┘│          │┌─┐\n",
      "   q_0: ┤3         ├┤3         ├─────░──────┤  MEASURE ├┤M├\n",
      "        └──────────┘└──────────┘     ░      │          │└╥┘\n",
      "meas_0: ════════════════════════════════════╡0         ╞═╬═\n",
      "                                            │          │ ║ \n",
      "meas_1: ════════════════════════════════════╡1         ╞═╬═\n",
      "                                            │          │ ║ \n",
      "meas_2: ════════════════════════════════════╡2         ╞═╬═\n",
      "                                            └──────────┘ ║ \n",
      "meas_3: ═════════════════════════════════════════════════╩═\n",
      "                                                           \n"
     ]
    },
    {
     "name": "stderr",
     "output_type": "stream",
     "text": [
      "c:\\users\\tim\\documents\\- dokumente\\code\\qudits hackathon 2021\\qiskit_qudits\\circuit\\quditcircuit.py:913: UserWarning: Qudit circuit drawer not implemented yet\n",
      "  warnings.warn(\"Qudit circuit drawer not implemented yet\")\n",
      "C:\\Users\\Tim\\miniconda3\\envs\\qiskit\\lib\\site-packages\\qiskit\\visualization\\text.py:584: RuntimeWarning: The parameter \"cregbundle\" was disable, since an instruction needs to refer to individual classical wires\n",
      "  return \"\\n\".join(self.lines()).encode(self.encoding).decode(self.encoding)\n"
     ]
    },
    {
     "data": {
      "image/png": "[encoded data removed]",
      "text/plain": [
       "<Figure size 504x360 with 1 Axes>"
      ]
     },
     "execution_count": 13,
     "metadata": {},
     "output_type": "execute_result"
    }
   ],
   "source": [
    "qdc = QuditCircuit([7], 1, 0)\n",
    "qdc.ls(0, 0, 0, 2)\n",
    "qdc.ls(0, 0, 2, 6)\n",
    "qdc.measure_all()\n",
    "print(qdc)\n",
    "\n",
    "simulator = Aer.get_backend('qasm_simulator')\n",
    "job = execute(qdc, simulator, shots=99)\n",
    "counts = job.result().get_counts()\n",
    "qd_counts = counts_to_quditcounts(qdc, counts)\n",
    "plot_histogram(qd_counts)"
   ]
  },
  {
   "cell_type": "markdown",
   "metadata": {},
   "source": [
    "This gate adds a phase to a single level."
   ]
  },
  {
   "cell_type": "code",
   "execution_count": 14,
   "metadata": {
    "collapsed": false,
    "jupyter": {
     "outputs_hidden": false
    },
    "pycharm": {
     "is_executing": false,
     "name": "#%%\n"
    }
   },
   "outputs": [
    {
     "name": "stdout",
     "output_type": "stream",
     "text": [
      "      ┌────────────┐\n",
      "qd_0: ┤0           ├\n",
      "      │            │\n",
      "qd_1: ┤1           ├\n",
      "      │  SP(2,π/4) │\n",
      "qd_2: ┤2           ├\n",
      "      │            │\n",
      " q_0: ┤3           ├\n",
      "      └────────────┘\n",
      "Auxiliary qubit should start and end in state |0> (only look at top left of matrix)\n",
      "[[1.  +0.j   0.  +0.j   0.  +0.j   0.  +0.j   0.  +0.j   0.  +0.j   0.  +0.j   0.  +0.j  ]\n",
      " [0.  +0.j   1.  +0.j   0.  +0.j   0.  +0.j   0.  +0.j   0.  +0.j   0.  +0.j   0.  +0.j  ]\n",
      " [0.  +0.j   0.  +0.j   0.71+0.71j 0.  +0.j   0.  +0.j   0.  +0.j   0.  +0.j   0.  +0.j  ]\n",
      " [0.  +0.j   0.  +0.j   0.  +0.j   1.  +0.j   0.  +0.j   0.  +0.j   0.  +0.j   0.  +0.j  ]\n",
      " [0.  +0.j   0.  +0.j   0.  +0.j   0.  +0.j   1.  +0.j   0.  +0.j   0.  +0.j   0.  +0.j  ]\n",
      " [0.  +0.j   0.  +0.j   0.  +0.j   0.  +0.j   0.  +0.j   1.  +0.j   0.  +0.j   0.  +0.j  ]\n",
      " [0.  +0.j   0.  +0.j   0.  +0.j   0.  +0.j   0.  +0.j   0.  +0.j   1.  +0.j   0.  +0.j  ]\n",
      " [0.  +0.j   0.  +0.j   0.  +0.j   0.  +0.j   0.  +0.j   0.  +0.j   0.  +0.j   1.  +0.j  ]]\n"
     ]
    }
   ],
   "source": [
    "import numpy as np\n",
    "np.set_printoptions(linewidth=200, precision=2, suppress=True)\n",
    "\n",
    "qdc = QuditCircuit([7], 1, 0)\n",
    "qdc.sp(0, 0, 2, np.pi/4)\n",
    "print(qdc)\n",
    "\n",
    "backend = Aer.get_backend('unitary_simulator')\n",
    "\n",
    "job = execute(qdc, backend)\n",
    "result = job.result()\n",
    "U = result.get_unitary(qdc)\n",
    "\n",
    "N = int(U.shape[0]/2)\n",
    "print(\"Auxiliary qubit should start and end in state |0> (only look at top left of matrix)\")\n",
    "print(U[:N,:N])\n"
   ]
  },
  {
   "cell_type": "markdown",
   "metadata": {},
   "source": [
    "## More features can be found in the qiskit_qudits/test folder and in the documentation."
   ]
  }
 ],
 "metadata": {
  "kernelspec": {
   "display_name": "PyCharm (quantum-computing)",
   "language": "python",
   "name": "pycharm-125a3851"
  },
  "language_info": {
   "codemirror_mode": {
    "name": "ipython",
    "version": 3
   },
   "file_extension": ".py",
   "mimetype": "text/x-python",
   "name": "python",
   "nbconvert_exporter": "python",
   "pygments_lexer": "ipython3",
   "version": "3.9.4"
  },
  "pycharm": {
   "stem_cell": {
    "cell_type": "raw",
    "source": [],
    "metadata": {
     "collapsed": false
    }
   }
  }
 },
 "nbformat": 4,
 "nbformat_minor": 4
}