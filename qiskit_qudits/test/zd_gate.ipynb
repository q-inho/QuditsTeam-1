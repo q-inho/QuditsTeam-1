{
 "cells": [
  {
   "cell_type": "code",
   "execution_count": 2,
   "id": "e9a6e843-9e26-49e5-951f-b2664676a6ba",
   "metadata": {},
   "outputs": [],
   "source": [
    "from qiskit import *\n",
    "from qiskit import Aer\n",
    "backend = Aer.get_backend('unitary_simulator')\n",
    "import numpy as np\n",
    "np.set_printoptions(linewidth=200, precision=3, suppress=True)"
   ]
  },
  {
   "cell_type": "code",
   "execution_count": 3,
   "id": "eafa6bb8-4f6e-4dde-a55b-06dc351efdf7",
   "metadata": {},
   "outputs": [],
   "source": [
    "qudit_dimensions = [6] #later an given arguement\n",
    "qd_size = int(np.ceil(np.log2(qudit_dimensions[0]))) #later not needed\n",
    "\n",
    "qd = QuantumRegister(qd_size) #later replaced with QuditRegister(qudit_dimensions)\n",
    "qdc = QuantumCircuit(qd) #later replaced with QuditCircuit(qd)\n",
    "\n",
    "w = 2*np.pi/qudit_dimensions[0]\n",
    "for i in range(qd.size):\n",
    "    qdc.rz(w*2**(qd.size-i+1), qd[qd.size-i-1]) #qd for multiple qudits (here not the case) will need qd[qudit_nr][qubit_nr]. qd[x] == qd[0][x]"
   ]
  },
  {
   "cell_type": "code",
   "execution_count": 4,
   "id": "711af75e-632e-419a-bc56-515d565f3b8b",
   "metadata": {},
   "outputs": [
    {
     "name": "stdout",
     "output_type": "stream",
     "text": [
      "[ 1. +0.j     0.5+0.866j -0.5+0.866j -1. +0.j    -0.5-0.866j  0.5-0.866j  1. -0.j     0.5+0.866j]\n",
      "[[ 1. -0.j    -0. +0.j    -0. +0.j    -0. +0.j    -0. +0.j    -0. +0.j    -0. +0.j    -0. +0.j   ]\n",
      " [-0. -0.j    -0.5-0.866j -0. -0.j    -0. -0.j    -0. -0.j    -0. -0.j    -0. -0.j    -0. -0.j   ]\n",
      " [-0. -0.j    -0. -0.j    -0.5+0.866j -0. -0.j    -0. -0.j    -0. -0.j    -0. -0.j    -0. -0.j   ]\n",
      " [-0. +0.j    -0. +0.j    -0. +0.j     1. -0.j    -0. +0.j    -0. +0.j    -0. +0.j    -0. +0.j   ]\n",
      " [-0. -0.j    -0. -0.j    -0. -0.j    -0. -0.j    -0.5-0.866j -0. -0.j    -0. -0.j    -0. -0.j   ]\n",
      " [-0. -0.j    -0. -0.j    -0. -0.j    -0. -0.j    -0. -0.j    -0.5+0.866j -0. -0.j    -0. -0.j   ]\n",
      " [-0. +0.j    -0. +0.j    -0. +0.j    -0. +0.j    -0. +0.j    -0. +0.j     1. -0.j    -0. +0.j   ]\n",
      " [-0. -0.j    -0. -0.j    -0. -0.j    -0. -0.j    -0. -0.j    -0. -0.j    -0. -0.j    -0.5-0.866j]]\n"
     ]
    },
    {
     "data": {
      "image/png": "[encoded data removed]",
      "text/plain": [
       "<Figure size 159.778x204.68 with 1 Axes>"
      ]
     },
     "execution_count": 4,
     "metadata": {},
     "output_type": "execute_result"
    }
   ],
   "source": [
    "job = execute(qdc, backend)\n",
    "result = job.result()\n",
    "U = result.get_unitary(qdc)\n",
    "U = U/U[0,0] #norming global phase\n",
    "print(np.round(np.exp(1j*w)**np.arange(2**qd.size), decimals=3))\n",
    "print(U)\n",
    "qdc.draw(output=\"mpl\")"
   ]
  },
  {
   "cell_type": "code",
   "execution_count": 8,
   "id": "5681512c-f2c7-469e-b62a-e30132bfe88b",
   "metadata": {},
   "outputs": [
    {
     "ename": "TypeError",
     "evalue": "unsupported operand type(s) for +: 'slice' and 'int'",
     "output_type": "error",
     "traceback": [
      "\u001b[1;31m---------------------------------------------------------------------------\u001b[0m",
      "\u001b[1;31mTypeError\u001b[0m                                 Traceback (most recent call last)",
      "\u001b[1;32m<ipython-input-8-05560543d980>\u001b[0m in \u001b[0;36m<module>\u001b[1;34m\u001b[0m\n\u001b[1;32m----> 1\u001b[1;33m \u001b[0mslice\u001b[0m\u001b[1;33m(\u001b[0m\u001b[1;36m3\u001b[0m\u001b[1;33m,\u001b[0m\u001b[1;36m4\u001b[0m\u001b[1;33m,\u001b[0m\u001b[1;36m5\u001b[0m\u001b[1;33m)\u001b[0m \u001b[1;33m+\u001b[0m\u001b[1;36m1\u001b[0m\u001b[1;33m\u001b[0m\u001b[1;33m\u001b[0m\u001b[0m\n\u001b[0m",
      "\u001b[1;31mTypeError\u001b[0m: unsupported operand type(s) for +: 'slice' and 'int'"
     ]
    }
   ],
   "source": [
    "slice(3,4,5) +1"
   ]
  }
 ],
 "metadata": {
  "kernelspec": {
   "display_name": "PyCharm (quantum-computing)",
   "language": "python",
   "name": "pycharm-125a3851"
  },
  "language_info": {
   "codemirror_mode": {
    "name": "ipython",
    "version": 3
   },
   "file_extension": ".py",
   "mimetype": "text/x-python",
   "name": "python",
   "nbconvert_exporter": "python",
   "pygments_lexer": "ipython3",
   "version": "3.9.4"
  }
 },
 "nbformat": 4,
 "nbformat_minor": 5
}
