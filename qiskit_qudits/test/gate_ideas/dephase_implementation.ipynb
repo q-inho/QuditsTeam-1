{
 "cells": [
  {
   "cell_type": "code",
   "execution_count": 6,
   "metadata": {
    "collapsed": true,
    "pycharm": {
     "is_executing": false
    }
   },
   "outputs": [
    {
     "name": "stdout",
     "text": [
      "       ┌───┐     ┌───┐           ┌───┐                     ┌───┐\nq60_0: ┤ X ├──■──┤ X ├─■─────────┤ X ├──────────────────■──┤ X ├\n       └───┘  │  └───┘ │         └───┘                  │  └───┘\nq60_1: ───────■────────┼────────■───────────────────────■───────\n       ┌───┐  │  ┌───┐ │        │                ┌───┐  │  ┌───┐\nq60_2: ┤ X ├──■──┤ X ├─┼────────┼────────■───────┤ X ├──■──┤ X ├\n       └───┘┌─┴─┐└───┘ │P(π/2)  │P(π/2)  │P(π/2) └───┘┌─┴─┐└───┘\nq60_3: ─────┤ X ├──────■────────■────────■────────────┤ X ├─────\n            └───┘                                     └───┘     \nAuxiliary qubit should start and end in state |0> (only look at top left of matrix)\n[[1.+0.j 0.+0.j 0.+0.j 0.+0.j 0.+0.j 0.+0.j 0.+0.j 0.+0.j]\n [0.+0.j 1.+0.j 0.+0.j 0.+0.j 0.+0.j 0.+0.j 0.+0.j 0.+0.j]\n [0.+0.j 0.+0.j 0.+1.j 0.+0.j 0.+0.j 0.+0.j 0.+0.j 0.+0.j]\n [0.+0.j 0.+0.j 0.+0.j 1.+0.j 0.+0.j 0.+0.j 0.+0.j 0.+0.j]\n [0.+0.j 0.+0.j 0.+0.j 0.+0.j 1.+0.j 0.+0.j 0.+0.j 0.+0.j]\n [0.+0.j 0.+0.j 0.+0.j 0.+0.j 0.+0.j 1.+0.j 0.+0.j 0.+0.j]\n [0.+0.j 0.+0.j 0.+0.j 0.+0.j 0.+0.j 0.+0.j 1.+0.j 0.+0.j]\n [0.+0.j 0.+0.j 0.+0.j 0.+0.j 0.+0.j 0.+0.j 0.+0.j 1.+0.j]]\n"
     ],
     "output_type": "stream"
    }
   ],
   "source": [
    "# This code is from Qiskit Hackathon 2021 by the team\n",
    "# Qiskit for high dimensional multipartite quantum states.\n",
    "#\n",
    "# Author: Hoang Van Do\n",
    "#\n",
    "# (C) Copyright 2021 Hoang Van Do, Tim Alexis Körner, Inho Choi, Timothé Presles and Élie Gouzien.\n",
    "#\n",
    "# This code is licensed under the Apache License, Version 2.0. You may\n",
    "# obtain a copy of this license in the LICENSE.txt file in the root directory\n",
    "# of this source tree or at http://www.apache.org/licenses/LICENSE-2.0.\n",
    "#\n",
    "# Any modifications or derivative works of this code must retain this\n",
    "# copyright notice, and modified files need to carry a notice indicating\n",
    "# that they have been altered from the originals.\n",
    "\n",
    "import numpy as np\n",
    "from qiskit import QuantumCircuit, QuantumRegister\n",
    "from qiskit.exceptions import QiskitError\n",
    "\n",
    "#Dephasing to m level. The inverse of the dephasing function would be giving the opposite phase Dephasing(m,-phase,dimension)\n",
    "def singlephase(m, phase, dimension):\n",
    "    if m > dimension:\n",
    "        raise QiskitError('The level is higher than the dimension')\n",
    "    n=int(np.ceil(np.log2(dimension)))\n",
    "    qubits=QuantumRegister(n+1)\n",
    "    circuit=QuantumCircuit(qubits)\n",
    "    marray=[]\n",
    "    for i in range(0,n): #bit decomposition\n",
    "        if (( m >>  i) & 1) != 1 :\n",
    "            marray.append(i)\n",
    "    control_qubits=[]\n",
    "    for i in range(0,n):\n",
    "        control_qubits.append([i])\n",
    "    target_qubit=[n]\n",
    "    #check if m\n",
    "    if len(marray)>0:\n",
    "        circuit.x(marray)\n",
    "        circuit.mcx(control_qubits,target_qubit)\n",
    "        circuit.x(marray)\n",
    "    for i in range(0,n):\n",
    "        circuit.cp(phase,n,i)\n",
    "    if len(marray)>0:\n",
    "        #check if m, put back auxiliary qubit\n",
    "        circuit.x(marray)\n",
    "        circuit.mcx(control_qubits,target_qubit)\n",
    "        circuit.x(marray)\n",
    "    return circuit\n",
    "\n",
    "from qiskit import Aer, execute\n",
    "backend = Aer.get_backend('unitary_simulator')\n",
    "np.set_printoptions(linewidth=200, precision=2, suppress=True)\n",
    "\n",
    "qc = singlephase(2, np.pi/2, 8)\n",
    "print(qc)\n",
    "job = execute(qc, backend)\n",
    "result = job.result()\n",
    "U = result.get_unitary(qc)\n",
    "\n",
    "N = int(U.shape[0]/2)\n",
    "print(\"Auxiliary qubit should start and end in state |0> (only look at top left of matrix)\")\n",
    "print(U[:N,:N])\n"
   ]
  }
 ],
 "metadata": {
  "kernelspec": {
   "display_name": "Python 3",
   "language": "python",
   "name": "python3"
  },
  "language_info": {
   "codemirror_mode": {
    "name": "ipython",
    "version": 2
   },
   "file_extension": ".py",
   "mimetype": "text/x-python",
   "name": "python",
   "nbconvert_exporter": "python",
   "pygments_lexer": "ipython2",
   "version": "2.7.6"
  },
  "pycharm": {
   "stem_cell": {
    "cell_type": "raw",
    "source": [],
    "metadata": {
     "collapsed": false
    }
   }
  }
 },
 "nbformat": 4,
 "nbformat_minor": 0
}