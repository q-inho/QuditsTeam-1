{
 "cells": [
  {
   "cell_type": "code",
   "execution_count": 3,
   "metadata": {
    "collapsed": true,
    "pycharm": {
     "is_executing": false
    }
   },
   "outputs": [
    {
     "name": "stdout",
     "text": [
      "       ┌───┐     ┌───┐               ┌───┐┌───┐     ┌───┐               \nq12_0: ┤ X ├──■──┤ X ├───────■───────┤ X ├┤ X ├──■──┤ X ├───────■───────\n       └───┘  │  └───┘       │       └─┬─┘└───┘  │  └───┘       │       \nq12_1: ───────■──────────────■─────────┼─────────■──────────────■───────\n       ┌───┐  │  ┌───┐┌───┐  │  ┌───┐  │  ┌───┐  │  ┌───┐┌───┐  │  ┌───┐\nq12_2: ┤ X ├──■──┤ X ├┤ X ├──■──┤ X ├──┼──┤ X ├──■──┤ X ├┤ X ├──■──┤ X ├\n       └───┘┌─┴─┐└───┘└───┘┌─┴─┐└───┘  │  └───┘┌─┴─┐└───┘└───┘┌─┴─┐└───┘\n a1_0: ─────┤ X ├──────────┤ X ├───────■───────┤ X ├──────────┤ X ├─────\n            └───┘          └───┘               └───┘          └───┘     \nAuxiliary qubit should start and end in state |0> (only look at top left of matrix)\n[[1.+0.j 0.+0.j 0.+0.j 0.+0.j 0.+0.j 0.+0.j 0.+0.j 0.+0.j]\n [0.+0.j 1.+0.j 0.+0.j 0.+0.j 0.+0.j 0.+0.j 0.+0.j 0.+0.j]\n [0.+0.j 0.+0.j 0.+0.j 1.+0.j 0.+0.j 0.+0.j 0.+0.j 0.+0.j]\n [0.+0.j 0.+0.j 1.+0.j 0.+0.j 0.+0.j 0.+0.j 0.+0.j 0.+0.j]\n [0.+0.j 0.+0.j 0.+0.j 0.+0.j 1.+0.j 0.+0.j 0.+0.j 0.+0.j]\n [0.+0.j 0.+0.j 0.+0.j 0.+0.j 0.+0.j 1.+0.j 0.+0.j 0.+0.j]\n [0.+0.j 0.+0.j 0.+0.j 0.+0.j 0.+0.j 0.+0.j 1.+0.j 0.+0.j]\n [0.+0.j 0.+0.j 0.+0.j 0.+0.j 0.+0.j 0.+0.j 0.+0.j 1.+0.j]]\n"
     ],
     "output_type": "stream"
    }
   ],
   "source": [
    "# This code is from Qiskit Hackathon 2021 by the team\n",
    "# Qiskit for high dimensional multipartite quantum states.\n",
    "#\n",
    "# Author: Hoang Van Do\n",
    "#\n",
    "# (C) Copyright 2021 Hoang Van Do, Tim Alexis Körner, Inho Choi, Timothé Presles and Élie Gouzien.\n",
    "#\n",
    "# This code is licensed under the Apache License, Version 2.0. You may\n",
    "# obtain a copy of this license in the LICENSE.txt file in the root directory\n",
    "# of this source tree or at http://www.apache.org/licenses/LICENSE-2.0.\n",
    "#\n",
    "# Any modifications or derivative works of this code must retain this\n",
    "# copyright notice, and modified files need to carry a notice indicating\n",
    "# that they have been altered from the originals.\n",
    "\n",
    "import numpy as np\n",
    "from qiskit import QuantumCircuit, QuantumRegister, AncillaRegister\n",
    "from qiskit.exceptions import QiskitError\n",
    "\n",
    "#Pi coupling between m and l level. The inverse of the LevelsSwitch function is itself\n",
    "def level_switch(m, l, dimension):\n",
    "    if m > dimension or l > dimension:\n",
    "        raise QiskitError('The level is higher than the dimension')\n",
    "    n=int(np.ceil(np.log2(dimension)))\n",
    "    qreg =QuantumRegister(n)\n",
    "    areg = AncillaRegister(1)\n",
    "    circuit=QuantumCircuit(qreg, areg)\n",
    "    control_qubits = qreg[:]\n",
    "    target_qubit = areg[0]\n",
    "\n",
    "    #save indices of qubits which are 1 for states m, l\n",
    "    marray=[]\n",
    "    larray=[]\n",
    "    for i in range(n):\n",
    "        if (m >>  i) & 1 != 1:\n",
    "            marray.append(i)\n",
    "    for i in range(n):\n",
    "        if (l >>  i) & 1 != 1:\n",
    "            larray.append(i)\n",
    "\n",
    "    #control on m, l\n",
    "    if len(marray)>0:\n",
    "        circuit.x(marray)\n",
    "    circuit.mcx(control_qubits,target_qubit)\n",
    "    if len(marray)>0:\n",
    "        circuit.x(marray)\n",
    "    if len(larray)>0:\n",
    "        circuit.x(larray)\n",
    "    circuit.mcx(control_qubits,target_qubit)\n",
    "    if len(larray)>0:\n",
    "        circuit.x(larray)\n",
    "    \n",
    "    #swap\n",
    "    for i in range(n):\n",
    "        if (( m >>  i) & 1) != (( l >>  i) & 1):\n",
    "            circuit.cx(n, i)\n",
    "    \n",
    "    #control on m, l to reset auxiliary qubit    \n",
    "    if len(marray) > 0:\n",
    "        circuit.x(marray)\n",
    "    circuit.mcx(control_qubits,target_qubit)\n",
    "    if len(marray) > 0:\n",
    "        circuit.x(marray)\n",
    "    if len(larray) > 0:\n",
    "        circuit.x(larray)\n",
    "    circuit.mcx(control_qubits,target_qubit)\n",
    "    if len(larray) > 0:\n",
    "        circuit.x(larray)\n",
    "    \n",
    "    return circuit\n",
    "\n",
    "from qiskit import Aer, execute\n",
    "backend = Aer.get_backend('unitary_simulator')\n",
    "np.set_printoptions(linewidth=200, precision=2, suppress=True)\n",
    "\n",
    "qc = level_switch(2, 3, 8)\n",
    "print(qc)\n",
    "job = execute(qc, backend)\n",
    "result = job.result()\n",
    "U = result.get_unitary(qc)\n",
    "\n",
    "N = int(U.shape[0]/2)\n",
    "print(\"Auxiliary qubit should start and end in state |0> (only look at top left of matrix)\")\n",
    "print(U[:N,:N])\n",
    "\n",
    "\n"
   ]
  }
 ],
 "metadata": {
  "kernelspec": {
   "name": "pycharm-125a3851",
   "language": "python",
   "display_name": "PyCharm (quantum-computing)"
  },
  "language_info": {
   "codemirror_mode": {
    "name": "ipython",
    "version": 2
   },
   "file_extension": ".py",
   "mimetype": "text/x-python",
   "name": "python",
   "nbconvert_exporter": "python",
   "pygments_lexer": "ipython2",
   "version": "2.7.6"
  },
  "pycharm": {
   "stem_cell": {
    "cell_type": "raw",
    "source": [],
    "metadata": {
     "collapsed": false
    }
   }
  }
 },
 "nbformat": 4,
 "nbformat_minor": 0
}