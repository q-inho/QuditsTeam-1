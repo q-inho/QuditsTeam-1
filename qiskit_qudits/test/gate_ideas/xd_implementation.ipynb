{
 "cells": [
  {
   "cell_type": "code",
   "execution_count": 2,
   "outputs": [
    {
     "name": "stdout",
     "text": [
      "      ┌──────┐┌─────┐┌─────────┐\nqd_0: ┤0     ├┤0    ├┤0        ├\n      │      ││     ││         │\nqd_1: ┤1 QFT ├┤1 ZD ├┤1 QFT_DG ├\n      │      ││     ││         │\nqd_2: ┤2     ├┤2    ├┤2        ├\n      └──────┘└─────┘└─────────┘\n[[-0.+0.j -0.+0.j -0.+0.j -0.+0.j  0.+0.j  0.+0.j  0.+0.j  1.-0.j]\n [ 1.-0.j -0.+0.j -0.+0.j -0.+0.j -0.+0.j  0.+0.j  0.+0.j  0.+0.j]\n [ 0.+0.j  1.-0.j -0.+0.j -0.+0.j -0.+0.j -0.+0.j  0.+0.j  0.+0.j]\n [ 0.+0.j  0.+0.j  1.-0.j -0.+0.j -0.+0.j -0.+0.j -0.+0.j  0.+0.j]\n [ 0.+0.j  0.-0.j  0.+0.j  1.-0.j -0.+0.j -0.+0.j -0.+0.j -0.+0.j]\n [-0.+0.j -0.+0.j  0.+0.j  0.+0.j  1.-0.j -0.+0.j -0.+0.j -0.+0.j]\n [-0.+0.j -0.+0.j  0.+0.j  0.+0.j  0.+0.j  1.-0.j -0.+0.j -0.-0.j]\n [-0.+0.j -0.+0.j -0.+0.j  0.+0.j  0.+0.j  0.+0.j  1.-0.j -0.+0.j]]\n"
     ],
     "output_type": "stream"
    }
   ],
   "source": [
    "# This code is from Qiskit Hackathon 2021 by the team\n",
    "# Qiskit for high dimensional multipartite quantum states.\n",
    "#\n",
    "# Author: Tim Alexis Körner\n",
    "#\n",
    "# (C) Copyright 2021 Hoang Van Do, Tim Alexis Körner, Inho Choi, Timothé Presles and Élie Gouzien.\n",
    "#\n",
    "# This code is licensed under the Apache License, Version 2.0. You may\n",
    "# obtain a copy of this license in the LICENSE.txt file in the root directory\n",
    "# of this source tree or at http://www.apache.org/licenses/LICENSE-2.0.\n",
    "#\n",
    "# Any modifications or derivative works of this code must retain this\n",
    "# copyright notice, and modified files need to carry a notice indicating\n",
    "# that they have been altered from the originals.\n",
    "\n",
    "from qiskit import Aer, execute\n",
    "import numpy as np\n",
    "from qiskit_qudits import QuditCircuit, QuditRegister\n",
    "\n",
    "np.set_printoptions(linewidth=200, precision=2, suppress=True)\n",
    "\n",
    "qudit_dimensions = [8] #later an given arguement\n",
    "steps = 1\n",
    "\n",
    "qd = QuditRegister(qudit_dimensions, 'qd') #later replaced with QuditRegister(qudit_dimensions)\n",
    "qdc = QuditCircuit(qd)\n",
    "\n",
    "qdc.qft(0)\n",
    "for _ in range(steps):\n",
    "    qdc.zd(0)\n",
    "qdc.qftdg(0)\n",
    "\n",
    "print(qdc)\n",
    "\n",
    "backend = Aer.get_backend('unitary_simulator')\n",
    "job = execute(qdc, backend)\n",
    "result = job.result()\n",
    "U = result.get_unitary(qdc)\n",
    "print(U)\n"
   ],
   "metadata": {
    "collapsed": false,
    "pycharm": {
     "name": "#%%\n",
     "is_executing": false
    }
   }
  }
 ],
 "metadata": {
  "kernelspec": {
   "name": "pycharm-125a3851",
   "language": "python",
   "display_name": "PyCharm (quantum-computing)"
  },
  "language_info": {
   "codemirror_mode": {
    "name": "ipython",
    "version": 2
   },
   "file_extension": ".py",
   "mimetype": "text/x-python",
   "name": "python",
   "nbconvert_exporter": "python",
   "pygments_lexer": "ipython2",
   "version": "2.7.6"
  },
  "pycharm": {
   "stem_cell": {
    "cell_type": "raw",
    "source": [],
    "metadata": {
     "collapsed": false
    }
   }
  }
 },
 "nbformat": 4,
 "nbformat_minor": 0
}