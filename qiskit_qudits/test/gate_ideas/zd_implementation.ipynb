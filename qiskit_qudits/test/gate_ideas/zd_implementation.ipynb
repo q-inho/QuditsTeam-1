{
 "cells": [
  {
   "cell_type": "code",
   "execution_count": 1,
   "id": "e9a6e843-9e26-49e5-951f-b2664676a6ba",
   "metadata": {
    "pycharm": {
     "is_executing": false,
     "name": "#%%\n"
    }
   },
   "outputs": [
    {
     "name": "stdout",
     "text": [
      " [ 1.  +0.j    0.31+0.95j -0.81+0.59j -0.81-0.59j  0.31-0.95j  1.  -0.j    0.31+0.95j -0.81+0.59j]\n\n[[ 1.  +0.j    0.  +0.j    0.  +0.j    0.  +0.j    0.  +0.j    0.  +0.j    0.  +0.j    0.  +0.j  ]\n [ 0.  +0.j    0.31+0.95j  0.  +0.j    0.  +0.j    0.  +0.j    0.  +0.j    0.  +0.j    0.  +0.j  ]\n [-0.  +0.j   -0.  +0.j   -0.81+0.59j -0.  +0.j   -0.  +0.j   -0.  +0.j   -0.  +0.j   -0.  +0.j  ]\n [-0.  +0.j   -0.  +0.j   -0.  +0.j   -0.81-0.59j -0.  +0.j   -0.  +0.j   -0.  +0.j   -0.  +0.j  ]\n [ 0.  +0.j    0.  +0.j    0.  +0.j    0.  +0.j    0.31-0.95j  0.  +0.j    0.  +0.j    0.  +0.j  ]\n [ 0.  +0.j    0.  +0.j    0.  +0.j    0.  +0.j    0.  +0.j    1.  -0.j    0.  +0.j    0.  +0.j  ]\n [ 0.  +0.j    0.  +0.j    0.  +0.j    0.  +0.j    0.  +0.j    0.  +0.j    0.31+0.95j  0.  +0.j  ]\n [ 0.  +0.j    0.  +0.j    0.  +0.j    0.  +0.j    0.  +0.j    0.  +0.j    0.  +0.j   -0.81+0.59j]]\n"
     ],
     "output_type": "stream"
    },
    {
     "data": {
      "text/plain": "<Figure size 146.797x204.68 with 1 Axes>",
      "image/png": "[encoded data removed]"
     },
     "metadata": {},
     "output_type": "execute_result",
     "execution_count": 1
    }
   ],
   "source": [
    "# This code is from Qiskit Hackathon 2021 by the team\n",
    "# Qiskit for high dimensional multipartite quantum states.\n",
    "#\n",
    "# Author: Tim Alexis Körner\n",
    "#\n",
    "# (C) Copyright 2021 Hoang Van Do, Tim Alexis Körner, Inho Choi, Timothé Presles and Élie Gouzien.\n",
    "#\n",
    "# This code is licensed under the Apache License, Version 2.0. You may\n",
    "# obtain a copy of this license in the LICENSE.txt file in the root directory\n",
    "# of this source tree or at http://www.apache.org/licenses/LICENSE-2.0.\n",
    "#\n",
    "# Any modifications or derivative works of this code must retain this\n",
    "# copyright notice, and modified files need to carry a notice indicating\n",
    "# that they have been altered from the originals.\n",
    "\n",
    "from qiskit import *\n",
    "from qiskit import Aer\n",
    "backend = Aer.get_backend('unitary_simulator')\n",
    "import numpy as np\n",
    "np.set_printoptions(linewidth=200, precision=2, suppress=True)\n",
    "\n",
    "\n",
    "qudit_dimensions = [5] #later an given arguement\n",
    "qd_size = int(np.ceil(np.log2(qudit_dimensions[0]))) #later not needed\n",
    "\n",
    "q = QuantumRegister(qd_size, 'q') #later replaced with QuditRegister(qudit_dimensions)\n",
    "qc = QuantumCircuit(q)\n",
    "\n",
    "w = 2 * np.pi / qudit_dimensions[0]\n",
    "for i in range(q.size):\n",
    "    qc.p(w * 2**(q.size - i - 1), q[q.size - i - 1])\n",
    "\n",
    "job = execute(qc, backend)\n",
    "result = job.result()\n",
    "U = result.get_unitary(qc)\n",
    "print(\"\", np.round(np.exp(1j*w)**np.arange(2**q.size), decimals=2))\n",
    "print()\n",
    "print(U)\n",
    "qc.draw(output=\"mpl\")\n"
   ]
  }
 ],
 "metadata": {
  "kernelspec": {
   "display_name": "PyCharm (quantum-computing)",
   "language": "python",
   "name": "pycharm-125a3851"
  },
  "language_info": {
   "codemirror_mode": {
    "name": "ipython",
    "version": 3
   },
   "file_extension": ".py",
   "mimetype": "text/x-python",
   "name": "python",
   "nbconvert_exporter": "python",
   "pygments_lexer": "ipython3",
   "version": "3.9.4"
  },
  "pycharm": {
   "stem_cell": {
    "cell_type": "raw",
    "source": [],
    "metadata": {
     "collapsed": false
    }
   }
  }
 },
 "nbformat": 4,
 "nbformat_minor": 5
}