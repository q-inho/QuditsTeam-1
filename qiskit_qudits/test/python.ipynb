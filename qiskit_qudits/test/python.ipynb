{
 "cells": [
  {
   "cell_type": "code",
   "execution_count": 2,
   "id": "c2f33f09-4e60-4479-b106-6dec12d0867f",
   "metadata": {},
   "outputs": [
    {
     "name": "stdout",
     "output_type": "stream",
     "text": [
      "[<class '__main__.D'>, <class '__main__.B'>, <class '__main__.C'>, <class '__main__.A'>, <class 'object'>]\n",
      "<function D.__init__ at 0x000002BAC3C2AE50> (<__main__.D object at 0x000002BAC284C220>, 'qft', [2, 3, 5], 2, 't', 'QFT') {}\n",
      "<function B.__init__ at 0x000002BAC3C2A9D0> (<__main__.D object at 0x000002BAC284C220>, 'qft', [2, 3, 5], 2, 0, 't') {}\n",
      "<function A.__init__ at 0x000002BAC3C2A700> (<__main__.D object at 0x000002BAC284C220>, 'qft', 8, 0, 't') {'duration': None, 'unit': 'dt'}\n",
      "bar DBC\n",
      "<function C.__init__ at 0x000002BAC3C2AC10> (<__main__.D object at 0x000002BAC284C220>, 'qft', 8, 't', 'QFT') {}\n",
      "<function A.__init__ at 0x000002BAC3C2A700> (<__main__.D object at 0x000002BAC284C220>, 'qft', 8, 0, 't') {}\n",
      "bar DBC\n"
     ]
    }
   ],
   "source": [
    "import numpy as np\n",
    "def pf(func):\n",
    "    def printfunc(*args, **kwargs):\n",
    "        print(func, args, kwargs)\n",
    "        return func(*args, **kwargs)\n",
    "    \n",
    "    return printfunc\n",
    "\n",
    "class A:\n",
    "    @pf\n",
    "    def __init__(self, name, num_qubits, num_clbits, params, duration=None, unit='dt'):\n",
    "        self.name = name\n",
    "        self.num_qubits = num_qubits\n",
    "        self.num_clbits = num_clbits\n",
    "        self.params = params\n",
    "        self.duration = duration\n",
    "        self.unit = unit\n",
    "        print(self.bar())\n",
    "        \n",
    "    def foo():\n",
    "        return \"foo A\"\n",
    "    \n",
    "class B(A):\n",
    "    @pf\n",
    "    def __init__(self, name, qudit_dimensions, num_single_qudits, num_clbits, params, duration=None, unit='dt'):\n",
    "        self.num_single_qudits = num_single_qudits\n",
    "        self.qudit_dimensions = qudit_dimensions\n",
    "        A.__init__(self, name, int(sum(np.ceil(np.log2(dimension)) for dimension in qudit_dimensions))+num_single_qudits, num_clbits, params, duration=duration, unit=unit)\n",
    "        \n",
    "    def bar(self):\n",
    "        return \"bar BA\"\n",
    "    \n",
    "    def doe(self):\n",
    "        return \"doe BA\"\n",
    "\n",
    "class C(A):\n",
    "    @pf\n",
    "    def __init__(self, name, num_qubits, params, label):\n",
    "        self.label = label\n",
    "        super().__init__(name, num_qubits, 0, params)\n",
    "        \n",
    "    __array_priority__ = 20\n",
    "        \n",
    "    def foo(self):\n",
    "        return \"foo CA\"\n",
    "    \n",
    "    def doe(self):\n",
    "        return \"doe CA\"\n",
    "\n",
    "class D(B, C):\n",
    "    @pf\n",
    "    def __init__(self, name, qudit_dimensions, num_single_qudits, params, label):\n",
    "        self.label = label\n",
    "        B.__init__(self, name, qudit_dimensions, num_single_qudits, 0, params)\n",
    "        C.__init__(self, name, int(sum(np.ceil(np.log2(dimension)) for dimension in qudit_dimensions)) +num_single_qudits, params, label)\n",
    "        \n",
    "    def bar(self):\n",
    "        return \"bar DBC\"\n",
    "\n",
    "print(D.mro())\n",
    "d = D(\"qft\", [2,3,5], 2, \"t\", \"QFT\")\n",
    "#print(d.name, d.label, d.qudit_dimensions, d.num_qubits, d.num_clbits, d.params, d.duration, d.unit)\n",
    "#d.foo(), d.bar(), d.doe()\n",
    "#d.__array_priority__\n",
    "#issubclass(B, (D,A))"
   ]
  },
  {
   "cell_type": "code",
   "execution_count": 91,
   "id": "2caf55b2-aa81-408b-9b77-3236608f6a3e",
   "metadata": {},
   "outputs": [
    {
     "name": "stdout",
     "output_type": "stream",
     "text": [
      "[[Qd4 1861940351520, Qd3 1861940354112, Qd9 1861940351280], [Qd4 1861940351232, Qd3 1861940354256, Qd9 1861940353104]] [[Qb_ 1861940353632], [Qb_ 1861940351136]]\n",
      "[[Qd4 1861940351520, Qd3 1861940354112, Qd9 1861940351280], [Qd4 1861940351232, Qd3 1861940354256, Qd9 1861940353104]] [[Qb_ 1861940353632, Qb_ 1861940351136]]\n"
     ]
    },
    {
     "data": {
      "text/plain": [
       "[([Qd4 1861940351520, Qd3 1861940354112, Qd9 1861940351280],\n",
       "  [Qb_ 1861940353632, Qb_ 1861940351136],\n",
       "  []),\n",
       " ([Qd4 1861940351232, Qd3 1861940354256, Qd9 1861940353104],\n",
       "  [Qb_ 1861940353632, Qb_ 1861940351136],\n",
       "  [])]"
      ]
     },
     "execution_count": 91,
     "metadata": {},
     "output_type": "execute_result"
    }
   ],
   "source": [
    "from itertools import product, zip_longest\n",
    "\n",
    "class Qudit:\n",
    "    def __init__(self, d):\n",
    "        self.d = d\n",
    "        \n",
    "    def __repr__(self):\n",
    "        return \"Qd\"+str(self.d)+\" \"+str(id(self))\n",
    "\n",
    "class Qubit:\n",
    "    def __repr__(self):\n",
    "        return \"Qb_ \"+str(id(self))\n",
    "\n",
    "qudit_dimensions = [4,3,9]\n",
    "num_single_qubits = 2\n",
    "\n",
    "def qd_broadcast_arguments(qdargs, qargs, cargs):\n",
    "    print(qdargs, qargs)\n",
    "   \n",
    "    if all(len(qdarg) == 1 for qdarg in qdargs) and [qdarg[0].d for qdarg in qdargs] == qudit_dimensions:\n",
    "        qdargs = [[qdarg[0] for qdarg in qdargs]]\n",
    "    elif not (len(qdargs) != 0 and all([qd.d for qd in qdarg] == qudit_dimensions for qdarg in qdargs)):\n",
    "        raise ValueError(\"qdargs\")\n",
    "    \n",
    "    if all(len(qarg) == 1 for qarg in qargs) and len(qargs) == num_single_qubits:\n",
    "        qargs = [[qarg[0] for qarg in qargs]]\n",
    "    elif not (len(qargs) != 0 and all(len(qarg) == num_single_qubits for qarg in qargs)):\n",
    "        raise ValueError(\"qargs\")\n",
    "    \n",
    "    if cargs:\n",
    "        raise ValueError(\"cargs\")\n",
    "    \n",
    "    print(qdargs, qargs)\n",
    "    for qdarg, qarg in product(qdargs, qargs):\n",
    "        yield qdarg, qarg, []\n",
    "    \n",
    "\n",
    "list(qd_broadcast_arguments([[Qudit(4), Qudit(3), Qudit(9)], [Qudit(4), Qudit(3), Qudit(9)]],[[Qubit()], [Qubit()]],[]))"
   ]
  },
  {
   "cell_type": "code",
   "execution_count": 26,
   "id": "3f4f5d74-2d5b-4a4f-aa51-23543cffa93b",
   "metadata": {},
   "outputs": [
    {
     "name": "stdout",
     "output_type": "stream",
     "text": [
      "['1', '2'] ['a', 'b', 'c'] ['q']\n",
      "['3', '4'] ['d', 'e', 'f'] ['r']\n"
     ]
    }
   ],
   "source": [
    "qd = 2\n",
    "q = 3\n",
    "c = 1\n",
    "qdarg = \"1234\"\n",
    "qarg = \"abcdef\"\n",
    "carg = \"qr\"\n",
    "\n",
    "qdit = zip(*([iter(qdarg)]*2))\n",
    "qit = zip(*([iter(qarg)]*3))\n",
    "cit = zip(*([iter(carg)]*1))\n",
    "\n",
    "for x,y,z in zip(qdit, qit, cit):\n",
    "    print(list(x), list(y), list(z))"
   ]
  },
  {
   "cell_type": "code",
   "execution_count": 1,
   "id": "7b66c0da-b9e7-4ede-8b08-847dc43b3e9e",
   "metadata": {},
   "outputs": [
    {
     "data": {
      "text/plain": [
       "1"
      ]
     },
     "execution_count": 1,
     "metadata": {},
     "output_type": "execute_result"
    }
   ],
   "source": [
    "qargs = 1\n",
    "qargs = qargs if qargs else []\n",
    "qargs"
   ]
  },
  {
   "cell_type": "code",
   "execution_count": 39,
   "id": "b8dcf7c8-bed2-43f8-b21e-288462bbc048",
   "metadata": {},
   "outputs": [
    {
     "name": "stdout",
     "output_type": "stream",
     "text": [
      "get data Y\n",
      "([], None) \n",
      "\n",
      "[1]\n",
      "get data Y\n",
      "([1], None)\n",
      "get data Y\n",
      "set data X\n",
      "get data Y\n"
     ]
    },
    {
     "data": {
      "text/plain": [
       "([100], None)"
      ]
     },
     "execution_count": 39,
     "metadata": {},
     "output_type": "execute_result"
    }
   ],
   "source": [
    "class X():    \n",
    "    def __init__(self):\n",
    "        self._data = []\n",
    "        \n",
    "    @property\n",
    "    def data(self):\n",
    "        print(\"get data X\")\n",
    "        return self._data\n",
    "    \n",
    "    @data.setter\n",
    "    def data(self, data):\n",
    "        print(\"set data X\")\n",
    "        self._data = data\n",
    "    \n",
    "    def foo(self):\n",
    "        print(self._data)\n",
    "        print(self.data)\n",
    "        \n",
    "\n",
    "class Y(X):\n",
    "    \n",
    "    def __init__(self):\n",
    "        super().__init__()\n",
    "    \n",
    "    @X.data.getter\n",
    "    def data(self):\n",
    "        print(\"get data Y\")\n",
    "        return self._data, None\n",
    "\n",
    "    def bar(self):\n",
    "        return self.data\n",
    "        \n",
    "y = Y()\n",
    "print(y.data,\"\\n\")\n",
    "y._data.extend([1])\n",
    "y.foo()\n",
    "y.bar()\n",
    "y.data= [100]\n",
    "y.data"
   ]
  },
  {
   "cell_type": "code",
   "execution_count": 146,
   "id": "1058aa14-eaab-4ba5-a18c-3b78de9189e4",
   "metadata": {},
   "outputs": [
    {
     "name": "stdout",
     "output_type": "stream",
     "text": [
      "[(2,), (3,)]\n",
      "[(), (), (), ()]\n"
     ]
    },
    {
     "data": {
      "text/plain": [
       "1"
      ]
     },
     "execution_count": 146,
     "metadata": {},
     "output_type": "execute_result"
    }
   ],
   "source": [
    "from itertools import zip_longest\n",
    "\n",
    "def foo(qdargs, qargs, cargs):\n",
    "    qdit = zip(*([iter(qdargs)] * 2))\n",
    "    qit = zip(*([iter(qargs)] * 1))\n",
    "    cit = zip(*([iter(cargs)] * 1))\n",
    "    print([x for x in cit])\n",
    "    cit = [()]*4\n",
    "    print(cit)\n",
    "    for qds, qs, cs in zip(qdit, qit, cit):\n",
    "        yield list(qds), list(qs), list(cs)\n",
    "        \n",
    "[x for x in foo([0,3,21,123], [3,2], [2,3])]\n",
    "\n",
    "x= 1 if 34 else 2\n",
    "x"
   ]
  },
  {
   "cell_type": "code",
   "execution_count": 66,
   "id": "ff20f94b-311e-4010-8fd5-35b36afc558f",
   "metadata": {},
   "outputs": [
    {
     "name": "stdout",
     "output_type": "stream",
     "text": [
      "(1, 2)\n"
     ]
    }
   ],
   "source": [
    "def foo(*args):\n",
    "    print(args)\n",
    "    \n",
    "x=[1,2]\n",
    "foo(*iter(x))"
   ]
  }
 ],
 "metadata": {
  "kernelspec": {
   "display_name": "PyCharm (quantum-computing)",
   "language": "python",
   "name": "pycharm-125a3851"
  },
  "language_info": {
   "codemirror_mode": {
    "name": "ipython",
    "version": 3
   },
   "file_extension": ".py",
   "mimetype": "text/x-python",
   "name": "python",
   "nbconvert_exporter": "python",
   "pygments_lexer": "ipython3",
   "version": "3.9.4"
  }
 },
 "nbformat": 4,
 "nbformat_minor": 5
}
