{
 "cells": [
  {
   "cell_type": "code",
   "execution_count": 21,
   "metadata": {
    "collapsed": true,
    "pycharm": {
     "is_executing": false,
     "name": "#%%\n"
    }
   },
   "outputs": [
    {
     "data": {
      "text/plain": "        ┌───┐┌──────────┐   ┌──────────┐      \n  qd_0: ┤ X ├┤0         ├───┤0         ├──────\n        ├───┤│          │   │          │      \n  qd_1: ┤ H ├┤1         ├───┤1         ├──────\n        ├───┤│  BARRIER │   │          │      \n  qd_2: ┤ X ├┤2         ├───┤2         ├──────\n        └───┘│          │   │          │      \n  qd_3: ─────┤3         ├───┤3         ├──────\n             └──────────┘ ░ │          │┌─┐   \n   q_0: ──────────────────░─┤          ├┤M├───\n        ┌───┐    ┌─┐      ░ │          │└╥┘┌─┐\n   q_1: ┤ H ├────┤M├──────░─┤  MEASURE ├─╫─┤M├\n        └───┘    └╥┘      ░ │          │ ║ └╥┘\n   c_0: ══════════╩═════════╡          ╞═╬══╬═\n                            │          │ ║  ║ \nmeas_0: ════════════════════╡0         ╞═╬══╬═\n                            │          │ ║  ║ \nmeas_1: ════════════════════╡1         ╞═╬══╬═\n                            │          │ ║  ║ \nmeas_2: ════════════════════╡2         ╞═╬══╬═\n                            │          │ ║  ║ \nmeas_3: ════════════════════╡3         ╞═╬══╬═\n                            └──────────┘ ║  ║ \nmeas_4: ═════════════════════════════════╩══╬═\n                                            ║ \nmeas_5: ════════════════════════════════════╩═\n                                              ",
      "text/html": "<pre style=\"word-wrap: normal;white-space: pre;background: #fff0;line-height: 1.1;font-family: &quot;Courier New&quot;,Courier,monospace\">        ┌───┐┌──────────┐   ┌──────────┐      \n  qd_0: ┤ X ├┤0         ├───┤0         ├──────\n        ├───┤│          │   │          │      \n  qd_1: ┤ H ├┤1         ├───┤1         ├──────\n        ├───┤│  BARRIER │   │          │      \n  qd_2: ┤ X ├┤2         ├───┤2         ├──────\n        └───┘│          │   │          │      \n  qd_3: ─────┤3         ├───┤3         ├──────\n             └──────────┘ ░ │          │┌─┐   \n   q_0: ──────────────────░─┤          ├┤M├───\n        ┌───┐    ┌─┐      ░ │          │└╥┘┌─┐\n   q_1: ┤ H ├────┤M├──────░─┤  MEASURE ├─╫─┤M├\n        └───┘    └╥┘      ░ │          │ ║ └╥┘\n   c_0: ══════════╩═════════╡          ╞═╬══╬═\n                            │          │ ║  ║ \nmeas_0: ════════════════════╡0         ╞═╬══╬═\n                            │          │ ║  ║ \nmeas_1: ════════════════════╡1         ╞═╬══╬═\n                            │          │ ║  ║ \nmeas_2: ════════════════════╡2         ╞═╬══╬═\n                            │          │ ║  ║ \nmeas_3: ════════════════════╡3         ╞═╬══╬═\n                            └──────────┘ ║  ║ \nmeas_4: ═════════════════════════════════╩══╬═\n                                            ║ \nmeas_5: ════════════════════════════════════╩═\n                                              </pre>"
     },
     "metadata": {},
     "output_type": "execute_result",
     "execution_count": 21
    }
   ],
   "source": [
    "from qiskit_qudits import QuditCircuit\n",
    "qdc = QuditCircuit([9], 2, 1, modular_qudits=True)\n",
    "qdc.x(qdc.qudits[0][0])\n",
    "qdc.h(qdc.qudits[0][1])\n",
    "qdc.x(qdc.qudits[0][2])\n",
    "qdc.h(1)\n",
    "qdc.measure(qargs=1, cargs=0)\n",
    "qdc.measure_all()\n",
    "\n",
    "qdc.draw(output=\"text\")"
   ]
  },
  {
   "cell_type": "code",
   "execution_count": 22,
   "outputs": [
    {
     "name": "stdout",
     "text": [
      "{'100111 1': 28, '000101 0': 20, '000111 0': 26, '100101 1': 25} {'10###7 1': 28, '00###5 0': 20, '00###7 0': 26, '10###5 1': 25}\n"
     ],
     "output_type": "stream"
    },
    {
     "data": {
      "text/plain": "<Figure size 504x360 with 1 Axes>",
      "image/png": "[encoded data removed]"
     },
     "metadata": {},
     "output_type": "execute_result",
     "execution_count": 22
    }
   ],
   "source": [
    "from qiskit import Aer, execute\n",
    "from qiskit.visualization import plot_histogram\n",
    "\n",
    "from qiskit_qudits.visualization import counts_to_quditcounts\n",
    "\n",
    "simulator = Aer.get_backend('qasm_simulator') #simulation part\n",
    "job = execute(qdc, simulator, shots=99)\n",
    "counts = job.result().get_counts()\n",
    "\n",
    "qd_counts = counts_to_quditcounts(qdc, counts)\n",
    "print(counts, qd_counts)\n",
    "plot_histogram(qd_counts)\n"
   ],
   "metadata": {
    "collapsed": false,
    "pycharm": {
     "name": "#%%\n",
     "is_executing": false
    }
   }
  }
 ],
 "metadata": {
  "kernelspec": {
   "name": "pycharm-125a3851",
   "language": "python",
   "display_name": "PyCharm (quantum-computing)"
  },
  "language_info": {
   "codemirror_mode": {
    "name": "ipython",
    "version": 2
   },
   "file_extension": ".py",
   "mimetype": "text/x-python",
   "name": "python",
   "nbconvert_exporter": "python",
   "pygments_lexer": "ipython2",
   "version": "2.7.6"
  },
  "pycharm": {
   "stem_cell": {
    "cell_type": "raw",
    "source": [],
    "metadata": {
     "collapsed": false
    }
   }
  }
 },
 "nbformat": 4,
 "nbformat_minor": 0
}