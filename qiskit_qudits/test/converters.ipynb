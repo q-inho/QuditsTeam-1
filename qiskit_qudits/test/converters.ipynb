{
 "cells": [
  {
   "cell_type": "code",
   "execution_count": 2,
   "metadata": {
    "collapsed": true,
    "pycharm": {
     "is_executing": false,
     "name": "#%%\n"
    }
   },
   "outputs": [
    {
     "name": "stdout",
     "text": [
      "      ┌─────┐\nqd_0: ┤0    ├\n      │  ZD │\nqd_1: ┤1    ├\n      └─────┘\n q_0: ───■───\n       ┌─┴─┐ \n q_1: ─┤ X ├─\n       └───┘ \n q_2: ───────\n             \n q_3: ───────\n             \n[3] 4\nquditcircuit-0 None\n      ┌─────┐\nqd_0: ┤0    ├\n      │  ZD │\nqd_1: ┤1    ├\n      └─────┘\n q_0: ───■───\n       ┌─┴─┐ \n q_1: ─┤ X ├─\n       └───┘ \n q_2: ───────\n             \n q_3: ───────\n             \n      ┌─────┐┌─────────────────┐\nqd_0: ┤0    ├┤0                ├\n      │  ZD ││                 │\nqd_1: ┤1    ├┤1                ├\n      └─────┘│                 │\n q_0: ───■───┤2                ├\n       ┌─┴─┐ │  QUDITCIRCUIT-0 │\n q_1: ─┤ X ├─┤3                ├\n       └───┘ │                 │\n q_2: ───────┤4                ├\n             │                 │\n q_3: ───────┤5                ├\n             └─────────────────┘\n"
     ],
     "output_type": "stream"
    },
    {
     "name": "stderr",
     "text": [
      "C:\\Users\\Tim\\Documents\\- Dokumente\\Code\\Qudits Hackathon 2021\\qiskit_qudits\\circuit\\quditcircuit.py:911: UserWarning: Qudit circuit drawer not implemented yet\n  warnings.warn(\"Qudit circuit drawer not implemented yet\")\n"
     ],
     "output_type": "stream"
    }
   ],
   "source": [
    "from qiskit_qudits import QuditCircuit\n",
    "\n",
    "qdc = QuditCircuit([3], 4, 0)\n",
    "qdc.cx(0,1)\n",
    "qdc.zd(0)\n",
    "print(qdc)\n",
    "\n",
    "gate = qdc.to_quditgate() #calls circuit_to_quditgate\n",
    "print(gate.qudit_dimensions, gate.num_single_qubits)\n",
    "print(gate.name, gate.label)\n",
    "print(gate.definition)\n",
    "\n",
    "qdc.qd_append(gate, qdc.qudits, qdc.single_qubits, qdc.clbits)\n",
    "print(qdc)"
   ]
  },
  {
   "cell_type": "code",
   "execution_count": 4,
   "outputs": [
    {
     "name": "stdout",
     "text": [
      "      ┌─────┐┌──────────┐   \nqd_0: ┤0    ├┤0         ├───\n      │  ZD ││          │   \nqd_1: ┤1    ├┤1         ├───\n      └─────┘│          │   \n q_0: ───■───┤          ├───\n       ┌─┴─┐ │          │┌─┐\n q_1: ─┤ X ├─┤          ├┤M├\n       └───┘ │  MEASURE │└╥┘\n q_2: ───────┤          ├─╫─\n             │          │ ║ \n q_3: ───────┤          ├─╫─\n             │          │ ║ \n c_0: ═══════╡0         ╞═╬═\n             │          │ ║ \n c_1: ═══════╡1         ╞═╬═\n             └──────────┘ ║ \n c_2: ════════════════════╩═\n                            \n[3] 4 3\n      ┌─────┐┌──────────┐   \nqd_0: ┤0    ├┤0         ├───\n      │  ZD ││          │   \nqd_1: ┤1    ├┤1         ├───\n      └─────┘│          │   \n q_0: ───■───┤          ├───\n       ┌─┴─┐ │          │┌─┐\n q_1: ─┤ X ├─┤          ├┤M├\n       └───┘ │  MEASURE │└╥┘\n q_2: ───────┤          ├─╫─\n             │          │ ║ \n q_3: ───────┤          ├─╫─\n             │          │ ║ \n c_0: ═══════╡0         ╞═╬═\n             │          │ ║ \n c_1: ═══════╡1         ╞═╬═\n             └──────────┘ ║ \n c_2: ════════════════════╩═\n                            \n      ┌─────┐┌──────────┐   ┌─────────────────┐\nqd_0: ┤0    ├┤0         ├───┤0                ├\n      │  ZD ││          │   │                 │\nqd_1: ┤1    ├┤1         ├───┤1                ├\n      └─────┘│          │   │                 │\n q_0: ───■───┤          ├───┤2                ├\n       ┌─┴─┐ │          │┌─┐│                 │\n q_1: ─┤ X ├─┤          ├┤M├┤3                ├\n       └───┘ │  MEASURE │└╥┘│                 │\n q_2: ───────┤          ├─╫─┤4 QUDITCIRCUIT-6 ├\n             │          │ ║ │                 │\n q_3: ───────┤          ├─╫─┤5                ├\n             │          │ ║ │                 │\n c_0: ═══════╡0         ╞═╬═╡0                ╞\n             │          │ ║ │                 │\n c_1: ═══════╡1         ╞═╬═╡1                ╞\n             └──────────┘ ║ │                 │\n c_2: ════════════════════╩═╡2                ╞\n                            └─────────────────┘\n"
     ],
     "output_type": "stream"
    }
   ],
   "source": [
    "qdc = QuditCircuit([3], 4, 3)\n",
    "qdc.cx(0,1)\n",
    "qdc.zd(0)\n",
    "qdc.measure(0, 1, [0,1,2])\n",
    "print(qdc)\n",
    "\n",
    "instruction = qdc.to_quditinstruction() #calls circuit_to_quditinstruction\n",
    "print(instruction.qudit_dimensions, instruction.num_single_qubits, instruction.num_clbits)\n",
    "print(instruction.definition)\n",
    "\n",
    "qdc.qd_append(instruction, qdc.qudits, qdc.single_qubits, qdc.clbits)\n",
    "print(qdc)\n"
   ],
   "metadata": {
    "collapsed": false,
    "pycharm": {
     "name": "#%%\n",
     "is_executing": false
    }
   }
  }
 ],
 "metadata": {
  "kernelspec": {
   "name": "pycharm-125a3851",
   "language": "python",
   "display_name": "PyCharm (quantum-computing)"
  },
  "language_info": {
   "codemirror_mode": {
    "name": "ipython",
    "version": 2
   },
   "file_extension": ".py",
   "mimetype": "text/x-python",
   "name": "python",
   "nbconvert_exporter": "python",
   "pygments_lexer": "ipython2",
   "version": "2.7.6"
  },
  "pycharm": {
   "stem_cell": {
    "cell_type": "raw",
    "source": [],
    "metadata": {
     "collapsed": false
    }
   }
  }
 },
 "nbformat": 4,
 "nbformat_minor": 0
}