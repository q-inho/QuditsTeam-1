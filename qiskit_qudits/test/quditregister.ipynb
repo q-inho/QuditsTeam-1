{
 "cells": [
  {
   "cell_type": "code",
   "execution_count": 1,
   "id": "005df3a0-682c-4da3-afa2-2faab39e2bc7",
   "metadata": {
    "pycharm": {
     "is_executing": false
    }
   },
   "outputs": [
    {
     "name": "stdout",
     "text": [
      "qd0\n1 1 1\nQubit(QuditRegister(1, 'qd0'), 0) Qubit(QuditRegister(1, 'qd0'), 0)\n[Qubit(QuditRegister(1, 'qd0'), 0)] [Qubit(QuditRegister(1, 'qd0'), 0)]\nQudit(QuditRegister(1, 'qd0'), 0) Qudit(QuditRegister(1, 'qd0'), 0)\n[Qudit(QuditRegister(1, 'qd0'), 0)] [Qudit(QuditRegister(1, 'qd0'), 0)]\nQudit(QuditRegister(1, 'qd0'), 0)\nqd1\n4 2 4\nQubit(QuditRegister(4, 'qd1'), 0) Qubit(QuditRegister(4, 'qd1'), 3)\n[Qubit(QuditRegister(4, 'qd1'), 0)] [Qubit(QuditRegister(4, 'qd1'), 0), Qubit(QuditRegister(4, 'qd1'), 1), Qubit(QuditRegister(4, 'qd1'), 2), Qubit(QuditRegister(4, 'qd1'), 3)]\nQudit(QuditRegister(2, 'qd1'), 0) Qudit(QuditRegister(2, 'qd1'), 1)\n[Qudit(QuditRegister(2, 'qd1'), 0)] [Qudit(QuditRegister(2, 'qd1'), 0), Qudit(QuditRegister(2, 'qd1'), 1)]\nQudit(QuditRegister(2, 'qd1'), 0)\nQudit(QuditRegister(2, 'qd1'), 1)\nqd2\n7 2 7\nQubit(QuditRegister(7, 'qd2'), 0) Qubit(QuditRegister(7, 'qd2'), 6)\n[Qubit(QuditRegister(7, 'qd2'), 0)] [Qubit(QuditRegister(7, 'qd2'), 0), Qubit(QuditRegister(7, 'qd2'), 1), Qubit(QuditRegister(7, 'qd2'), 2), Qubit(QuditRegister(7, 'qd2'), 3), Qubit(QuditRegister(7, 'qd2'), 4), Qubit(QuditRegister(7, 'qd2'), 5), Qubit(QuditRegister(7, 'qd2'), 6)]\nQudit(QuditRegister(2, 'qd2'), 0) Qudit(QuditRegister(2, 'qd2'), 1)\n[Qudit(QuditRegister(2, 'qd2'), 0)] [Qudit(QuditRegister(2, 'qd2'), 0), Qudit(QuditRegister(2, 'qd2'), 1)]\nQudit(QuditRegister(2, 'qd2'), 0)\nQudit(QuditRegister(2, 'qd2'), 1)\n"
     ],
     "output_type": "stream"
    },
    {
     "data": {
      "text/plain": "True"
     },
     "metadata": {},
     "output_type": "execute_result",
     "execution_count": 1
    }
   ],
   "source": [
    "# This code is from Qiskit Hackathon 2021 by the team\n",
    "# Qiskit for high dimensional multipartite quantum states.\n",
    "#\n",
    "# Author: Tim Alexis Körner\n",
    "#\n",
    "# (C) Copyright 2021 Hoang Van Do, Tim Alexis Körner, Inho Choi, Timothé Presles and Élie Gouzien.\n",
    "#\n",
    "# This code is licensed under the Apache License, Version 2.0. You may\n",
    "# obtain a copy of this license in the LICENSE.txt file in the root directory\n",
    "# of this source tree or at http://www.apache.org/licenses/LICENSE-2.0.\n",
    "#\n",
    "# Any modifications or derivative works of this code must retain this\n",
    "# copyright notice, and modified files need to carry a notice indicating\n",
    "# that they have been altered from the originals.\n",
    "\n",
    "from qiskit import QuantumRegister\n",
    "from qiskit_qudits import QuditRegister\n",
    "\n",
    "for qudit_dimensions in [[2], [5,2], [7,9]]:\n",
    "    qd = QuditRegister(qudit_dimensions)\n",
    "    print(qd.name)\n",
    "    print(qd.size, qd.qd_size, len(qd))\n",
    "    #qubits\n",
    "    print(qd[0], qd[-1])\n",
    "    print(qd[[0]], qd[:])\n",
    "    #qudits\n",
    "    print(qd[0j], qd[-1j])\n",
    "    print(qd[[0j]], qd[0j:])\n",
    "    for qudit in qd.qd_iter():\n",
    "        print(qudit)\n",
    "\n",
    "isinstance(qd, QuantumRegister)"
   ]
  },
  {
   "cell_type": "code",
   "execution_count": 2,
   "id": "70d823c3-3704-45c6-a375-62ad6a31bf92",
   "metadata": {
    "pycharm": {
     "is_executing": false
    }
   },
   "outputs": [
    {
     "name": "stdout",
     "text": [
      "<qiskit_qudits.circuit.quditregister.Qudit object at 0x0000020C2905D660> 3 2 2\n[<qiskit.circuit.quantumregister.Qubit object at 0x0000020C29072680>, <qiskit.circuit.quantumregister.Qubit object at 0x0000020C290725E0>]\n<qiskit.circuit.quantumregister.Qubit object at 0x0000020C290725E0> <qiskit.circuit.quantumregister.Qubit object at 0x0000020C29072680>\n[<qiskit.circuit.quantumregister.Qubit object at 0x0000020C290725E0>] [<qiskit.circuit.quantumregister.Qubit object at 0x0000020C29072680>, <qiskit.circuit.quantumregister.Qubit object at 0x0000020C290725E0>]\n<qiskit.circuit.quantumregister.Qubit object at 0x0000020C29072680>\n<qiskit.circuit.quantumregister.Qubit object at 0x0000020C290725E0>\n"
     ],
     "output_type": "stream"
    }
   ],
   "source": [
    "from qiskit.circuit.quantumregister import Qubit\n",
    "from qiskit_qudits.circuit.quditregister import Qudit\n",
    "\n",
    "qd = Qudit(3, [Qubit(), Qubit()])\n",
    "print(qd, qd.dimension, qd.size, len(qd))\n",
    "print(qd.qubits)\n",
    "print(qd[-1], qd[0])\n",
    "print(qd[1:], qd[[0,1]])\n",
    "for qubit in qd:\n",
    "    print(qubit)"
   ]
  }
 ],
 "metadata": {
  "kernelspec": {
   "display_name": "PyCharm (quantum-computing)",
   "language": "python",
   "name": "pycharm-125a3851"
  },
  "language_info": {
   "codemirror_mode": {
    "name": "ipython",
    "version": 3
   },
   "file_extension": ".py",
   "mimetype": "text/x-python",
   "name": "python",
   "nbconvert_exporter": "python",
   "pygments_lexer": "ipython3",
   "version": "3.9.4"
  },
  "pycharm": {
   "stem_cell": {
    "cell_type": "raw",
    "source": [],
    "metadata": {
     "collapsed": false
    }
   }
  }
 },
 "nbformat": 4,
 "nbformat_minor": 5
}