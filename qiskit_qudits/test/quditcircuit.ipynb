{
 "cells": [
  {
   "cell_type": "code",
   "execution_count": 1,
   "metadata": {
    "collapsed": true,
    "pycharm": {
     "is_executing": false
    }
   },
   "outputs": [
    {
     "name": "stdout",
     "text": [
      "     \nq_0: \n     \nq_1: \n     \nq_2: \n      ------\n     \nq_0: \n     \nc: 1/\n      ------\n      \nqd_0: \n      \n c: 1/\n       ------\n     \nc: 1/\n      ------\n     \nq_0: \n      ------\n      \nqd_0: \n      \nqd_1: \n      \nqd_2: \n      \n q_0: \n      \n c: 2/\n       ------\n      \nqd_0: \n       ------\n     \nq_0: \n     \nc: 1/\n      ------\n     \nq_0: \n     \nq_1: \n     \nq_2: \n     \nc: 1/\n      ------\n      \nqd_0: \n      \nqd_1: \n      \nqd_2: \n      \nqd_3: \n      \nqd_4: \n      \nqd_5: \n      \n q_0: \n      \n q_1: \n      \n q_2: \n      \n c: 3/\n       ------\n"
     ],
     "output_type": "stream"
    },
    {
     "name": "stderr",
     "text": [
      "C:\\Users\\Tim\\Documents\\- Dokumente\\Code\\Qudits Hackathon 2021\\qiskit_qudits\\circuit\\quditcircuit.py:888: UserWarning: Qudit circuit drawer not implemented yet\n  warnings.warn(\"Qudit circuit drawer not implemented yet\")\n"
     ],
     "output_type": "stream"
    }
   ],
   "source": [
    "from qiskit import QuantumRegister, ClassicalRegister\n",
    "from qiskit_qudits import QuditCircuit, QuditRegister\n",
    "\n",
    "qdregs = [QuditRegister(qudit_dimensions, name='qd') for qudit_dimensions in [[2], [9, 4]]]\n",
    "qregs = [QuantumRegister(size, name='q') for size in [1, 3]]\n",
    "cregs = [ClassicalRegister(size, name='c') for size in [1, 3]]\n",
    "\n",
    "print(QuditCircuit(3), \"------\")\n",
    "print(QuditCircuit(1, 1), \"------\")\n",
    "print(QuditCircuit([2], 1), \"------\")\n",
    "print(QuditCircuit([], 0, 1), \"------\")\n",
    "print(QuditCircuit([], 1, 0), \"------\")\n",
    "print(QuditCircuit([2,4], 1, 2), \"------\")\n",
    "\n",
    "print(QuditCircuit(qdregs[0]), \"------\")\n",
    "print(QuditCircuit(cregs[0], qregs[0]), \"------\")\n",
    "print(QuditCircuit(qregs[1], cregs[0]), \"------\")\n",
    "print(QuditCircuit(qdregs[1], qregs[1], cregs[1]), \"------\")"
   ]
  },
  {
   "cell_type": "code",
   "execution_count": null,
   "outputs": [],
   "source": [
    "\n"
   ],
   "metadata": {
    "collapsed": false,
    "pycharm": {
     "name": "#%%\n"
    }
   }
  }
 ],
 "metadata": {
  "kernelspec": {
   "name": "pycharm-125a3851",
   "language": "python",
   "display_name": "PyCharm (quantum-computing)"
  },
  "language_info": {
   "codemirror_mode": {
    "name": "ipython",
    "version": 2
   },
   "file_extension": ".py",
   "mimetype": "text/x-python",
   "name": "python",
   "nbconvert_exporter": "python",
   "pygments_lexer": "ipython2",
   "version": "2.7.6"
  },
  "pycharm": {
   "stem_cell": {
    "cell_type": "raw",
    "source": [],
    "metadata": {
     "collapsed": false
    }
   }
  }
 },
 "nbformat": 4,
 "nbformat_minor": 0
}