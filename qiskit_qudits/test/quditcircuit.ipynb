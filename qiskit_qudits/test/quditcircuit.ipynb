{
 "cells": [
  {
   "cell_type": "code",
   "execution_count": 1,
   "metadata": {
    "collapsed": true,
    "pycharm": {
     "is_executing": false
    }
   },
   "outputs": [
    {
     "name": "stdout",
     "text": [
      "     \nq_0: \n     \nq_1: \n     \nq_2: \n      ------\n     \nq_0: \n     \nc: 1/\n      ------\n      \nqd_0: \n      \n c: 1/\n       ------\n     \nc: 1/\n      ------\n     \nq_0: \n      ------\n      \nqd_0: \n      \nqd_1: \n      \nqd_2: \n      \n q_0: \n      \n c: 2/\n       ------\n      \nqd_0: \n       ------\n     \nq_0: \n     \nc: 1/\n      ------\n     \nq_0: \n     \nq_1: \n     \nq_2: \n     \nc: 1/\n      ------\n      \nqd_0: \n      \nqd_1: \n      \nqd_2: \n      \nqd_3: \n      \nqd_4: \n      \nqd_5: \n      \n q_0: \n      \n q_1: \n      \n q_2: \n      \n c: 3/\n       ------\n"
     ],
     "output_type": "stream"
    },
    {
     "name": "stderr",
     "text": [
      "C:\\Users\\Tim\\Documents\\- Dokumente\\Code\\Qudits Hackathon 2021\\qiskit_qudits\\circuit\\quditcircuit.py:892: UserWarning: Qudit circuit drawer not implemented yet\n  warnings.warn(\"Qudit circuit drawer not implemented yet\")\n"
     ],
     "output_type": "stream"
    }
   ],
   "source": [
    "from qiskit import QuantumRegister, ClassicalRegister\n",
    "from qiskit_qudits import QuditCircuit, QuditRegister\n",
    "\n",
    "qdregs = [QuditRegister(qudit_dimensions, name='qd') for qudit_dimensions in [[2], [9, 4]]]\n",
    "qregs = [QuantumRegister(size, name='q') for size in [1, 3]]\n",
    "cregs = [ClassicalRegister(size, name='c') for size in [1, 3]]\n",
    "\n",
    "print(QuditCircuit(3), \"------\")\n",
    "print(QuditCircuit(1, 1), \"------\")\n",
    "print(QuditCircuit([2], 1), \"------\")\n",
    "print(QuditCircuit([], 0, 1), \"------\")\n",
    "print(QuditCircuit([], 1, 0), \"------\")\n",
    "print(QuditCircuit([2,4], 1, 2), \"------\")\n",
    "\n",
    "print(QuditCircuit(qdregs[0]), \"------\")\n",
    "print(QuditCircuit(cregs[0], qregs[0]), \"------\")\n",
    "print(QuditCircuit(qregs[1], cregs[0]), \"------\")\n",
    "print(QuditCircuit(qdregs[1], qregs[1], cregs[1]), \"------\")"
   ]
  },
  {
   "cell_type": "code",
   "execution_count": 2,
   "outputs": [
    {
     "name": "stdout",
     "text": [
      "           ┌─────┐┌──────────┐   ┌──────────┐      \n     qd_0: ┤0    ├┤0         ├───┤0         ├──────\n           │     ││          │   │          │      \n     qd_1: ┤1 ZD ├┤1 BARRIER ├───┤1         ├──────\n           │     ││          │   │          │      \n     qd_2: ┤2    ├┤2         ├───┤2         ├──────\n           └─────┘└──────────┘   │          │      \n     qd_3: ──────────────────────┤          ├──────\n            ┌───┐    ┌───┐     ░ │          │┌─┐   \n      q_0: ─┤ X ├────┤ Y ├─────░─┤          ├┤M├───\n            └───┘    └─┬─┘     ░ │  MEASURE │└╥┘┌─┐\n      q_1: ────────────■───────░─┤          ├─╫─┤M├\n                               ░ │          │ ║ └╥┘\n      c_0: ══════════════════════╡          ╞═╬══╬═\n                                 │          │ ║  ║ \nmeasure_0: ══════════════════════╡0         ╞═╬══╬═\n                                 │          │ ║  ║ \nmeasure_1: ══════════════════════╡1         ╞═╬══╬═\n                                 │          │ ║  ║ \nmeasure_2: ══════════════════════╡2         ╞═╬══╬═\n                                 └──────────┘ ║  ║ \nmeasure_3: ═══════════════════════════════════╩══╬═\n                                                 ║ \nmeasure_4: ══════════════════════════════════════╩═\n                                                   \n                 ┌──────────┐┌──────────┐┌─────┐     \n     qd_0: ──────┤0         ├┤0         ├┤0    ├─────\n                 │          ││          ││     │     \n     qd_1: ──────┤1         ├┤1 BARRIER ├┤1 ZD ├─────\n                 │          ││          ││     │     \n     qd_2: ──────┤2         ├┤2         ├┤2    ├─────\n                 │          │└──────────┘└─────┘     \n     qd_3: ──────┤          ├────────────────────────\n              ┌─┐│          │     ░       ┌───┐ ┌───┐\n      q_0: ───┤M├┤          ├─────░───────┤ Y ├─┤ X ├\n           ┌─┐└╥┘│  MEASURE │     ░       └─┬─┘ └───┘\n      q_1: ┤M├─╫─┤          ├─────░─────────■────────\n           └╥┘ ║ │          │     ░                  \n      c_0: ═╬══╬═╡          ╞════════════════════════\n            ║  ║ │          │                        \nmeasure_0: ═╬══╬═╡0         ╞════════════════════════\n            ║  ║ │          │                        \nmeasure_1: ═╬══╬═╡1         ╞════════════════════════\n            ║  ║ │          │                        \nmeasure_2: ═╬══╬═╡2         ╞════════════════════════\n            ║  ║ └──────────┘                        \nmeasure_3: ═╬══╩═════════════════════════════════════\n            ║                                        \nmeasure_4: ═╩════════════════════════════════════════\n                                                     \n                                                     \n     qd_3: ──────────────────────────────────────────\n                 ┌──────────┐┌──────────┐┌─────┐     \n     qd_0: ──────┤0         ├┤0         ├┤0    ├─────\n                 │          ││          ││     │     \n     qd_1: ──────┤1         ├┤1 BARRIER ├┤1 ZD ├─────\n                 │          ││          ││     │     \n     qd_2: ──────┤2         ├┤2         ├┤2    ├─────\n           ┌─┐   │          │└────░─────┘└─────┘     \n      q_1: ┤M├───┤          ├─────░─────────■────────\n           └╥┘┌─┐│          │     ░       ┌─┴─┐ ┌───┐\n      q_0: ─╫─┤M├┤          ├─────░───────┤ Y ├─┤ X ├\n            ║ └╥┘│  MEASURE │     ░       └───┘ └───┘\nmeasure_4: ═╩══╬═╡          ╞════════════════════════\n               ║ │          │                        \nmeasure_3: ════╩═╡          ╞════════════════════════\n                 │          │                        \nmeasure_2: ══════╡0         ╞════════════════════════\n                 │──────────│                        \nmeasure_1: ══════╡1         ╞════════════════════════\n                 │          │                        \nmeasure_0: ══════╡2         ╞════════════════════════\n                 │          │                        \n      c_0: ══════╪══════════╪════════════════════════\n                 │          │                        \nVisual bug of qudit measure is created with all custom gates using bit inputs in a different order compared to the plotted circuit.It does not affect the data.\n"
     ],
     "output_type": "stream"
    },
    {
     "name": "stderr",
     "text": [
      "C:\\Users\\Tim\\miniconda3\\envs\\qiskit\\lib\\site-packages\\qiskit\\visualization\\text.py:584: RuntimeWarning: The parameter \"cregbundle\" was disable, since an instruction needs to refer to individual classical wires\n  return \"\\n\".join(self.lines()).encode(self.encoding).decode(self.encoding)\n"
     ],
     "output_type": "stream"
    },
    {
     "data": {
      "text/plain": "[(<qiskit.circuit.measure.Measure at 0x26b926373a0>,\n  [Qubit(QuantumRegister(2, 'q'), 1)],\n  [Clbit(ClassicalRegister(5, 'measure'), 4)]),\n (<qiskit.circuit.measure.Measure at 0x26b926377f0>,\n  [Qubit(QuantumRegister(2, 'q'), 0)],\n  [Clbit(ClassicalRegister(5, 'measure'), 3)]),\n (<qiskit_qudits.circuit.quditmeasure.QuditMeasure at 0x26b92637250>,\n  [Qubit(QuditRegister(4, 'qd'), 0),\n   Qubit(QuditRegister(4, 'qd'), 1),\n   Qubit(QuditRegister(4, 'qd'), 2)],\n  [Clbit(ClassicalRegister(5, 'measure'), 0),\n   Clbit(ClassicalRegister(5, 'measure'), 1),\n   Clbit(ClassicalRegister(5, 'measure'), 2)]),\n (<qiskit.circuit.barrier.Barrier at 0x26b92637160>,\n  [Qubit(QuantumRegister(2, 'q'), 0), Qubit(QuantumRegister(2, 'q'), 1)],\n  []),\n (<qiskit_qudits.circuit.quditbarrier.QuditBarrier at 0x26b92637c40>,\n  [Qubit(QuditRegister(4, 'qd'), 0),\n   Qubit(QuditRegister(4, 'qd'), 1),\n   Qubit(QuditRegister(4, 'qd'), 2)],\n  []),\n (<qiskit.circuit.library.standard_gates.y.CYGate at 0x26b92637760>,\n  [Qubit(QuantumRegister(2, 'q'), 1), Qubit(QuantumRegister(2, 'q'), 0)],\n  []),\n (<qiskit.circuit.library.standard_gates.x.XGate at 0x26b92637280>,\n  [Qubit(QuantumRegister(2, 'q'), 0)],\n  []),\n (<qiskit_qudits.circuit.gates.zd.ZDGate at 0x26b926377c0>,\n  [Qubit(QuditRegister(4, 'qd'), 0),\n   Qubit(QuditRegister(4, 'qd'), 1),\n   Qubit(QuditRegister(4, 'qd'), 2)],\n  [])]"
     },
     "metadata": {},
     "output_type": "execute_result",
     "execution_count": 2
    }
   ],
   "source": [
    "qdc = QuditCircuit([5, 2], 2, 1)\n",
    "qdc.zd(0)\n",
    "qdc.x(0)\n",
    "qdc.cy(1,0)\n",
    "qdc.measure_active()\n",
    "print(qdc)\n",
    "\n",
    "qdc = qdc.reverse_ops()\n",
    "print(qdc)\n",
    "\n",
    "qdc = qdc.reverse_bits()\n",
    "print(qdc)\n",
    "print(\n",
    "    \"Visual bug of qudit measure is created with all custom gates using \"\n",
    "    \"bit inputs in a different order compared to the plotted circuit.\"\n",
    "    \"It does not affect the data.\"\n",
    ")\n",
    "qdc[:]"
   ],
   "metadata": {
    "collapsed": false,
    "pycharm": {
     "name": "#%%\n",
     "is_executing": false
    }
   }
  },
  {
   "cell_type": "code",
   "execution_count": 3,
   "outputs": [
    {
     "name": "stdout",
     "text": [
      "      ┌─────┐     \nqd_0: ┤0    ├─────\n      │     │     \nqd_1: ┤1 ZD ├─────\n      │     │     \nqd_2: ┤2    ├─────\n      └─────┘     \nqd_3: ────────────\n       ┌───┐ ┌───┐\n q_0: ─┤ X ├─┤ Y ├\n       └───┘ └─┬─┘\n q_1: ─────────■──\n                  \n      ┌────────┐     \nqd_0: ┤0       ├─────\n      │        │     \nqd_1: ┤1 ZD_DG ├─────\n      │        │     \nqd_2: ┤2       ├─────\n      └────────┘     \nqd_3: ───────────────\n        ┌───┐   ┌───┐\n q_0: ──┤ Y ├───┤ X ├\n        └─┬─┘   └───┘\n q_1: ────■──────────\n                     \n      ┌─────────────────────────┐\nqd_0: ┤0                        ├\n      │                         │\nqd_1: ┤1                        ├\n      │                         │\nqd_2: ┤2                        ├\n      │  quditcircuit-13_dg^3.5 │\nqd_3: ┤3                        ├\n      │                         │\n q_0: ┤4                        ├\n      │                         │\n q_1: ┤5                        ├\n      └─────────────────────────┘ <class 'qiskit.circuit.quantumcircuit.QuantumCircuit'>\n                              \nq15_0: ───────────■───────────\n       ┌──────────┴──────────┐\n qd_0: ┤0                    ├\n       │                     │\n qd_1: ┤1                    ├\n       │                     │\n qd_2: ┤2                    ├\n       │  quditcircuit-13_dg │\n qd_3: ┤3                    ├\n       │                     │\n  q_0: ┤4                    ├\n       │                     │\n  q_1: ┤5                    ├\n       └─────────────────────┘ <class 'qiskit.circuit.quantumcircuit.QuantumCircuit'>\n"
     ],
     "output_type": "stream"
    }
   ],
   "source": [
    "qdc = QuditCircuit([5, 2], 2, 0)\n",
    "qdc.zd(0)\n",
    "qdc.x(0)\n",
    "qdc.cy(1,0)\n",
    "print(qdc)\n",
    "\n",
    "qdc = qdc.inverse()\n",
    "print(qdc)\n",
    "\n",
    "print(qdc.power(3.5), type(qdc.power(3.5))) # -> Quantumcircuit like documented\n",
    "\n",
    "print(qdc.control(), type(qdc.control())) # -> Quantumcircuit like documented"
   ],
   "metadata": {
    "collapsed": false,
    "pycharm": {
     "name": "#%%\n",
     "is_executing": false
    }
   }
  },
  {
   "cell_type": "code",
   "execution_count": 4,
   "outputs": [
    {
     "name": "stdout",
     "text": [
      "           ┌─────┐┌──────────┐   ┌──────────┐      \n     qd_0: ┤0    ├┤0         ├───┤0         ├──────\n           │     ││          │   │          │      \n     qd_1: ┤1 ZD ├┤1 BARRIER ├───┤1         ├──────\n           │     ││          │   │          │      \n     qd_2: ┤2    ├┤2         ├───┤2         ├──────\n           └─────┘└──────────┘   │          │      \n     qd_3: ──────────────────────┤          ├──────\n            ┌───┐    ┌───┐     ░ │          │┌─┐   \n      q_0: ─┤ X ├────┤ Y ├─────░─┤          ├┤M├───\n            └───┘    └─┬─┘     ░ │  MEASURE │└╥┘┌─┐\n      q_1: ────────────■───────░─┤          ├─╫─┤M├\n                               ░ │          │ ║ └╥┘\n      c_0: ══════════════════════╡          ╞═╬══╬═\n                                 │          │ ║  ║ \nmeasure_0: ══════════════════════╡0         ╞═╬══╬═\n                                 │          │ ║  ║ \nmeasure_1: ══════════════════════╡1         ╞═╬══╬═\n                                 │          │ ║  ║ \nmeasure_2: ══════════════════════╡2         ╞═╬══╬═\n                                 └──────────┘ ║  ║ \nmeasure_3: ═══════════════════════════════════╩══╬═\n                                                 ║ \nmeasure_4: ══════════════════════════════════════╩═\n                                                   \n           \n     qd_0: \n           \n     qd_1: \n           \n     qd_2: \n           \n     qd_3: \n           \n      q_0: \n           \n      q_1: \n           \n      c: 1/\n           \nmeasure: 5/\n           \n           ┌──────────────────┐\n     qd_0: ┤0                 ├\n           │                  │\n     qd_1: ┤1                 ├\n           │                  │\n     qd_2: ┤2                 ├\n           │                  │\n     qd_3: ┤3                 ├\n           │                  │\n      q_0: ┤4                 ├\n           │                  │\n      q_1: ┤5                 ├\n           │  quditcircuit-19 │\n      c_0: ╡0                 ╞\n           │                  │\nmeasure_0: ╡1                 ╞\n           │                  │\nmeasure_1: ╡2                 ╞\n           │                  │\nmeasure_2: ╡3                 ╞\n           │                  │\nmeasure_3: ╡4                 ╞\n           │                  │\nmeasure_4: ╡5                 ╞\n           └──────────────────┘\n           ┌──────────────────┐┌──────────────────┐┌──────────────────┐»\n     qd_0: ┤0                 ├┤0                 ├┤0                 ├»\n           │                  ││                  ││                  │»\n     qd_1: ┤1                 ├┤1                 ├┤1                 ├»\n           │                  ││                  ││                  │»\n     qd_2: ┤2                 ├┤2                 ├┤2                 ├»\n           │                  ││                  ││                  │»\n     qd_3: ┤3                 ├┤3                 ├┤3                 ├»\n           │                  ││                  ││                  │»\n      q_0: ┤4                 ├┤4                 ├┤4                 ├»\n           │                  ││                  ││                  │»\n      q_1: ┤5                 ├┤5                 ├┤5                 ├»\n           │  quditcircuit-19 ││  quditcircuit-19 ││  quditcircuit-19 │»\n      c_0: ╡0                 ╞╡0                 ╞╡0                 ╞»\n           │                  ││                  ││                  │»\nmeasure_0: ╡1                 ╞╡1                 ╞╡1                 ╞»\n           │                  ││                  ││                  │»\nmeasure_1: ╡2                 ╞╡2                 ╞╡2                 ╞»\n           │                  ││                  ││                  │»\nmeasure_2: ╡3                 ╞╡3                 ╞╡3                 ╞»\n           │                  ││                  ││                  │»\nmeasure_3: ╡4                 ╞╡4                 ╞╡4                 ╞»\n           │                  ││                  ││                  │»\nmeasure_4: ╡5                 ╞╡5                 ╞╡5                 ╞»\n           └──────────────────┘└──────────────────┘└──────────────────┘»\n«           ┌──────────────────┐┌──────────────────┐\n«     qd_0: ┤0                 ├┤0                 ├\n«           │                  ││                  │\n«     qd_1: ┤1                 ├┤1                 ├\n«           │                  ││                  │\n«     qd_2: ┤2                 ├┤2                 ├\n«           │                  ││                  │\n«     qd_3: ┤3                 ├┤3                 ├\n«           │                  ││                  │\n«      q_0: ┤4                 ├┤4                 ├\n«           │                  ││                  │\n«      q_1: ┤5                 ├┤5                 ├\n«           │  quditcircuit-19 ││  quditcircuit-19 │\n«      c_0: ╡0                 ╞╡0                 ╞\n«           │                  ││                  │\n«measure_0: ╡1                 ╞╡1                 ╞\n«           │                  ││                  │\n«measure_1: ╡2                 ╞╡2                 ╞\n«           │                  ││                  │\n«measure_2: ╡3                 ╞╡3                 ╞\n«           │                  ││                  │\n«measure_3: ╡4                 ╞╡4                 ╞\n«           │                  ││                  │\n«measure_4: ╡5                 ╞╡5                 ╞\n«           └──────────────────┘└──────────────────┘\n           ┌──────────────────┐┌──────────────────┐┌──────────────────┐\n     qd_0: ┤0                 ├┤0                 ├┤0                 ├\n           │                  ││                  ││                  │\n     qd_1: ┤1                 ├┤1                 ├┤1                 ├\n           │                  ││                  ││                  │\n     qd_2: ┤2                 ├┤2                 ├┤2                 ├\n           │                  ││                  ││                  │\n     qd_3: ┤3                 ├┤3                 ├┤3                 ├\n           │                  ││                  ││                  │\n      q_0: ┤4                 ├┤4                 ├┤4                 ├\n           │                  ││                  ││                  │\n      q_1: ┤5                 ├┤5                 ├┤5                 ├\n           │  quditcircuit-19 ││  quditcircuit-19 ││  quditcircuit-19 │\n      c_0: ╡0                 ╞╡0                 ╞╡0                 ╞\n           │                  ││                  ││                  │\nmeasure_0: ╡1                 ╞╡1                 ╞╡1                 ╞\n           │                  ││                  ││                  │\nmeasure_1: ╡2                 ╞╡2                 ╞╡2                 ╞\n           │                  ││                  ││                  │\nmeasure_2: ╡3                 ╞╡3                 ╞╡3                 ╞\n           │                  ││                  ││                  │\nmeasure_3: ╡4                 ╞╡4                 ╞╡4                 ╞\n           │                  ││                  ││                  │\nmeasure_4: ╡5                 ╞╡5                 ╞╡5                 ╞\n           └──────────────────┘└──────────────────┘└──────────────────┘\n"
     ],
     "output_type": "stream"
    }
   ],
   "source": [
    "qdc = QuditCircuit([5, 2], 2, 1)\n",
    "qdc.zd(0)\n",
    "qdc.x(0)\n",
    "qdc.cy(1,0)\n",
    "qdc.measure_active()\n",
    "print(qdc)\n",
    "\n",
    "print(qdc.repeat(0))\n",
    "print(qdc.repeat(1))\n",
    "print(qdc.repeat(5))\n",
    "\n",
    "print(qdc.power(3))"
   ],
   "metadata": {
    "collapsed": false,
    "pycharm": {
     "name": "#%%\n",
     "is_executing": false
    }
   }
  },
  {
   "cell_type": "code",
   "execution_count": 3,
   "outputs": [
    {
     "name": "stdout",
     "text": [
      "           ┌─────┐┌──────────┐   ┌──────────┐      \n     qd_0: ┤0    ├┤0         ├───┤0         ├──────\n           │     ││          │   │          │      \n     qd_1: ┤1 ZD ├┤1 BARRIER ├───┤1         ├──────\n           │     ││          │   │          │      \n     qd_2: ┤2    ├┤2         ├───┤2         ├──────\n           └─────┘└──────────┘   │          │      \n     qd_3: ──────────────────────┤          ├──────\n            ┌───┐    ┌───┐     ░ │          │┌─┐   \n      q_0: ─┤ X ├────┤ Y ├─────░─┤          ├┤M├───\n            └───┘    └─┬─┘     ░ │  MEASURE │└╥┘┌─┐\n      q_1: ────────────■───────░─┤          ├─╫─┤M├\n                               ░ │          │ ║ └╥┘\n      c_0: ══════════════════════╡          ╞═╬══╬═\n                                 │          │ ║  ║ \nmeasure_0: ══════════════════════╡0         ╞═╬══╬═\n                                 │          │ ║  ║ \nmeasure_1: ══════════════════════╡1         ╞═╬══╬═\n                                 │          │ ║  ║ \nmeasure_2: ══════════════════════╡2         ╞═╬══╬═\n                                 └──────────┘ ║  ║ \nmeasure_3: ═══════════════════════════════════╩══╬═\n                                                 ║ \nmeasure_4: ══════════════════════════════════════╩═\n                                                   \n           ┌─────┐┌──────────┐   ┌──────────┐      \n     qd_0: ┤0    ├┤0         ├───┤0         ├──────\n           │     ││          │   │          │      \n     qd_1: ┤1 ZD ├┤1 BARRIER ├───┤1         ├──────\n           │     ││          │   │          │      \n     qd_2: ┤2    ├┤2         ├───┤2         ├──────\n           └─────┘└──────────┘   │          │      \n     qd_3: ──────────────────────┤          ├──────\n            ┌───┐    ┌───┐     ░ │          │┌─┐   \n      q_0: ─┤ X ├────┤ Y ├─────░─┤          ├┤M├───\n            └───┘    └─┬─┘     ░ │  MEASURE │└╥┘┌─┐\n      q_1: ────────────■───────░─┤          ├─╫─┤M├\n                               ░ │          │ ║ └╥┘\n      c_0: ══════════════════════╡          ╞═╬══╬═\n                                 │          │ ║  ║ \nmeasure_0: ══════════════════════╡0         ╞═╬══╬═\n                                 │          │ ║  ║ \nmeasure_1: ══════════════════════╡1         ╞═╬══╬═\n                                 │          │ ║  ║ \nmeasure_2: ══════════════════════╡2         ╞═╬══╬═\n                                 └──────────┘ ║  ║ \nmeasure_3: ═══════════════════════════════════╩══╬═\n                                                 ║ \nmeasure_4: ══════════════════════════════════════╩═\n                                                   \nTrue\nTrue (<qiskit_qudits.circuit.gates.zd.ZDGate object at 0x00000201BF73BAC0>, [Qudit(QuditRegister(2, 'qd'), 0)], [], [])\nTrue (<qiskit.circuit.library.standard_gates.x.XGate object at 0x00000201BF7A3160>, [], [Qubit(QuantumRegister(2, 'q'), 0)], [])\nTrue (<qiskit.circuit.library.standard_gates.y.CYGate object at 0x00000201BF7A3190>, [], [Qubit(QuantumRegister(2, 'q'), 1), Qubit(QuantumRegister(2, 'q'), 0)], [])\nTrue (<qiskit_qudits.circuit.quditbarrier.QuditBarrier object at 0x00000201A453C520>, [Qudit(QuditRegister(2, 'qd'), 0)], [], [])\nTrue (<qiskit.circuit.barrier.Barrier object at 0x00000201A453C100>, [], [Qubit(QuantumRegister(2, 'q'), 0), Qubit(QuantumRegister(2, 'q'), 1)], [])\nTrue (<qiskit_qudits.circuit.quditmeasure.QuditMeasure object at 0x00000201A448B910>, [Qudit(QuditRegister(2, 'qd'), 0)], [], [Clbit(ClassicalRegister(5, 'measure'), 0), Clbit(ClassicalRegister(5, 'measure'), 1), Clbit(ClassicalRegister(5, 'measure'), 2)])\nTrue (<qiskit.circuit.measure.Measure object at 0x00000201A448B490>, [], [Qubit(QuantumRegister(2, 'q'), 0)], [Clbit(ClassicalRegister(5, 'measure'), 3)])\nTrue (<qiskit.circuit.measure.Measure object at 0x00000201A448B490>, [], [Qubit(QuantumRegister(2, 'q'), 1)], [Clbit(ClassicalRegister(5, 'measure'), 4)])\nTrue\n"
     ],
     "output_type": "stream"
    },
    {
     "name": "stderr",
     "text": [
      "C:\\Users\\Tim\\miniconda3\\envs\\qiskit\\lib\\site-packages\\qiskit\\visualization\\text.py:584: RuntimeWarning: The parameter \"cregbundle\" was disable, since an instruction needs to refer to individual classical wires\n  return \"\\n\".join(self.lines()).encode(self.encoding).decode(self.encoding)\n"
     ],
     "output_type": "stream"
    }
   ],
   "source": [
    "qdc = QuditCircuit([5, 2], 2, 1)\n",
    "qdc.zd(0)\n",
    "qdc.x(0)\n",
    "qdc.cy(1,0)\n",
    "qdc.measure_active()\n",
    "print(qdc)\n",
    "\n",
    "qdc2 = qdc.copy()\n",
    "print(qdc2)\n",
    "\n",
    "print(len(qdc.data) == len(qdc2.data))\n",
    "for qdc_qd_rule, qdc2_qd_rule in zip(qdc[0j:], qdc2[0j:]):\n",
    "    print(qdc_qd_rule == qdc2_qd_rule, qdc_qd_rule)\n",
    "\n",
    "print(qdc == qdc2)"
   ],
   "metadata": {
    "collapsed": false,
    "pycharm": {
     "name": "#%%\n",
     "is_executing": false
    }
   }
  },
  {
   "cell_type": "code",
   "execution_count": null,
   "outputs": [],
   "source": [
    "\n"
   ],
   "metadata": {
    "collapsed": false,
    "pycharm": {
     "name": "#%%\n"
    }
   }
  }
 ],
 "metadata": {
  "kernelspec": {
   "name": "pycharm-125a3851",
   "language": "python",
   "display_name": "PyCharm (quantum-computing)"
  },
  "language_info": {
   "codemirror_mode": {
    "name": "ipython",
    "version": 2
   },
   "file_extension": ".py",
   "mimetype": "text/x-python",
   "name": "python",
   "nbconvert_exporter": "python",
   "pygments_lexer": "ipython2",
   "version": "2.7.6"
  },
  "pycharm": {
   "stem_cell": {
    "cell_type": "raw",
    "source": [],
    "metadata": {
     "collapsed": false
    }
   }
  }
 },
 "nbformat": 4,
 "nbformat_minor": 0
}