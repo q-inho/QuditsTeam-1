{
 "cells": [
  {
   "cell_type": "code",
   "execution_count": 1,
   "metadata": {
    "collapsed": true,
    "pycharm": {
     "is_executing": false
    }
   },
   "outputs": [
    {
     "name": "stdout",
     "text": [
      "     \nq_0: \n     \nq_1: \n     \nq_2: \n      ------\n     \nq_0: \n     \nc: 1/\n      ------\n      \nqd_0: \n      \n c: 1/\n       ------\n     \nc: 1/\n      ------\n     \nq_0: \n      ------\n      \nqd_0: \n      \nqd_1: \n      \nqd_2: \n      \n q_0: \n      \n c: 2/\n       ------\n      \nqd_0: \n       ------\n     \nq_0: \n     \nc: 1/\n      ------\n     \nq_0: \n     \nq_1: \n     \nq_2: \n     \nc: 1/\n      ------\n      \nqd_0: \n      \nqd_1: \n      \nqd_2: \n      \nqd_3: \n      \nqd_4: \n      \nqd_5: \n      \n q_0: \n      \n q_1: \n      \n q_2: \n      \n c: 3/\n       ------\n"
     ],
     "output_type": "stream"
    },
    {
     "name": "stderr",
     "text": [
      "C:\\Users\\Tim\\Documents\\- Dokumente\\Code\\Qudits Hackathon 2021\\qiskit_qudits\\circuit\\quditcircuit.py:888: UserWarning: Qudit circuit drawer not implemented yet\n  warnings.warn(\"Qudit circuit drawer not implemented yet\")\n"
     ],
     "output_type": "stream"
    }
   ],
   "source": [
    "from qiskit import QuantumRegister, ClassicalRegister\n",
    "from qiskit_qudits import QuditCircuit, QuditRegister\n",
    "\n",
    "qdregs = [QuditRegister(qudit_dimensions, name='qd') for qudit_dimensions in [[2], [9, 4]]]\n",
    "qregs = [QuantumRegister(size, name='q') for size in [1, 3]]\n",
    "cregs = [ClassicalRegister(size, name='c') for size in [1, 3]]\n",
    "\n",
    "print(QuditCircuit(3), \"------\")\n",
    "print(QuditCircuit(1, 1), \"------\")\n",
    "print(QuditCircuit([2], 1), \"------\")\n",
    "print(QuditCircuit([], 0, 1), \"------\")\n",
    "print(QuditCircuit([], 1, 0), \"------\")\n",
    "print(QuditCircuit([2,4], 1, 2), \"------\")\n",
    "\n",
    "print(QuditCircuit(qdregs[0]), \"------\")\n",
    "print(QuditCircuit(cregs[0], qregs[0]), \"------\")\n",
    "print(QuditCircuit(qregs[1], cregs[0]), \"------\")\n",
    "print(QuditCircuit(qdregs[1], qregs[1], cregs[1]), \"------\")"
   ]
  },
  {
   "cell_type": "code",
   "execution_count": 2,
   "outputs": [
    {
     "name": "stdout",
     "text": [
      "           ┌─────┐┌──────────┐   ┌──────────┐      \n     qd_0: ┤0    ├┤0         ├───┤0         ├──────\n           │     ││          │   │          │      \n     qd_1: ┤1 ZD ├┤1 BARRIER ├───┤1         ├──────\n           │     ││          │   │          │      \n     qd_2: ┤2    ├┤2         ├───┤2         ├──────\n           └─────┘└──────────┘   │          │      \n     qd_3: ──────────────────────┤          ├──────\n            ┌───┐    ┌───┐     ░ │          │┌─┐   \n      q_0: ─┤ X ├────┤ Y ├─────░─┤          ├┤M├───\n            └───┘    └─┬─┘     ░ │  MEASURE │└╥┘┌─┐\n      q_1: ────────────■───────░─┤          ├─╫─┤M├\n                               ░ │          │ ║ └╥┘\n      c_0: ══════════════════════╡          ╞═╬══╬═\n                                 │          │ ║  ║ \nmeasure_0: ══════════════════════╡0         ╞═╬══╬═\n                                 │          │ ║  ║ \nmeasure_1: ══════════════════════╡1         ╞═╬══╬═\n                                 │          │ ║  ║ \nmeasure_2: ══════════════════════╡2         ╞═╬══╬═\n                                 └──────────┘ ║  ║ \nmeasure_3: ═══════════════════════════════════╩══╬═\n                                                 ║ \nmeasure_4: ══════════════════════════════════════╩═\n                                                   \n                 ┌──────────┐┌──────────┐┌─────┐     \n     qd_0: ──────┤0         ├┤0         ├┤0    ├─────\n                 │          ││          ││     │     \n     qd_1: ──────┤1         ├┤1 BARRIER ├┤1 ZD ├─────\n                 │          ││          ││     │     \n     qd_2: ──────┤2         ├┤2         ├┤2    ├─────\n                 │          │└──────────┘└─────┘     \n     qd_3: ──────┤          ├────────────────────────\n              ┌─┐│          │     ░       ┌───┐ ┌───┐\n      q_0: ───┤M├┤          ├─────░───────┤ Y ├─┤ X ├\n           ┌─┐└╥┘│  MEASURE │     ░       └─┬─┘ └───┘\n      q_1: ┤M├─╫─┤          ├─────░─────────■────────\n           └╥┘ ║ │          │     ░                  \n      c_0: ═╬══╬═╡          ╞════════════════════════\n            ║  ║ │          │                        \nmeasure_0: ═╬══╬═╡0         ╞════════════════════════\n            ║  ║ │          │                        \nmeasure_1: ═╬══╬═╡1         ╞════════════════════════\n            ║  ║ │          │                        \nmeasure_2: ═╬══╬═╡2         ╞════════════════════════\n            ║  ║ └──────────┘                        \nmeasure_3: ═╬══╩═════════════════════════════════════\n            ║                                        \nmeasure_4: ═╩════════════════════════════════════════\n                                                     \n                                                     \n     qd_3: ──────────────────────────────────────────\n                 ┌──────────┐┌──────────┐┌─────┐     \n     qd_0: ──────┤0         ├┤0         ├┤0    ├─────\n                 │          ││          ││     │     \n     qd_1: ──────┤1         ├┤1 BARRIER ├┤1 ZD ├─────\n                 │          ││          ││     │     \n     qd_2: ──────┤2         ├┤2         ├┤2    ├─────\n           ┌─┐   │          │└────░─────┘└─────┘     \n      q_1: ┤M├───┤          ├─────░─────────■────────\n           └╥┘┌─┐│          │     ░       ┌─┴─┐ ┌───┐\n      q_0: ─╫─┤M├┤          ├─────░───────┤ Y ├─┤ X ├\n            ║ └╥┘│  MEASURE │     ░       └───┘ └───┘\nmeasure_4: ═╩══╬═╡          ╞════════════════════════\n               ║ │          │                        \nmeasure_3: ════╩═╡          ╞════════════════════════\n                 │          │                        \nmeasure_2: ══════╡0         ╞════════════════════════\n                 │──────────│                        \nmeasure_1: ══════╡1         ╞════════════════════════\n                 │          │                        \nmeasure_0: ══════╡2         ╞════════════════════════\n                 │          │                        \n      c_0: ══════╪══════════╪════════════════════════\n                 │          │                        \nVisual bug of qudit measure is created with all custom gates using bit inputs in a different order compared to the plotted circuit.It does not affect the data.\n"
     ],
     "output_type": "stream"
    },
    {
     "name": "stderr",
     "text": [
      "C:\\Users\\Tim\\miniconda3\\envs\\qiskit\\lib\\site-packages\\qiskit\\visualization\\text.py:584: RuntimeWarning: The parameter \"cregbundle\" was disable, since an instruction needs to refer to individual classical wires\n  return \"\\n\".join(self.lines()).encode(self.encoding).decode(self.encoding)\n"
     ],
     "output_type": "stream"
    },
    {
     "data": {
      "text/plain": "[(<qiskit.circuit.measure.Measure at 0x24d323ea9a0>,\n  [Qubit(QuantumRegister(2, 'q'), 1)],\n  [Clbit(ClassicalRegister(5, 'measure'), 4)]),\n (<qiskit.circuit.measure.Measure at 0x24d323eaa60>,\n  [Qubit(QuantumRegister(2, 'q'), 0)],\n  [Clbit(ClassicalRegister(5, 'measure'), 3)]),\n (<qiskit_qudits.circuit.quditmeasure.QuditMeasure at 0x24d323eabe0>,\n  [Qubit(QuditRegister(4, 'qd'), 0),\n   Qubit(QuditRegister(4, 'qd'), 1),\n   Qubit(QuditRegister(4, 'qd'), 2)],\n  [Clbit(ClassicalRegister(5, 'measure'), 0),\n   Clbit(ClassicalRegister(5, 'measure'), 1),\n   Clbit(ClassicalRegister(5, 'measure'), 2)]),\n (<qiskit.circuit.barrier.Barrier at 0x24d323ea6d0>,\n  [Qubit(QuantumRegister(2, 'q'), 0), Qubit(QuantumRegister(2, 'q'), 1)],\n  []),\n (<qiskit_qudits.circuit.quditbarrier.QuditBarrier at 0x24d323ea130>,\n  [Qubit(QuditRegister(4, 'qd'), 0),\n   Qubit(QuditRegister(4, 'qd'), 1),\n   Qubit(QuditRegister(4, 'qd'), 2)],\n  []),\n (<qiskit.circuit.library.standard_gates.y.CYGate at 0x24d323eaaf0>,\n  [Qubit(QuantumRegister(2, 'q'), 1), Qubit(QuantumRegister(2, 'q'), 0)],\n  []),\n (<qiskit.circuit.library.standard_gates.x.XGate at 0x24d323ea6a0>,\n  [Qubit(QuantumRegister(2, 'q'), 0)],\n  []),\n (<qiskit_qudits.circuit.gates.zd.ZDGate at 0x24d323eaca0>,\n  [Qubit(QuditRegister(4, 'qd'), 0),\n   Qubit(QuditRegister(4, 'qd'), 1),\n   Qubit(QuditRegister(4, 'qd'), 2)],\n  [])]"
     },
     "metadata": {},
     "output_type": "execute_result",
     "execution_count": 2
    }
   ],
   "source": [
    "qdc = QuditCircuit([5, 2], 2, 1)\n",
    "qdc.zd(0)\n",
    "qdc.x(0)\n",
    "qdc.cy(1,0)\n",
    "qdc.measure_active()\n",
    "print(qdc)\n",
    "\n",
    "qdc = qdc.reverse_ops()\n",
    "print(qdc)\n",
    "\n",
    "qdc = qdc.reverse_bits()\n",
    "print(qdc)\n",
    "print(\n",
    "    \"Visual bug of qudit measure is created with all custom gates using \"\n",
    "    \"bit inputs in a different order compared to the plotted circuit.\"\n",
    "    \"It does not affect the data.\"\n",
    ")\n",
    "qdc[:]"
   ],
   "metadata": {
    "collapsed": false,
    "pycharm": {
     "name": "#%%\n",
     "is_executing": false
    }
   }
  },
  {
   "cell_type": "code",
   "execution_count": 3,
   "outputs": [
    {
     "name": "stdout",
     "text": [
      "       ┌──────────┐ \nq8_0: ─┤ RZ(8π/5) ├─\n      ┌┴──────────┤ \nq8_1: ┤ RZ(16π/5) ├─\n      ├───────────┴┐\nq8_2: ┤ RZ(20.106) ├\n      └────────────┘\n"
     ],
     "output_type": "stream"
    },
    {
     "traceback": [
      "\u001b[1;31m---------------------------------------------------------------------------\u001b[0m",
      "\u001b[1;31mTypeError\u001b[0m                                 Traceback (most recent call last)",
      "\u001b[1;32m<ipython-input-3-cfa6c013592a>\u001b[0m in \u001b[0;36m<module>\u001b[1;34m\u001b[0m\n\u001b[1;32m----> 1\u001b[1;33m \u001b[0mqdc\u001b[0m \u001b[1;33m=\u001b[0m \u001b[0mqdc\u001b[0m\u001b[1;33m.\u001b[0m\u001b[0minverse\u001b[0m\u001b[1;33m(\u001b[0m\u001b[1;33m)\u001b[0m\u001b[1;33m\u001b[0m\u001b[1;33m\u001b[0m\u001b[0m\n\u001b[0m\u001b[0;32m      2\u001b[0m \u001b[0mprint\u001b[0m\u001b[1;33m(\u001b[0m\u001b[0mqdc\u001b[0m\u001b[1;33m)\u001b[0m\u001b[1;33m\u001b[0m\u001b[1;33m\u001b[0m\u001b[0m\n\u001b[0;32m      3\u001b[0m \u001b[1;33m\u001b[0m\u001b[0m\n",
      "\u001b[1;32m~\\Documents\\- Dokumente\\Code\\Qudits Hackathon 2021\\qiskit_qudits\\circuit\\quditcircuit.py\u001b[0m in \u001b[0;36minverse\u001b[1;34m(self)\u001b[0m\n\u001b[0;32m    253\u001b[0m \u001b[1;33m\u001b[0m\u001b[0m\n\u001b[0;32m    254\u001b[0m         \u001b[1;32mfor\u001b[0m \u001b[0minst\u001b[0m\u001b[1;33m,\u001b[0m \u001b[0mqargs\u001b[0m\u001b[1;33m,\u001b[0m \u001b[0mcargs\u001b[0m \u001b[1;32min\u001b[0m \u001b[0mreversed\u001b[0m\u001b[1;33m(\u001b[0m\u001b[0mself\u001b[0m\u001b[1;33m.\u001b[0m\u001b[0mdata\u001b[0m\u001b[1;33m)\u001b[0m\u001b[1;33m:\u001b[0m\u001b[1;33m\u001b[0m\u001b[1;33m\u001b[0m\u001b[0m\n\u001b[1;32m--> 255\u001b[1;33m             \u001b[0minverse_circ\u001b[0m\u001b[1;33m.\u001b[0m\u001b[0m_append\u001b[0m\u001b[1;33m(\u001b[0m\u001b[0minst\u001b[0m\u001b[1;33m.\u001b[0m\u001b[0minverse\u001b[0m\u001b[1;33m(\u001b[0m\u001b[1;33m)\u001b[0m\u001b[1;33m,\u001b[0m \u001b[0mqargs\u001b[0m\u001b[1;33m,\u001b[0m \u001b[0mcargs\u001b[0m\u001b[1;33m)\u001b[0m\u001b[1;33m\u001b[0m\u001b[1;33m\u001b[0m\u001b[0m\n\u001b[0m\u001b[0;32m    256\u001b[0m         \u001b[1;32mreturn\u001b[0m \u001b[0minverse_circ\u001b[0m\u001b[1;33m\u001b[0m\u001b[1;33m\u001b[0m\u001b[0m\n\u001b[0;32m    257\u001b[0m \u001b[1;33m\u001b[0m\u001b[0m\n",
      "\u001b[1;32m~\\Documents\\- Dokumente\\Code\\Qudits Hackathon 2021\\qiskit_qudits\\circuit\\quditinstruction.py\u001b[0m in \u001b[0;36minverse\u001b[1;34m(self)\u001b[0m\n\u001b[0;32m    139\u001b[0m                 \u001b[1;32mand\u001b[0m \u001b[0man\u001b[0m \u001b[0minverse\u001b[0m \u001b[0mhas\u001b[0m \u001b[1;32mnot\u001b[0m \u001b[0mbeen\u001b[0m \u001b[0mimplemented\u001b[0m \u001b[1;32mfor\u001b[0m \u001b[0mit\u001b[0m\u001b[1;33m.\u001b[0m\u001b[1;33m\u001b[0m\u001b[1;33m\u001b[0m\u001b[0m\n\u001b[0;32m    140\u001b[0m         \"\"\"\n\u001b[1;32m--> 141\u001b[1;33m         \u001b[0mprint\u001b[0m\u001b[1;33m(\u001b[0m\u001b[0mself\u001b[0m\u001b[1;33m.\u001b[0m\u001b[0mdefinition\u001b[0m\u001b[1;33m)\u001b[0m\u001b[1;33m\u001b[0m\u001b[1;33m\u001b[0m\u001b[0m\n\u001b[0m\u001b[0;32m    142\u001b[0m         \u001b[1;32mif\u001b[0m \u001b[0mself\u001b[0m\u001b[1;33m.\u001b[0m\u001b[0mdefinition\u001b[0m \u001b[1;32mis\u001b[0m \u001b[1;32mNone\u001b[0m\u001b[1;33m:\u001b[0m\u001b[1;33m\u001b[0m\u001b[1;33m\u001b[0m\u001b[0m\n\u001b[0;32m    143\u001b[0m             \u001b[1;32mraise\u001b[0m \u001b[0mCircuitError\u001b[0m\u001b[1;33m(\u001b[0m\u001b[1;34m\"inverse() not implemented for %s.\"\u001b[0m \u001b[1;33m%\u001b[0m \u001b[0mself\u001b[0m\u001b[1;33m.\u001b[0m\u001b[0mname\u001b[0m\u001b[1;33m)\u001b[0m\u001b[1;33m\u001b[0m\u001b[1;33m\u001b[0m\u001b[0m\n",
      "\u001b[1;32m~\\miniconda3\\envs\\qiskit\\lib\\site-packages\\qiskit\\circuit\\instruction.py\u001b[0m in \u001b[0;36mdefinition\u001b[1;34m(self)\u001b[0m\n\u001b[0;32m    205\u001b[0m         \u001b[1;34m\"\"\"Return definition in terms of other basic gates.\"\"\"\u001b[0m\u001b[1;33m\u001b[0m\u001b[1;33m\u001b[0m\u001b[0m\n\u001b[0;32m    206\u001b[0m         \u001b[1;32mif\u001b[0m \u001b[0mself\u001b[0m\u001b[1;33m.\u001b[0m\u001b[0m_definition\u001b[0m \u001b[1;32mis\u001b[0m \u001b[1;32mNone\u001b[0m\u001b[1;33m:\u001b[0m\u001b[1;33m\u001b[0m\u001b[1;33m\u001b[0m\u001b[0m\n\u001b[1;32m--> 207\u001b[1;33m             \u001b[0mself\u001b[0m\u001b[1;33m.\u001b[0m\u001b[0m_define\u001b[0m\u001b[1;33m(\u001b[0m\u001b[1;33m)\u001b[0m\u001b[1;33m\u001b[0m\u001b[1;33m\u001b[0m\u001b[0m\n\u001b[0m\u001b[0;32m    208\u001b[0m         \u001b[1;32mreturn\u001b[0m \u001b[0mself\u001b[0m\u001b[1;33m.\u001b[0m\u001b[0m_definition\u001b[0m\u001b[1;33m\u001b[0m\u001b[1;33m\u001b[0m\u001b[0m\n\u001b[0;32m    209\u001b[0m \u001b[1;33m\u001b[0m\u001b[0m\n",
      "\u001b[1;32m~\\Documents\\- Dokumente\\Code\\Qudits Hackathon 2021\\qiskit_qudits\\circuit\\quditbarrier.py\u001b[0m in \u001b[0;36m_define\u001b[1;34m(self)\u001b[0m\n\u001b[0;32m     59\u001b[0m         ]\n\u001b[0;32m     60\u001b[0m         \u001b[1;32mfor\u001b[0m \u001b[0minst\u001b[0m\u001b[1;33m,\u001b[0m \u001b[0mqargs\u001b[0m\u001b[1;33m,\u001b[0m \u001b[0mcargs\u001b[0m \u001b[1;32min\u001b[0m \u001b[0mrules\u001b[0m\u001b[1;33m:\u001b[0m\u001b[1;33m\u001b[0m\u001b[1;33m\u001b[0m\u001b[0m\n\u001b[1;32m---> 61\u001b[1;33m             \u001b[0mqc\u001b[0m\u001b[1;33m.\u001b[0m\u001b[0m_append\u001b[0m\u001b[1;33m(\u001b[0m\u001b[0minst\u001b[0m\u001b[1;33m,\u001b[0m \u001b[0mqargs\u001b[0m\u001b[1;33m,\u001b[0m \u001b[0mcargs\u001b[0m\u001b[1;33m)\u001b[0m\u001b[1;33m\u001b[0m\u001b[1;33m\u001b[0m\u001b[0m\n\u001b[0m\u001b[0;32m     62\u001b[0m \u001b[1;33m\u001b[0m\u001b[0m\n\u001b[0;32m     63\u001b[0m         \u001b[0mself\u001b[0m\u001b[1;33m.\u001b[0m\u001b[0mdefinition\u001b[0m \u001b[1;33m=\u001b[0m \u001b[0mqc\u001b[0m\u001b[1;33m\u001b[0m\u001b[1;33m\u001b[0m\u001b[0m\n",
      "\u001b[1;32m~\\miniconda3\\envs\\qiskit\\lib\\site-packages\\qiskit\\circuit\\quantumcircuit.py\u001b[0m in \u001b[0;36m_append\u001b[1;34m(self, instruction, qargs, cargs)\u001b[0m\n\u001b[0;32m   1034\u001b[0m \u001b[1;33m\u001b[0m\u001b[0m\n\u001b[0;32m   1035\u001b[0m         \u001b[1;31m# do some compatibility checks\u001b[0m\u001b[1;33m\u001b[0m\u001b[1;33m\u001b[0m\u001b[1;33m\u001b[0m\u001b[0m\n\u001b[1;32m-> 1036\u001b[1;33m         \u001b[0mself\u001b[0m\u001b[1;33m.\u001b[0m\u001b[0m_check_dups\u001b[0m\u001b[1;33m(\u001b[0m\u001b[0mqargs\u001b[0m\u001b[1;33m)\u001b[0m\u001b[1;33m\u001b[0m\u001b[1;33m\u001b[0m\u001b[0m\n\u001b[0m\u001b[0;32m   1037\u001b[0m         \u001b[0mself\u001b[0m\u001b[1;33m.\u001b[0m\u001b[0m_check_qargs\u001b[0m\u001b[1;33m(\u001b[0m\u001b[0mqargs\u001b[0m\u001b[1;33m)\u001b[0m\u001b[1;33m\u001b[0m\u001b[1;33m\u001b[0m\u001b[0m\n\u001b[0;32m   1038\u001b[0m         \u001b[0mself\u001b[0m\u001b[1;33m.\u001b[0m\u001b[0m_check_cargs\u001b[0m\u001b[1;33m(\u001b[0m\u001b[0mcargs\u001b[0m\u001b[1;33m)\u001b[0m\u001b[1;33m\u001b[0m\u001b[1;33m\u001b[0m\u001b[0m\n",
      "\u001b[1;32m~\\miniconda3\\envs\\qiskit\\lib\\site-packages\\qiskit\\circuit\\quantumcircuit.py\u001b[0m in \u001b[0;36m_check_dups\u001b[1;34m(self, qubits)\u001b[0m\n\u001b[0;32m   1147\u001b[0m     \u001b[1;32mdef\u001b[0m \u001b[0m_check_dups\u001b[0m\u001b[1;33m(\u001b[0m\u001b[0mself\u001b[0m\u001b[1;33m,\u001b[0m \u001b[0mqubits\u001b[0m\u001b[1;33m)\u001b[0m\u001b[1;33m:\u001b[0m\u001b[1;33m\u001b[0m\u001b[1;33m\u001b[0m\u001b[0m\n\u001b[0;32m   1148\u001b[0m         \u001b[1;34m\"\"\"Raise exception if list of qubits contains duplicates.\"\"\"\u001b[0m\u001b[1;33m\u001b[0m\u001b[1;33m\u001b[0m\u001b[0m\n\u001b[1;32m-> 1149\u001b[1;33m         \u001b[0msqubits\u001b[0m \u001b[1;33m=\u001b[0m \u001b[0mset\u001b[0m\u001b[1;33m(\u001b[0m\u001b[0mqubits\u001b[0m\u001b[1;33m)\u001b[0m\u001b[1;33m\u001b[0m\u001b[1;33m\u001b[0m\u001b[0m\n\u001b[0m\u001b[0;32m   1150\u001b[0m         \u001b[1;32mif\u001b[0m \u001b[0mlen\u001b[0m\u001b[1;33m(\u001b[0m\u001b[0msqubits\u001b[0m\u001b[1;33m)\u001b[0m \u001b[1;33m!=\u001b[0m \u001b[0mlen\u001b[0m\u001b[1;33m(\u001b[0m\u001b[0mqubits\u001b[0m\u001b[1;33m)\u001b[0m\u001b[1;33m:\u001b[0m\u001b[1;33m\u001b[0m\u001b[1;33m\u001b[0m\u001b[0m\n\u001b[0;32m   1151\u001b[0m             \u001b[1;32mraise\u001b[0m \u001b[0mCircuitError\u001b[0m\u001b[1;33m(\u001b[0m\u001b[1;34m\"duplicate qubit arguments\"\u001b[0m\u001b[1;33m)\u001b[0m\u001b[1;33m\u001b[0m\u001b[1;33m\u001b[0m\u001b[0m\n",
      "\u001b[1;31mTypeError\u001b[0m: unhashable type: 'list'"
     ],
     "ename": "TypeError",
     "evalue": "unhashable type: 'list'",
     "output_type": "error"
    }
   ],
   "source": [
    "qdc = qdc.inverse()\n",
    "print(qdc)\n"
   ],
   "metadata": {
    "collapsed": false,
    "pycharm": {
     "name": "#%%\n",
     "is_executing": false
    }
   }
  }
 ],
 "metadata": {
  "kernelspec": {
   "name": "pycharm-125a3851",
   "language": "python",
   "display_name": "PyCharm (quantum-computing)"
  },
  "language_info": {
   "codemirror_mode": {
    "name": "ipython",
    "version": 2
   },
   "file_extension": ".py",
   "mimetype": "text/x-python",
   "name": "python",
   "nbconvert_exporter": "python",
   "pygments_lexer": "ipython2",
   "version": "2.7.6"
  },
  "pycharm": {
   "stem_cell": {
    "cell_type": "raw",
    "source": [],
    "metadata": {
     "collapsed": false
    }
   }
  }
 },
 "nbformat": 4,
 "nbformat_minor": 0
}