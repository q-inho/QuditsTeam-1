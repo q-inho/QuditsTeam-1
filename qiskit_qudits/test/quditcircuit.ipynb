{
 "cells": [
  {
   "cell_type": "code",
   "execution_count": 1,
   "metadata": {
    "collapsed": true,
    "pycharm": {
     "is_executing": false,
     "name": "#%%\n"
    }
   },
   "outputs": [
    {
     "name": "stdout",
     "text": [
      "[ClassicalRegister(1, 'c'), ClassicalRegister(3, 'meas')]\n        ┌───┐ ░ ┌─┐      \n   q_0: ┤ X ├─░─┤M├──────\n        └───┘ ░ └╥┘┌─┐   \n   q_1: ──────░──╫─┤M├───\n              ░  ║ └╥┘┌─┐\n   q_2: ──────░──╫──╫─┤M├\n              ░  ║  ║ └╥┘\n   c: 1/═════════╬══╬══╬═\n                 ║  ║  ║ \nmeas: 3/═════════╩══╩══╩═\n                 0  1  2 \n",
      "{'001 0': 99}\n"
     ],
     "output_type": "stream"
    },
    {
     "name": "stderr",
     "text": [
      "C:\\Users\\Tim\\Documents\\- Dokumente\\Code\\Qudits Hackathon 2021\\qiskit_qudits\\circuit\\quditcircuit.py:911: UserWarning: Qudit circuit drawer not implemented yet\n  warnings.warn(\"Qudit circuit drawer not implemented yet\")\n"
     ],
     "output_type": "stream"
    },
    {
     "data": {
      "text/plain": "[(<qiskit.circuit.library.standard_gates.x.XGate at 0x23087cda5e0>,\n  [Qubit(QuantumRegister(3, 'q'), 0)],\n  []),\n (<qiskit.circuit.barrier.Barrier at 0x23087d86b20>,\n  [Qubit(QuantumRegister(3, 'q'), 0),\n   Qubit(QuantumRegister(3, 'q'), 1),\n   Qubit(QuantumRegister(3, 'q'), 2)],\n  []),\n (<qiskit.circuit.measure.Measure at 0x23087caf880>,\n  [Qubit(QuantumRegister(3, 'q'), 0)],\n  [Clbit(ClassicalRegister(3, 'meas'), 0)]),\n (<qiskit.circuit.measure.Measure at 0x23087caf880>,\n  [Qubit(QuantumRegister(3, 'q'), 1)],\n  [Clbit(ClassicalRegister(3, 'meas'), 1)]),\n (<qiskit.circuit.measure.Measure at 0x23087caf880>,\n  [Qubit(QuantumRegister(3, 'q'), 2)],\n  [Clbit(ClassicalRegister(3, 'meas'), 2)])]"
     },
     "metadata": {},
     "output_type": "execute_result",
     "execution_count": 1
    }
   ],
   "source": [
    "from qiskit_qudits import QuditCircuit\n",
    "qdc = QuditCircuit(3, 1)\n",
    "#qdc.zd([0,1])\n",
    "qdc.x(0)\n",
    "qdc.measure_all()\n",
    "print(qdc.cregs)\n",
    "print(qdc)\n",
    "\n",
    "from qiskit import Aer, execute\n",
    "simulator = Aer.get_backend('qasm_simulator') #simulation part\n",
    "job = execute(qdc, simulator, shots=99)\n",
    "\n",
    "print(job.result().get_counts())\n",
    "\n",
    "qdc.data[:]"
   ]
  },
  {
   "cell_type": "code",
   "execution_count": 9,
   "outputs": [
    {
     "traceback": [
      "\u001b[1;31m---------------------------------------------------------------------------\u001b[0m",
      "\u001b[1;31mTypeError\u001b[0m                                 Traceback (most recent call last)",
      "\u001b[1;32m<ipython-input-9-ce68a49a6206>\u001b[0m in \u001b[0;36m<module>\u001b[1;34m\u001b[0m\n\u001b[0;32m      1\u001b[0m \u001b[0ml\u001b[0m \u001b[1;33m=\u001b[0m \u001b[0mlist\u001b[0m\u001b[1;33m(\u001b[0m\u001b[0mrange\u001b[0m\u001b[1;33m(\u001b[0m\u001b[1;36m10\u001b[0m\u001b[1;33m)\u001b[0m\u001b[1;33m)\u001b[0m\u001b[1;33m\u001b[0m\u001b[1;33m\u001b[0m\u001b[0m\n\u001b[0;32m      2\u001b[0m \u001b[0ml\u001b[0m\u001b[1;33m[\u001b[0m\u001b[1;36m5\u001b[0m\u001b[1;33m:\u001b[0m \u001b[1;36m7\u001b[0m\u001b[1;33m]\u001b[0m \u001b[1;33m=\u001b[0m \u001b[1;33m[\u001b[0m\u001b[1;36m0\u001b[0m\u001b[1;33m,\u001b[0m\u001b[1;36m0\u001b[0m\u001b[1;33m]\u001b[0m\u001b[1;33m\u001b[0m\u001b[1;33m\u001b[0m\u001b[0m\n\u001b[1;32m----> 3\u001b[1;33m \u001b[0mstr\u001b[0m\u001b[1;33m(\u001b[0m\u001b[1;33m*\u001b[0m\u001b[0ml\u001b[0m\u001b[1;33m)\u001b[0m\u001b[1;33m\u001b[0m\u001b[1;33m\u001b[0m\u001b[0m\n\u001b[0m\u001b[0;32m      4\u001b[0m \u001b[1;33m\u001b[0m\u001b[0m\n",
      "\u001b[1;31mTypeError\u001b[0m: str() takes at most 3 arguments (10 given)"
     ],
     "ename": "TypeError",
     "evalue": "str() takes at most 3 arguments (10 given)",
     "output_type": "error"
    }
   ],
   "source": [
    "l = list(range(10))\n",
    "l[5: 7] = [0,0]\n",
    "str(l)\n"
   ],
   "metadata": {
    "collapsed": false,
    "pycharm": {
     "name": "#%%\n",
     "is_executing": false
    }
   }
  }
 ],
 "metadata": {
  "kernelspec": {
   "name": "pycharm-125a3851",
   "language": "python",
   "display_name": "PyCharm (quantum-computing)"
  },
  "language_info": {
   "codemirror_mode": {
    "name": "ipython",
    "version": 2
   },
   "file_extension": ".py",
   "mimetype": "text/x-python",
   "name": "python",
   "nbconvert_exporter": "python",
   "pygments_lexer": "ipython2",
   "version": "2.7.6"
  },
  "pycharm": {
   "stem_cell": {
    "cell_type": "raw",
    "source": [],
    "metadata": {
     "collapsed": false
    }
   }
  }
 },
 "nbformat": 4,
 "nbformat_minor": 0
}