{
 "cells": [
  {
   "cell_type": "code",
   "execution_count": 1,
   "metadata": {
    "collapsed": true,
    "pycharm": {
     "is_executing": false
    }
   },
   "outputs": [
    {
     "name": "stdout",
     "text": [
      "     \nq_0: \n     \nq_1: \n     \nq_2: \n      ------\n     \nq_0: \n     \nc: 1/\n      ------\n      \nqd_0: \n      \n c: 1/\n       ------\n     \nc: 1/\n      ------\n     \nq_0: \n      ------\n      \nqd_0: \n      \nqd_1: \n      \nqd_2: \n      \n q_0: \n      \n c: 2/\n       ------\n      \nqd_0: \n       ------\n     \nq_0: \n     \nc: 1/\n      ------\n     \nq_0: \n     \nq_1: \n     \nq_2: \n     \nc: 1/\n      ------\n      \nqd_0: \n      \nqd_1: \n      \nqd_2: \n      \nqd_3: \n      \nqd_4: \n      \nqd_5: \n      \n q_0: \n      \n q_1: \n      \n q_2: \n      \n c: 3/\n       ------\n"
     ],
     "output_type": "stream"
    },
    {
     "name": "stderr",
     "text": [
      "C:\\Users\\Tim\\Documents\\- Dokumente\\Code\\Qudits Hackathon 2021\\qiskit_qudits\\circuit\\quditcircuit.py:891: UserWarning: Qudit circuit drawer not implemented yet\n  warnings.warn(\"Qudit circuit drawer not implemented yet\")\n"
     ],
     "output_type": "stream"
    }
   ],
   "source": [
    "from qiskit import QuantumRegister, ClassicalRegister\n",
    "from qiskit_qudits import QuditCircuit, QuditRegister\n",
    "\n",
    "qdregs = [QuditRegister(qudit_dimensions, name='qd') for qudit_dimensions in [[2], [9, 4]]]\n",
    "qregs = [QuantumRegister(size, name='q') for size in [1, 3]]\n",
    "cregs = [ClassicalRegister(size, name='c') for size in [1, 3]]\n",
    "\n",
    "print(QuditCircuit(3), \"------\")\n",
    "print(QuditCircuit(1, 1), \"------\")\n",
    "print(QuditCircuit([2], 1), \"------\")\n",
    "print(QuditCircuit([], 0, 1), \"------\")\n",
    "print(QuditCircuit([], 1, 0), \"------\")\n",
    "print(QuditCircuit([2,4], 1, 2), \"------\")\n",
    "\n",
    "print(QuditCircuit(qdregs[0]), \"------\")\n",
    "print(QuditCircuit(cregs[0], qregs[0]), \"------\")\n",
    "print(QuditCircuit(qregs[1], cregs[0]), \"------\")\n",
    "print(QuditCircuit(qdregs[1], qregs[1], cregs[1]), \"------\")"
   ]
  },
  {
   "cell_type": "code",
   "execution_count": 2,
   "outputs": [
    {
     "name": "stdout",
     "text": [
      "           ┌─────┐┌──────────┐   ┌──────────┐      \n     qd_0: ┤0    ├┤0         ├───┤0         ├──────\n           │     ││          │   │          │      \n     qd_1: ┤1 ZD ├┤1 BARRIER ├───┤1         ├──────\n           │     ││          │   │          │      \n     qd_2: ┤2    ├┤2         ├───┤2         ├──────\n           └─────┘└──────────┘   │          │      \n     qd_3: ──────────────────────┤          ├──────\n            ┌───┐    ┌───┐     ░ │          │┌─┐   \n      q_0: ─┤ X ├────┤ Y ├─────░─┤          ├┤M├───\n            └───┘    └─┬─┘     ░ │  MEASURE │└╥┘┌─┐\n      q_1: ────────────■───────░─┤          ├─╫─┤M├\n                               ░ │          │ ║ └╥┘\n      c_0: ══════════════════════╡          ╞═╬══╬═\n                                 │          │ ║  ║ \nmeasure_0: ══════════════════════╡0         ╞═╬══╬═\n                                 │          │ ║  ║ \nmeasure_1: ══════════════════════╡1         ╞═╬══╬═\n                                 │          │ ║  ║ \nmeasure_2: ══════════════════════╡2         ╞═╬══╬═\n                                 └──────────┘ ║  ║ \nmeasure_3: ═══════════════════════════════════╩══╬═\n                                                 ║ \nmeasure_4: ══════════════════════════════════════╩═\n                                                   \n                 ┌──────────┐┌──────────┐┌─────┐     \n     qd_0: ──────┤0         ├┤0         ├┤0    ├─────\n                 │          ││          ││     │     \n     qd_1: ──────┤1         ├┤1 BARRIER ├┤1 ZD ├─────\n                 │          ││          ││     │     \n     qd_2: ──────┤2         ├┤2         ├┤2    ├─────\n                 │          │└──────────┘└─────┘     \n     qd_3: ──────┤          ├────────────────────────\n              ┌─┐│          │     ░       ┌───┐ ┌───┐\n      q_0: ───┤M├┤          ├─────░───────┤ Y ├─┤ X ├\n           ┌─┐└╥┘│  MEASURE │     ░       └─┬─┘ └───┘\n      q_1: ┤M├─╫─┤          ├─────░─────────■────────\n           └╥┘ ║ │          │     ░                  \n      c_0: ═╬══╬═╡          ╞════════════════════════\n            ║  ║ │          │                        \nmeasure_0: ═╬══╬═╡0         ╞════════════════════════\n            ║  ║ │          │                        \nmeasure_1: ═╬══╬═╡1         ╞════════════════════════\n            ║  ║ │          │                        \nmeasure_2: ═╬══╬═╡2         ╞════════════════════════\n            ║  ║ └──────────┘                        \nmeasure_3: ═╬══╩═════════════════════════════════════\n            ║                                        \nmeasure_4: ═╩════════════════════════════════════════\n                                                     \n                                                     \n     qd_3: ──────────────────────────────────────────\n                 ┌──────────┐┌──────────┐┌─────┐     \n     qd_0: ──────┤0         ├┤0         ├┤0    ├─────\n                 │          ││          ││     │     \n     qd_1: ──────┤1         ├┤1 BARRIER ├┤1 ZD ├─────\n                 │          ││          ││     │     \n     qd_2: ──────┤2         ├┤2         ├┤2    ├─────\n           ┌─┐   │          │└────░─────┘└─────┘     \n      q_1: ┤M├───┤          ├─────░─────────■────────\n           └╥┘┌─┐│          │     ░       ┌─┴─┐ ┌───┐\n      q_0: ─╫─┤M├┤          ├─────░───────┤ Y ├─┤ X ├\n            ║ └╥┘│  MEASURE │     ░       └───┘ └───┘\nmeasure_4: ═╩══╬═╡          ╞════════════════════════\n               ║ │          │                        \nmeasure_3: ════╩═╡          ╞════════════════════════\n                 │          │                        \nmeasure_2: ══════╡0         ╞════════════════════════\n                 │──────────│                        \nmeasure_1: ══════╡1         ╞════════════════════════\n                 │          │                        \nmeasure_0: ══════╡2         ╞════════════════════════\n                 │          │                        \n      c_0: ══════╪══════════╪════════════════════════\n                 │          │                        \nVisual bug of qudit measure is created with all custom gates using bit inputs in a different order compared to the plotted circuit.It does not affect the data.\n"
     ],
     "output_type": "stream"
    },
    {
     "name": "stderr",
     "text": [
      "C:\\Users\\Tim\\miniconda3\\envs\\qiskit\\lib\\site-packages\\qiskit\\visualization\\text.py:584: RuntimeWarning: The parameter \"cregbundle\" was disable, since an instruction needs to refer to individual classical wires\n  return \"\\n\".join(self.lines()).encode(self.encoding).decode(self.encoding)\n"
     ],
     "output_type": "stream"
    },
    {
     "data": {
      "text/plain": "[(<qiskit.circuit.measure.Measure at 0x19c97705160>,\n  [Qubit(QuantumRegister(2, 'q'), 1)],\n  [Clbit(ClassicalRegister(5, 'measure'), 4)]),\n (<qiskit.circuit.measure.Measure at 0x19c97705850>,\n  [Qubit(QuantumRegister(2, 'q'), 0)],\n  [Clbit(ClassicalRegister(5, 'measure'), 3)]),\n (<qiskit_qudits.circuit.quditmeasure.QuditMeasure at 0x19c97705d90>,\n  [Qubit(QuditRegister(4, 'qd'), 0),\n   Qubit(QuditRegister(4, 'qd'), 1),\n   Qubit(QuditRegister(4, 'qd'), 2)],\n  [Clbit(ClassicalRegister(5, 'measure'), 0),\n   Clbit(ClassicalRegister(5, 'measure'), 1),\n   Clbit(ClassicalRegister(5, 'measure'), 2)]),\n (<qiskit.circuit.barrier.Barrier at 0x19c97705f10>,\n  [Qubit(QuantumRegister(2, 'q'), 0), Qubit(QuantumRegister(2, 'q'), 1)],\n  []),\n (<qiskit_qudits.circuit.quditbarrier.QuditBarrier at 0x19c97705520>,\n  [Qubit(QuditRegister(4, 'qd'), 0),\n   Qubit(QuditRegister(4, 'qd'), 1),\n   Qubit(QuditRegister(4, 'qd'), 2)],\n  []),\n (<qiskit.circuit.library.standard_gates.y.CYGate at 0x19c977cf850>,\n  [Qubit(QuantumRegister(2, 'q'), 1), Qubit(QuantumRegister(2, 'q'), 0)],\n  []),\n (<qiskit.circuit.library.standard_gates.x.XGate at 0x19c977cfbe0>,\n  [Qubit(QuantumRegister(2, 'q'), 0)],\n  []),\n (<qiskit_qudits.circuit.gates.zd.ZDGate at 0x19c977cfb80>,\n  [Qubit(QuditRegister(4, 'qd'), 0),\n   Qubit(QuditRegister(4, 'qd'), 1),\n   Qubit(QuditRegister(4, 'qd'), 2)],\n  [])]"
     },
     "metadata": {},
     "output_type": "execute_result",
     "execution_count": 2
    }
   ],
   "source": [
    "qdc = QuditCircuit([5, 2], 2, 1)\n",
    "qdc.zd(0)\n",
    "qdc.x(0)\n",
    "qdc.cy(1,0)\n",
    "qdc.measure_active()\n",
    "print(qdc)\n",
    "\n",
    "qdc = qdc.reverse_ops()\n",
    "print(qdc)\n",
    "\n",
    "qdc = qdc.reverse_bits()\n",
    "print(qdc)\n",
    "print(\n",
    "    \"Visual bug of qudit measure is created with all custom gates using \"\n",
    "    \"bit inputs in a different order compared to the plotted circuit.\"\n",
    "    \"It does not affect the data.\"\n",
    ")\n",
    "qdc[:]"
   ],
   "metadata": {
    "collapsed": false,
    "pycharm": {
     "name": "#%%\n",
     "is_executing": false
    }
   }
  },
  {
   "cell_type": "code",
   "execution_count": 4,
   "outputs": [
    {
     "name": "stdout",
     "text": [
      "      ┌─────┐     \nqd_0: ┤0    ├─────\n      │     │     \nqd_1: ┤1 ZD ├─────\n      │     │     \nqd_2: ┤2    ├─────\n      └─────┘     \nqd_3: ────────────\n       ┌───┐ ┌───┐\n q_0: ─┤ X ├─┤ Y ├\n       └───┘ └─┬─┘\n q_1: ─────────■──\n                  \n c: 1/════════════\n                  \n      ┌────────┐     \nqd_0: ┤0       ├─────\n      │        │     \nqd_1: ┤1 ZD_DG ├─────\n      │        │     \nqd_2: ┤2       ├─────\n      └────────┘     \nqd_3: ───────────────\n        ┌───┐   ┌───┐\n q_0: ──┤ Y ├───┤ X ├\n        └─┬─┘   └───┘\n q_1: ────■──────────\n                     \n c: 1/═══════════════\n                     \n"
     ],
     "output_type": "stream"
    }
   ],
   "source": [
    "qdc = QuditCircuit([5, 2], 2, 1)\n",
    "qdc.zd(0)\n",
    "qdc.x(0)\n",
    "qdc.cy(1,0)\n",
    "print(qdc)\n",
    "\n",
    "qdc = qdc.inverse()\n",
    "print(qdc)\n"
   ],
   "metadata": {
    "collapsed": false,
    "pycharm": {
     "name": "#%%\n",
     "is_executing": false
    }
   }
  }
 ],
 "metadata": {
  "kernelspec": {
   "name": "pycharm-125a3851",
   "language": "python",
   "display_name": "PyCharm (quantum-computing)"
  },
  "language_info": {
   "codemirror_mode": {
    "name": "ipython",
    "version": 2
   },
   "file_extension": ".py",
   "mimetype": "text/x-python",
   "name": "python",
   "nbconvert_exporter": "python",
   "pygments_lexer": "ipython2",
   "version": "2.7.6"
  },
  "pycharm": {
   "stem_cell": {
    "cell_type": "raw",
    "source": [],
    "metadata": {
     "collapsed": false
    }
   }
  }
 },
 "nbformat": 4,
 "nbformat_minor": 0
}