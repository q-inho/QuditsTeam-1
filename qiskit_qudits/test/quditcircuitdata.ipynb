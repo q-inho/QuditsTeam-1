{
 "cells": [
  {
   "cell_type": "code",
   "execution_count": 1,
   "metadata": {
    "collapsed": true,
    "pycharm": {
     "is_executing": false
    }
   },
   "outputs": [
    {
     "name": "stdout",
     "text": [
      "[Qubit(QuantumRegister(2, 'q'), 0), Qubit(QuantumRegister(2, 'q'), 1)]\n           ┌─────┐┌──────────┐   ┌──────────┐      \n     qd_0: ┤0    ├┤0         ├───┤0         ├──────\n           │     ││          │   │          │      \n     qd_1: ┤1 ZD ├┤1 BARRIER ├───┤1         ├──────\n           │     ││          │   │          │      \n     qd_2: ┤2    ├┤2         ├───┤2         ├──────\n           └─────┘└──────────┘   │          │      \n     qd_3: ──────────────────────┤          ├──────\n            ┌───┐              ░ │          │┌─┐   \n      q_0: ─┤ X ├──────■───────░─┤          ├┤M├───\n            └───┘    ┌─┴─┐     ░ │          │└╥┘┌─┐\n      q_1: ──────────┤ Y ├─────░─┤          ├─╫─┤M├\n                     └───┘     ░ │          │ ║ └╥┘\n      c_0: ══════════════════════╡  MEASURE ╞═╬══╬═\n                                 │          │ ║  ║ \n      c_1: ══════════════════════╡          ╞═╬══╬═\n                                 │          │ ║  ║ \n      c_2: ══════════════════════╡          ╞═╬══╬═\n                                 │          │ ║  ║ \n      c_3: ══════════════════════╡          ╞═╬══╬═\n                                 │          │ ║  ║ \nmeasure_0: ══════════════════════╡0         ╞═╬══╬═\n                                 │          │ ║  ║ \nmeasure_1: ══════════════════════╡1         ╞═╬══╬═\n                                 │          │ ║  ║ \nmeasure_2: ══════════════════════╡2         ╞═╬══╬═\n                                 └──────────┘ ║  ║ \nmeasure_3: ═══════════════════════════════════╩══╬═\n                                                 ║ \nmeasure_4: ══════════════════════════════════════╩═\n                                                   \n"
     ],
     "output_type": "stream"
    },
    {
     "name": "stderr",
     "text": [
      "C:\\Users\\Tim\\Documents\\- Dokumente\\Code\\Qudits Hackathon 2021\\qiskit_qudits\\circuit\\quditcircuit.py:855: UserWarning: Qudit circuit drawer not implemented yet\n  warnings.warn(\"Qudit circuit drawer not implemented yet\")\nC:\\Users\\Tim\\miniconda3\\envs\\qiskit\\lib\\site-packages\\qiskit\\visualization\\text.py:584: RuntimeWarning: The parameter \"cregbundle\" was disable, since an instruction needs to refer to individual classical wires\n  return \"\\n\".join(self.lines()).encode(self.encoding).decode(self.encoding)\n"
     ],
     "output_type": "stream"
    },
    {
     "data": {
      "text/plain": "[(<qiskit.circuit.library.standard_gates.x.XGate at 0x28f3a2e5b20>,\n  [Qubit(QuantumRegister(2, 'q'), 0)],\n  []),\n (<qiskit.circuit.library.standard_gates.y.CYGate at 0x28f3a3067f0>,\n  [Qubit(QuantumRegister(2, 'q'), 0), Qubit(QuantumRegister(2, 'q'), 1)],\n  []),\n (<qiskit_qudits.circuit.gates.zd.ZDGate at 0x28f6ddbe280>,\n  [Qubit(QuditRegister(4, 'qd'), 0),\n   Qubit(QuditRegister(4, 'qd'), 1),\n   Qubit(QuditRegister(4, 'qd'), 2)],\n  []),\n (<qiskit_qudits.circuit.quditbarrier.QuditBarrier at 0x28f6ddbe730>,\n  [Qubit(QuditRegister(4, 'qd'), 0),\n   Qubit(QuditRegister(4, 'qd'), 1),\n   Qubit(QuditRegister(4, 'qd'), 2)],\n  []),\n (<qiskit.circuit.barrier.Barrier at 0x28f6ddbe580>,\n  [Qubit(QuantumRegister(2, 'q'), 0), Qubit(QuantumRegister(2, 'q'), 1)],\n  []),\n (<qiskit_qudits.circuit.quditmeasure.QuditMeasure at 0x28f6ddbe970>,\n  [Qubit(QuditRegister(4, 'qd'), 0),\n   Qubit(QuditRegister(4, 'qd'), 1),\n   Qubit(QuditRegister(4, 'qd'), 2)],\n  [Clbit(ClassicalRegister(5, 'measure'), 0),\n   Clbit(ClassicalRegister(5, 'measure'), 1),\n   Clbit(ClassicalRegister(5, 'measure'), 2)]),\n (<qiskit.circuit.measure.Measure at 0x28f6ddbe910>,\n  [Qubit(QuantumRegister(2, 'q'), 0)],\n  [Clbit(ClassicalRegister(5, 'measure'), 3)]),\n (<qiskit.circuit.measure.Measure at 0x28f6ddbe910>,\n  [Qubit(QuantumRegister(2, 'q'), 1)],\n  [Clbit(ClassicalRegister(5, 'measure'), 4)])]"
     },
     "metadata": {},
     "output_type": "execute_result",
     "execution_count": 1
    }
   ],
   "source": [
    "from qiskit_qudits import QuditCircuit\n",
    "\n",
    "qdc = QuditCircuit([5,2], 2, 4)\n",
    "qdc.x(0)\n",
    "qdc.cy(0,1)\n",
    "qdc.zd(0)\n",
    "qdc.measure_active()\n",
    "print(qdc)\n",
    "qdc.data[:]"
   ]
  },
  {
   "cell_type": "code",
   "execution_count": 2,
   "outputs": [
    {
     "name": "stdout",
     "text": [
      "[Qubit(QuantumRegister(2, 'q'), 0), Qubit(QuantumRegister(2, 'q'), 1)]\n(<qiskit.circuit.library.standard_gates.x.XGate object at 0x0000028F6DEA05E0>, [], [Qubit(QuantumRegister(2, 'q'), 0)], [])\n[(<qiskit.circuit.library.standard_gates.y.CYGate object at 0x0000028F6DEA72B0>, [], [Qubit(QuantumRegister(2, 'q'), 0), Qubit(QuantumRegister(2, 'q'), 1)], []), (<qiskit_qudits.circuit.gates.zd.ZDGate object at 0x0000028F6DEA7FD0>, [Qudit(QuditRegister(2, 'qd'), 0)], [], [])]\n[(<qiskit.circuit.library.standard_gates.x.XGate object at 0x0000028F6DEA05E0>, [], [Qubit(QuantumRegister(2, 'q'), 0)], []), (<qiskit.circuit.library.standard_gates.y.CYGate object at 0x0000028F6DEA72B0>, [], [Qubit(QuantumRegister(2, 'q'), 0), Qubit(QuantumRegister(2, 'q'), 1)], []), (<qiskit_qudits.circuit.gates.zd.ZDGate object at 0x0000028F6DEA7FD0>, [Qudit(QuditRegister(2, 'qd'), 0)], [], []), (<qiskit_qudits.circuit.quditbarrier.QuditBarrier object at 0x0000028F6DEA7A60>, [Qudit(QuditRegister(2, 'qd'), 0)], [], []), (<qiskit.circuit.barrier.Barrier object at 0x0000028F6DE44070>, [], [Qubit(QuantumRegister(2, 'q'), 0), Qubit(QuantumRegister(2, 'q'), 1)], []), (<qiskit_qudits.circuit.quditmeasure.QuditMeasure object at 0x0000028F6DE44190>, [Qudit(QuditRegister(2, 'qd'), 0)], [], [Clbit(ClassicalRegister(5, 'measure'), 0), Clbit(ClassicalRegister(5, 'measure'), 1), Clbit(ClassicalRegister(5, 'measure'), 2)]), (<qiskit.circuit.measure.Measure object at 0x0000028F6DE44040>, [], [Qubit(QuantumRegister(2, 'q'), 0)], [Clbit(ClassicalRegister(5, 'measure'), 3)]), (<qiskit.circuit.measure.Measure object at 0x0000028F6DE44040>, [], [Qubit(QuantumRegister(2, 'q'), 1)], [Clbit(ClassicalRegister(5, 'measure'), 4)]), (<qiskit.circuit.library.standard_gates.x.XGate object at 0x0000028F6DEA05E0>, [], [Qubit(QuantumRegister(2, 'q'), 0)], []), (<qiskit.circuit.library.standard_gates.y.CYGate object at 0x0000028F6DEA72B0>, [], [Qubit(QuantumRegister(2, 'q'), 0), Qubit(QuantumRegister(2, 'q'), 1)], []), (<qiskit_qudits.circuit.gates.zd.ZDGate object at 0x0000028F6DEA7FD0>, [Qudit(QuditRegister(2, 'qd'), 0)], [], []), (<qiskit_qudits.circuit.quditbarrier.QuditBarrier object at 0x0000028F6DEA7A60>, [Qudit(QuditRegister(2, 'qd'), 0)], [], []), (<qiskit.circuit.barrier.Barrier object at 0x0000028F6DE44070>, [], [Qubit(QuantumRegister(2, 'q'), 0), Qubit(QuantumRegister(2, 'q'), 1)], []), (<qiskit_qudits.circuit.quditmeasure.QuditMeasure object at 0x0000028F6DE44190>, [Qudit(QuditRegister(2, 'qd'), 0)], [], [Clbit(ClassicalRegister(5, 'measure'), 0), Clbit(ClassicalRegister(5, 'measure'), 1), Clbit(ClassicalRegister(5, 'measure'), 2)]), (<qiskit.circuit.measure.Measure object at 0x0000028F6DE44040>, [], [Qubit(QuantumRegister(2, 'q'), 0)], [Clbit(ClassicalRegister(5, 'measure'), 3)]), (<qiskit.circuit.measure.Measure object at 0x0000028F6DE44040>, [], [Qubit(QuantumRegister(2, 'q'), 1)], [Clbit(ClassicalRegister(5, 'measure'), 4)])]\n<qiskit.circuit.library.standard_gates.y.CYGate object at 0x0000028F6DEA72B0> [Qubit(QuantumRegister(2, 'q'), 0), Qubit(QuantumRegister(2, 'q'), 1)] []\n<qiskit_qudits.circuit.gates.zd.ZDGate object at 0x0000028F6DEA7FD0> [Qubit(QuditRegister(4, 'qd'), 0), Qubit(QuditRegister(4, 'qd'), 1), Qubit(QuditRegister(4, 'qd'), 2)] []\n<qiskit_qudits.circuit.quditmeasure.QuditMeasure object at 0x0000028F6DE44190> [Qubit(QuditRegister(4, 'qd'), 0), Qubit(QuditRegister(4, 'qd'), 1), Qubit(QuditRegister(4, 'qd'), 2)] [Clbit(ClassicalRegister(5, 'measure'), 0), Clbit(ClassicalRegister(5, 'measure'), 1), Clbit(ClassicalRegister(5, 'measure'), 2)]\n<qiskit.circuit.measure.Measure object at 0x0000028F6DE44040> [Qubit(QuantumRegister(2, 'q'), 1)] [Clbit(ClassicalRegister(5, 'measure'), 4)]\n           ┌──────────┐     ┌──────────┐   ┌──────────┐      \n     qd_0: ┤0         ├─────┤0         ├───┤0         ├──────\n           │          │     │          │   │          │      \n     qd_1: ┤1 BARRIER ├─────┤1         ├───┤1         ├──────\n           │          │     │          │   │          │      \n     qd_2: ┤2         ├─────┤2         ├───┤2         ├──────\n           └──────────┘     │          │   │          │      \n     qd_3: ─────────────────┤          ├───┤          ├──────\n                            │          │   │          │ ░    \n      q_0: ─────■────────■──┤          ├───┤          ├─░────\n              ┌─┴─┐    ┌─┴─┐│          │┌─┐│          │ ░ ┌─┐\n      q_1: ───┤ Y ├────┤ Y ├┤          ├┤M├┤          ├─░─┤M├\n              └───┘    └───┘│          │└╥┘│          │ ░ └╥┘\n      c_0: ═════════════════╡  MEASURE ╞═╬═╡  MEASURE ╞════╬═\n                            │          │ ║ │          │    ║ \n      c_1: ═════════════════╡          ╞═╬═╡          ╞════╬═\n                            │          │ ║ │          │    ║ \n      c_2: ═════════════════╡          ╞═╬═╡          ╞════╬═\n                            │          │ ║ │          │    ║ \n      c_3: ═════════════════╡          ╞═╬═╡          ╞════╬═\n                            │          │ ║ │          │    ║ \nmeasure_0: ═════════════════╡0         ╞═╬═╡0         ╞════╬═\n                            │          │ ║ │          │    ║ \nmeasure_1: ═════════════════╡1         ╞═╬═╡1         ╞════╬═\n                            │          │ ║ │          │    ║ \nmeasure_2: ═════════════════╡2         ╞═╬═╡2         ╞════╬═\n                            └──────────┘ ║ └──────────┘    ║ \nmeasure_3: ══════════════════════════════╬═════════════════╬═\n                                         ║                 ║ \nmeasure_4: ══════════════════════════════╩═════════════════╩═\n                                                             \n"
     ],
     "output_type": "stream"
    },
    {
     "data": {
      "text/plain": "[(<qiskit.circuit.library.standard_gates.y.CYGate at 0x28f6dea72b0>,\n  [Qubit(QuantumRegister(2, 'q'), 0), Qubit(QuantumRegister(2, 'q'), 1)],\n  []),\n (<qiskit.circuit.library.standard_gates.y.CYGate at 0x28f6dea72b0>,\n  [Qubit(QuantumRegister(2, 'q'), 0), Qubit(QuantumRegister(2, 'q'), 1)],\n  []),\n (<qiskit.circuit.measure.Measure at 0x28f6de44040>,\n  [Qubit(QuantumRegister(2, 'q'), 1)],\n  [Clbit(ClassicalRegister(5, 'measure'), 4)]),\n (<qiskit_qudits.circuit.quditbarrier.QuditBarrier at 0x28f6dea7a60>,\n  [Qubit(QuditRegister(4, 'qd'), 0),\n   Qubit(QuditRegister(4, 'qd'), 1),\n   Qubit(QuditRegister(4, 'qd'), 2)],\n  []),\n (<qiskit.circuit.barrier.Barrier at 0x28f6de44070>,\n  [Qubit(QuantumRegister(2, 'q'), 0), Qubit(QuantumRegister(2, 'q'), 1)],\n  []),\n (<qiskit_qudits.circuit.quditmeasure.QuditMeasure at 0x28f6de44190>,\n  [Qubit(QuditRegister(4, 'qd'), 0),\n   Qubit(QuditRegister(4, 'qd'), 1),\n   Qubit(QuditRegister(4, 'qd'), 2)],\n  [Clbit(ClassicalRegister(5, 'measure'), 0),\n   Clbit(ClassicalRegister(5, 'measure'), 1),\n   Clbit(ClassicalRegister(5, 'measure'), 2)]),\n (<qiskit_qudits.circuit.quditmeasure.QuditMeasure at 0x28f6de44190>,\n  [Qubit(QuditRegister(4, 'qd'), 0),\n   Qubit(QuditRegister(4, 'qd'), 1),\n   Qubit(QuditRegister(4, 'qd'), 2)],\n  [Clbit(ClassicalRegister(5, 'measure'), 0),\n   Clbit(ClassicalRegister(5, 'measure'), 1),\n   Clbit(ClassicalRegister(5, 'measure'), 2)]),\n (<qiskit.circuit.measure.Measure at 0x28f6de44040>,\n  [Qubit(QuantumRegister(2, 'q'), 1)],\n  [Clbit(ClassicalRegister(5, 'measure'), 4)])]"
     },
     "metadata": {},
     "output_type": "execute_result",
     "execution_count": 2
    }
   ],
   "source": [
    "qdc = QuditCircuit([5,2], 2, 4)\n",
    "qdc.x(0)\n",
    "qdc.cy(0,1)\n",
    "qdc.zd(0)\n",
    "qdc.measure_active()\n",
    "\n",
    "print(qdc.data[0j])\n",
    "print(qdc.data[1j:3j])\n",
    "print(qdc.data * 2j)\n",
    "\n",
    "#cy (I)\n",
    "qdc.data[0] = qdc.data[1]\n",
    "\n",
    "#zd (QDI)\n",
    "qdc.data[-2] = qdc.data[2]\n",
    "\n",
    "#measure (QDI)\n",
    "qdc.data[-2j] = qdc.data[-3j]\n",
    "\n",
    "#measure (I)\n",
    "qdc.data[2j] = qdc.data[-1j]\n",
    "print(qdc)\n",
    "qdc.data[:]\n"
   ],
   "metadata": {
    "collapsed": false,
    "pycharm": {
     "name": "#%%\n",
     "is_executing": false
    }
   }
  },
  {
   "cell_type": "code",
   "execution_count": 10,
   "outputs": [
    {
     "name": "stdout",
     "text": [
      "[(<qiskit.circuit.library.standard_gates.x.XGate object at 0x0000028F6DEA0E50>, [], [Qubit(QuantumRegister(2, 'q'), 0)], []), (<qiskit_qudits.circuit.gates.zd.ZDGate object at 0x0000028F6DE442E0>, [Qudit(QuditRegister(2, 'qd'), 0)], [], [])]\n      ┌─────┐┌─────┐\nqd_0: ┤0    ├┤0    ├\n      │     ││     │\nqd_1: ┤1 ZD ├┤1 ZD ├\n      │     ││     │\nqd_2: ┤2    ├┤2    ├\n      └─────┘└─────┘\nqd_3: ──────────────\n       ┌───┐  ┌───┐ \n q_0: ─┤ X ├──┤ X ├─\n       └───┘  └───┘ \n q_1: ──────────────\n                    \n c: 4/══════════════\n                    \n"
     ],
     "output_type": "stream"
    }
   ],
   "source": [
    "qdc = QuditCircuit([5,2], 2, 4)\n",
    "qdc.x(0)\n",
    "qdc.zd(0)\n",
    "print(qdc.data * 1j)\n",
    "qdc.data = qdc.data * 2\n",
    "print(qdc)\n"
   ],
   "metadata": {
    "collapsed": false,
    "pycharm": {
     "name": "#%%\n",
     "is_executing": false
    }
   }
  }
 ],
 "metadata": {
  "kernelspec": {
   "name": "pycharm-125a3851",
   "language": "python",
   "display_name": "PyCharm (quantum-computing)"
  },
  "language_info": {
   "codemirror_mode": {
    "name": "ipython",
    "version": 2
   },
   "file_extension": ".py",
   "mimetype": "text/x-python",
   "name": "python",
   "nbconvert_exporter": "python",
   "pygments_lexer": "ipython2",
   "version": "2.7.6"
  },
  "pycharm": {
   "stem_cell": {
    "cell_type": "raw",
    "source": [],
    "metadata": {
     "collapsed": false
    }
   }
  }
 },
 "nbformat": 4,
 "nbformat_minor": 0
}