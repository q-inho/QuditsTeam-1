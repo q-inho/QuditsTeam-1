{
 "cells": [
  {
   "cell_type": "code",
   "execution_count": 5,
   "metadata": {
    "pycharm": {
     "is_executing": false
    }
   },
   "outputs": [],
   "source": [
    "from qiskit import *\n",
    "from qiskit import Aer\n",
    "from qiskit.circuit import *\n",
    "backend = Aer.get_backend('unitary_simulator')\n",
    "import numpy as np\n",
    "np.set_printoptions(linewidth=200, precision=3, suppress=True)\n",
    "from qiskit.quantum_info.operators import Operator"
   ]
  },
  {
   "cell_type": "code",
   "execution_count": 7,
   "metadata": {
    "pycharm": {
     "name": "#%%\n",
     "is_executing": false
    }
   },
   "outputs": [
    {
     "name": "stdout",
     "text": [
      "first qdsize is 3\n[[0 0 0 1 0 0 0 0]\n [0 1 0 0 0 0 0 0]\n [0 0 1 0 0 0 0 0]\n [1 0 0 0 0 0 0 0]\n [0 0 0 0 1 0 0 0]\n [0 0 0 0 0 1 0 0]\n [0 0 0 0 0 0 1 0]\n [0 0 0 0 0 0 0 1]] 8\nInput state is 0b0 and desired state is 0b11\n[[0], [1], [2]]\n{'011': 1000}\n"
     ],
     "output_type": "stream"
    },
    {
     "data": {
      "text/plain": "<Figure size 353.94x264.88 with 1 Axes>",
      "image/png": "[encoded data removed]"
     },
     "metadata": {},
     "output_type": "execute_result",
     "execution_count": 7
    }
   ],
   "source": [
    "N = 7 #dimension of the QuDit\n",
    "first_state = 0 #initial State\n",
    "second_state = 3 #final State\n",
    "\n",
    "qd_size = int(np.ceil(np.log2(N))) #later not needed\n",
    "print(\"first qdsize is\", qd_size)\n",
    "#qd_size = 2\n",
    "\n",
    "qd = QuantumRegister(qd_size)\n",
    "cd = ClassicalRegister(qd_size) #for measures, not needed, like measures in the middle of the computation\n",
    "qdc = QuantumCircuit(qd,cd)\n",
    "\n",
    "#check if 2**qd_size < first_state and second_state\n",
    "\n",
    "def qudit_swap(qdcircuit, qd_size, first_state, second_state):\n",
    "    bin_first_state, bin_second_state = [], []\n",
    "    \n",
    "    qd_swap_matrix = []\n",
    "    for i in range(2**qd_size):\n",
    "        swap_line = []\n",
    "        for j in range(2**qd_size):\n",
    "            if i==j:\n",
    "                swap_line.append(1)\n",
    "            else:\n",
    "                swap_line.append(0)\n",
    "        qd_swap_matrix.append(swap_line)\n",
    "        \n",
    "    qd_swap_matrix[first_state], qd_swap_matrix[second_state] = qd_swap_matrix[second_state], qd_swap_matrix[first_state]\n",
    "    print(np.matrix(qd_swap_matrix), len(qd_swap_matrix))\n",
    "    \n",
    "    print(\"Input state is\", bin(first_state), \"and desired state is\", bin(second_state))\n",
    "        \n",
    "    #initialises the initial state of the QuDit (not needed later)\n",
    "    #for i in range(qd_size): \n",
    "    #    if(bin_first_state[i] == 1):\n",
    "    #        qdcircuit.x(qd[i])\n",
    "    \n",
    "    qubits = []\n",
    "    for i in range(qd_size):\n",
    "        qubits.append([i])\n",
    "        \n",
    "    print(qubits)\n",
    "\n",
    "\n",
    "    qdc.unitary(qd_swap_matrix, qubits, label='cx')\n",
    "            \n",
    "    #for i in range(qd_size): #The \"swap part\". I don't use ancillary Qubits BUT i can use some if needed\n",
    "     #   if(bin_first_state[i] != bin_second_state[i]):\n",
    "      #      qdcircuit.x(qd[i])\n",
    "    \n",
    "    qdcircuit.measure(qd, cd) #optional, just to see if it works\n",
    "    \n",
    "    return qdcircuit\n",
    "\n",
    "qdc = qudit_swap(qdc, qd_size, first_state, second_state)\n",
    "\n",
    "simulator = Aer.get_backend('qasm_simulator') #simulation part\n",
    "job = execute(qdc, simulator, shots=1000)\n",
    "results = job.result()\n",
    "mesures = results.get_counts()\n",
    "print(mesures)\n",
    "\n",
    "qdc.draw(output = \"mpl\")\n"
   ]
  }
 ],
 "metadata": {
  "kernelspec": {
   "display_name": "Python 3",
   "language": "python",
   "name": "python3"
  },
  "language_info": {
   "codemirror_mode": {
    "name": "ipython",
    "version": 3
   },
   "file_extension": ".py",
   "mimetype": "text/x-python",
   "name": "python",
   "nbconvert_exporter": "python",
   "pygments_lexer": "ipython3",
   "version": "3.8.5"
  },
  "pycharm": {
   "stem_cell": {
    "cell_type": "raw",
    "source": [],
    "metadata": {
     "collapsed": false
    }
   }
  }
 },
 "nbformat": 4,
 "nbformat_minor": 5
}