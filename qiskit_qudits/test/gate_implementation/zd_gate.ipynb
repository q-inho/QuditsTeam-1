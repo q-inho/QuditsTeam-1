{
 "cells": [
  {
   "cell_type": "code",
   "execution_count": 14,
   "id": "e9a6e843-9e26-49e5-951f-b2664676a6ba",
   "metadata": {
    "pycharm": {
     "is_executing": false
    }
   },
   "outputs": [],
   "source": [
    "from qiskit import *\n",
    "from qiskit import Aer\n",
    "backend = Aer.get_backend('unitary_simulator')\n",
    "import numpy as np\n",
    "np.set_printoptions(linewidth=200, precision=2, suppress=True)"
   ]
  },
  {
   "cell_type": "code",
   "execution_count": 21,
   "id": "eafa6bb8-4f6e-4dde-a55b-06dc351efdf7",
   "metadata": {
    "pycharm": {
     "is_executing": false
    }
   },
   "outputs": [],
   "source": [
    "qudit_dimensions = [5] #later an given arguement\n",
    "qd_size = int(np.ceil(np.log2(qudit_dimensions[0]))) #later not needed\n",
    "\n",
    "qd = QuantumRegister(qd_size) #later replaced with QuditRegister(qudit_dimensions)\n",
    "qdc = QuantumCircuit(qd) #later replaced with QuditCircuit(qd)\n",
    "\n",
    "w = 2*np.pi/qudit_dimensions[0]\n",
    "for i in range(qd.size):\n",
    "    qdc.p(w*2**(qd.size-i-1), qd[qd.size-i-1]) #qd for multiple qudits (here not the case) will need qd[qudit_nr][qubit_nr]. qd[x] == qd[0][x]"
   ]
  },
  {
   "cell_type": "code",
   "execution_count": 22,
   "id": "711af75e-632e-419a-bc56-515d565f3b8b",
   "metadata": {
    "pycharm": {
     "is_executing": false
    }
   },
   "outputs": [
    {
     "name": "stdout",
     "text": [
      " [ 1.  +0.j    0.31+0.95j -0.81+0.59j -0.81-0.59j  0.31-0.95j  1.  -0.j    0.31+0.95j -0.81+0.59j]\n\n[[ 1.  +0.j    0.  +0.j    0.  +0.j    0.  +0.j    0.  +0.j    0.  +0.j    0.  +0.j    0.  +0.j  ]\n [ 0.  +0.j    0.31+0.95j  0.  +0.j    0.  +0.j    0.  +0.j    0.  +0.j    0.  +0.j    0.  +0.j  ]\n [-0.  +0.j   -0.  +0.j   -0.81+0.59j -0.  +0.j   -0.  +0.j   -0.  +0.j   -0.  +0.j   -0.  +0.j  ]\n [-0.  +0.j   -0.  +0.j   -0.  +0.j   -0.81-0.59j -0.  +0.j   -0.  +0.j   -0.  +0.j   -0.  +0.j  ]\n [ 0.  +0.j    0.  +0.j    0.  +0.j    0.  +0.j    0.31-0.95j  0.  +0.j    0.  +0.j    0.  +0.j  ]\n [ 0.  +0.j    0.  +0.j    0.  +0.j    0.  +0.j    0.  +0.j    1.  -0.j    0.  +0.j    0.  +0.j  ]\n [ 0.  +0.j    0.  +0.j    0.  +0.j    0.  +0.j    0.  +0.j    0.  +0.j    0.31+0.95j  0.  +0.j  ]\n [ 0.  +0.j    0.  +0.j    0.  +0.j    0.  +0.j    0.  +0.j    0.  +0.j    0.  +0.j   -0.81+0.59j]]\n"
     ],
     "output_type": "stream"
    },
    {
     "data": {
      "text/plain": "<Figure size 173.049x204.68 with 1 Axes>",
      "image/png": "[encoded data removed]"
     },
     "metadata": {},
     "output_type": "execute_result",
     "execution_count": 22
    }
   ],
   "source": [
    "job = execute(qdc, backend)\n",
    "result = job.result()\n",
    "U = result.get_unitary(qdc)\n",
    "print(\"\", np.round(np.exp(1j*w)**np.arange(2**qd.size), decimals=2))\n",
    "print()\n",
    "print(U)\n",
    "qdc.draw(output=\"mpl\")\n"
   ]
  }
 ],
 "metadata": {
  "kernelspec": {
   "display_name": "PyCharm (quantum-computing)",
   "language": "python",
   "name": "pycharm-125a3851"
  },
  "language_info": {
   "codemirror_mode": {
    "name": "ipython",
    "version": 3
   },
   "file_extension": ".py",
   "mimetype": "text/x-python",
   "name": "python",
   "nbconvert_exporter": "python",
   "pygments_lexer": "ipython3",
   "version": "3.9.4"
  },
  "pycharm": {
   "stem_cell": {
    "cell_type": "raw",
    "source": [],
    "metadata": {
     "collapsed": false
    }
   }
  }
 },
 "nbformat": 4,
 "nbformat_minor": 5
}